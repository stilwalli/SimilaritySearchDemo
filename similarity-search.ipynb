{
  "cells": [
    {
      "cell_type": "markdown",
      "id": "b9WJSM0wFFMP",
      "metadata": {
        "id": "b9WJSM0wFFMP"
      },
      "source": [
        "**Install Vertex AI SDK for Python**"
      ]
    },
    {
      "cell_type": "code",
      "execution_count": null,
      "id": "rI4IrKLkFF-b",
      "metadata": {
        "id": "rI4IrKLkFF-b",
        "tags": []
      },
      "outputs": [],
      "source": [
        "#Install Libraries\n",
        "! pip3 install --upgrade --user google-cloud-aiplatform"
      ]
    },
    {
      "cell_type": "code",
      "execution_count": 1,
      "id": "HRd9zwCl0g8h6S0viaWvPXnP",
      "metadata": {
        "executionInfo": {
          "elapsed": 194,
          "status": "ok",
          "timestamp": 1713745792034,
          "user": {
            "displayName": "",
            "userId": ""
          },
          "user_tz": 300
        },
        "id": "HRd9zwCl0g8h6S0viaWvPXnP",
        "tags": []
      },
      "outputs": [],
      "source": [
        "#Authenticate. Using this, since I was running for collab\n",
        "import sys\n",
        "\n",
        "# Additional authentication is required for Google Colab\n",
        "if \"google.colab\" in sys.modules:\n",
        "    # Authenticate user to Google Cloud\n",
        "    from google.colab import auth\n",
        "\n",
        "    auth.authenticate_user()"
      ]
    },
    {
      "cell_type": "code",
      "execution_count": 2,
      "id": "uRj3TqEWFZ1Q",
      "metadata": {
        "executionInfo": {
          "elapsed": 24246,
          "status": "ok",
          "timestamp": 1713745817559,
          "user": {
            "displayName": "",
            "userId": ""
          },
          "user_tz": 300
        },
        "id": "uRj3TqEWFZ1Q"
      },
      "outputs": [],
      "source": [
        "# Define project information\n",
        "PROJECT_ID = \"genai-387917\"  # @param {type:\"string\"}\n",
        "LOCATION = \"us-central1\"  # @param {type:\"string\"}\n",
        "\n",
        "# Initialize Vertex AI\n",
        "import vertexai\n",
        "\n",
        "vertexai.init(project=PROJECT_ID, location=LOCATION)"
      ]
    },
    {
      "cell_type": "code",
      "execution_count": 3,
      "id": "5f2lxihfFobs",
      "metadata": {
        "executionInfo": {
          "elapsed": 222,
          "status": "ok",
          "timestamp": 1713745819281,
          "user": {
            "displayName": "",
            "userId": ""
          },
          "user_tz": 300
        },
        "id": "5f2lxihfFobs"
      },
      "outputs": [],
      "source": [
        "from vertexai.generative_models import GenerationConfig, GenerativeModel, Image, Part"
      ]
    },
    {
      "cell_type": "code",
      "execution_count": 4,
      "id": "P6olI3H-VBsf",
      "metadata": {
        "colab": {
          "base_uri": "https://localhost:8080/",
          "height": 73
        },
        "executionInfo": {
          "elapsed": 12555,
          "status": "ok",
          "timestamp": 1713745833947,
          "user": {
            "displayName": "",
            "userId": ""
          },
          "user_tz": 300
        },
        "id": "P6olI3H-VBsf",
        "outputId": "dfa46e59-da6c-4cb9-d8d8-9004facf1cd1"
      },
      "outputs": [
        {
          "data": {
            "text/html": [
              "\n",
              "     <input type=\"file\" id=\"files-207e4fd4-7f6f-473d-8f2d-3d026e76c15c\" name=\"files[]\" multiple disabled\n",
              "        style=\"border:none\" />\n",
              "     <output id=\"result-207e4fd4-7f6f-473d-8f2d-3d026e76c15c\">\n",
              "      Upload widget is only available when the cell has been executed in the\n",
              "      current browser session. Please rerun this cell to enable.\n",
              "      </output>\n",
              "      <script>// Copyright 2017 Google LLC\n",
              "//\n",
              "// Licensed under the Apache License, Version 2.0 (the \"License\");\n",
              "// you may not use this file except in compliance with the License.\n",
              "// You may obtain a copy of the License at\n",
              "//\n",
              "//      http://www.apache.org/licenses/LICENSE-2.0\n",
              "//\n",
              "// Unless required by applicable law or agreed to in writing, software\n",
              "// distributed under the License is distributed on an \"AS IS\" BASIS,\n",
              "// WITHOUT WARRANTIES OR CONDITIONS OF ANY KIND, either express or implied.\n",
              "// See the License for the specific language governing permissions and\n",
              "// limitations under the License.\n",
              "\n",
              "/**\n",
              " * @fileoverview Helpers for google.colab Python module.\n",
              " */\n",
              "(function(scope) {\n",
              "function span(text, styleAttributes = {}) {\n",
              "  const element = document.createElement('span');\n",
              "  element.textContent = text;\n",
              "  for (const key of Object.keys(styleAttributes)) {\n",
              "    element.style[key] = styleAttributes[key];\n",
              "  }\n",
              "  return element;\n",
              "}\n",
              "\n",
              "// Max number of bytes which will be uploaded at a time.\n",
              "const MAX_PAYLOAD_SIZE = 100 * 1024;\n",
              "\n",
              "function _uploadFiles(inputId, outputId) {\n",
              "  const steps = uploadFilesStep(inputId, outputId);\n",
              "  const outputElement = document.getElementById(outputId);\n",
              "  // Cache steps on the outputElement to make it available for the next call\n",
              "  // to uploadFilesContinue from Python.\n",
              "  outputElement.steps = steps;\n",
              "\n",
              "  return _uploadFilesContinue(outputId);\n",
              "}\n",
              "\n",
              "// This is roughly an async generator (not supported in the browser yet),\n",
              "// where there are multiple asynchronous steps and the Python side is going\n",
              "// to poll for completion of each step.\n",
              "// This uses a Promise to block the python side on completion of each step,\n",
              "// then passes the result of the previous step as the input to the next step.\n",
              "function _uploadFilesContinue(outputId) {\n",
              "  const outputElement = document.getElementById(outputId);\n",
              "  const steps = outputElement.steps;\n",
              "\n",
              "  const next = steps.next(outputElement.lastPromiseValue);\n",
              "  return Promise.resolve(next.value.promise).then((value) => {\n",
              "    // Cache the last promise value to make it available to the next\n",
              "    // step of the generator.\n",
              "    outputElement.lastPromiseValue = value;\n",
              "    return next.value.response;\n",
              "  });\n",
              "}\n",
              "\n",
              "/**\n",
              " * Generator function which is called between each async step of the upload\n",
              " * process.\n",
              " * @param {string} inputId Element ID of the input file picker element.\n",
              " * @param {string} outputId Element ID of the output display.\n",
              " * @return {!Iterable<!Object>} Iterable of next steps.\n",
              " */\n",
              "function* uploadFilesStep(inputId, outputId) {\n",
              "  const inputElement = document.getElementById(inputId);\n",
              "  inputElement.disabled = false;\n",
              "\n",
              "  const outputElement = document.getElementById(outputId);\n",
              "  outputElement.innerHTML = '';\n",
              "\n",
              "  const pickedPromise = new Promise((resolve) => {\n",
              "    inputElement.addEventListener('change', (e) => {\n",
              "      resolve(e.target.files);\n",
              "    });\n",
              "  });\n",
              "\n",
              "  const cancel = document.createElement('button');\n",
              "  inputElement.parentElement.appendChild(cancel);\n",
              "  cancel.textContent = 'Cancel upload';\n",
              "  const cancelPromise = new Promise((resolve) => {\n",
              "    cancel.onclick = () => {\n",
              "      resolve(null);\n",
              "    };\n",
              "  });\n",
              "\n",
              "  // Wait for the user to pick the files.\n",
              "  const files = yield {\n",
              "    promise: Promise.race([pickedPromise, cancelPromise]),\n",
              "    response: {\n",
              "      action: 'starting',\n",
              "    }\n",
              "  };\n",
              "\n",
              "  cancel.remove();\n",
              "\n",
              "  // Disable the input element since further picks are not allowed.\n",
              "  inputElement.disabled = true;\n",
              "\n",
              "  if (!files) {\n",
              "    return {\n",
              "      response: {\n",
              "        action: 'complete',\n",
              "      }\n",
              "    };\n",
              "  }\n",
              "\n",
              "  for (const file of files) {\n",
              "    const li = document.createElement('li');\n",
              "    li.append(span(file.name, {fontWeight: 'bold'}));\n",
              "    li.append(span(\n",
              "        `(${file.type || 'n/a'}) - ${file.size} bytes, ` +\n",
              "        `last modified: ${\n",
              "            file.lastModifiedDate ? file.lastModifiedDate.toLocaleDateString() :\n",
              "                                    'n/a'} - `));\n",
              "    const percent = span('0% done');\n",
              "    li.appendChild(percent);\n",
              "\n",
              "    outputElement.appendChild(li);\n",
              "\n",
              "    const fileDataPromise = new Promise((resolve) => {\n",
              "      const reader = new FileReader();\n",
              "      reader.onload = (e) => {\n",
              "        resolve(e.target.result);\n",
              "      };\n",
              "      reader.readAsArrayBuffer(file);\n",
              "    });\n",
              "    // Wait for the data to be ready.\n",
              "    let fileData = yield {\n",
              "      promise: fileDataPromise,\n",
              "      response: {\n",
              "        action: 'continue',\n",
              "      }\n",
              "    };\n",
              "\n",
              "    // Use a chunked sending to avoid message size limits. See b/62115660.\n",
              "    let position = 0;\n",
              "    do {\n",
              "      const length = Math.min(fileData.byteLength - position, MAX_PAYLOAD_SIZE);\n",
              "      const chunk = new Uint8Array(fileData, position, length);\n",
              "      position += length;\n",
              "\n",
              "      const base64 = btoa(String.fromCharCode.apply(null, chunk));\n",
              "      yield {\n",
              "        response: {\n",
              "          action: 'append',\n",
              "          file: file.name,\n",
              "          data: base64,\n",
              "        },\n",
              "      };\n",
              "\n",
              "      let percentDone = fileData.byteLength === 0 ?\n",
              "          100 :\n",
              "          Math.round((position / fileData.byteLength) * 100);\n",
              "      percent.textContent = `${percentDone}% done`;\n",
              "\n",
              "    } while (position < fileData.byteLength);\n",
              "  }\n",
              "\n",
              "  // All done.\n",
              "  yield {\n",
              "    response: {\n",
              "      action: 'complete',\n",
              "    }\n",
              "  };\n",
              "}\n",
              "\n",
              "scope.google = scope.google || {};\n",
              "scope.google.colab = scope.google.colab || {};\n",
              "scope.google.colab._files = {\n",
              "  _uploadFiles,\n",
              "  _uploadFilesContinue,\n",
              "};\n",
              "})(self);\n",
              "</script> "
            ],
            "text/plain": [
              "<IPython.core.display.HTML object>"
            ]
          },
          "metadata": {},
          "output_type": "display_data"
        },
        {
          "name": "stdout",
          "output_type": "stream",
          "text": [
            "Saving prod_reviews.csv to prod_reviews.csv\n"
          ]
        }
      ],
      "source": [
        "#Load file that container product reviews.\n",
        "from google.colab import files\n",
        "uploaded = files.upload()"
      ]
    },
    {
      "cell_type": "code",
      "execution_count": null,
      "id": "o-uhdqGiFpeh",
      "metadata": {
        "id": "o-uhdqGiFpeh"
      },
      "outputs": [],
      "source": [
        "# Will use this later.\n",
        "#model = GenerativeModel(\"gemini-1.0-pro\")\n",
        "#responses = model.generate_content(\"Why is the sky blue?\", stream=True)\n",
        "\n",
        "#for response in responses:\n",
        "    #print(response.text, end=\"\")"
      ]
    },
    {
      "cell_type": "code",
      "execution_count": 5,
      "id": "4OKb9SEzJkcA",
      "metadata": {
        "executionInfo": {
          "elapsed": 925,
          "status": "ok",
          "timestamp": 1713745837120,
          "user": {
            "displayName": "",
            "userId": ""
          },
          "user_tz": 300
        },
        "id": "4OKb9SEzJkcA"
      },
      "outputs": [],
      "source": [
        "#Init Text Embedding model\n",
        "from vertexai.preview.language_models import TextEmbeddingModel\n",
        "model = TextEmbeddingModel.from_pretrained(\"textembedding-gecko@001\")"
      ]
    },
    {
      "cell_type": "code",
      "execution_count": 6,
      "id": "bVTfAFlLKE2B",
      "metadata": {
        "executionInfo": {
          "elapsed": 128,
          "status": "ok",
          "timestamp": 1713745838309,
          "user": {
            "displayName": "",
            "userId": ""
          },
          "user_tz": 300
        },
        "id": "bVTfAFlLKE2B"
      },
      "outputs": [],
      "source": [
        "#read all the reviews from the csv file that you uplaoded\n",
        "import pandas as pd\n",
        "df = pd.read_csv('prod_reviews.csv')"
      ]
    },
    {
      "cell_type": "code",
      "execution_count": 19,
      "id": "r7hF2elMKikM",
      "metadata": {
        "executionInfo": {
          "elapsed": 103,
          "status": "ok",
          "timestamp": 1713746407527,
          "user": {
            "displayName": "",
            "userId": ""
          },
          "user_tz": 300
        },
        "id": "r7hF2elMKikM"
      },
      "outputs": [],
      "source": [
        "#Get embeddings\n",
        "import time\n",
        "import tqdm  # to show a progress bar\n",
        "\n",
        "# get embeddings for a list of texts\n",
        "BATCH_SIZE = 5\n",
        "\n",
        "\n",
        "def get_embeddings_wrapper(texts):\n",
        "    embs = []\n",
        "    for i in tqdm.tqdm(range(0, len(texts), BATCH_SIZE)):\n",
        "        time.sleep(1)  # to avoid the quota error\n",
        "        result = model.get_embeddings(texts[i : i + BATCH_SIZE])\n",
        "        embs = embs + [e.values for e in result]\n",
        "    return embs"
      ]
    },
    {
      "cell_type": "code",
      "execution_count": 20,
      "id": "JMDPCQLNKj0I",
      "metadata": {
        "colab": {
          "base_uri": "https://localhost:8080/",
          "height": 380
        },
        "executionInfo": {
          "elapsed": 5723,
          "status": "ok",
          "timestamp": 1713746414457,
          "user": {
            "displayName": "",
            "userId": ""
          },
          "user_tz": 300
        },
        "id": "JMDPCQLNKj0I",
        "outputId": "7057d20e-1945-4340-ce18-74efec4c0a29"
      },
      "outputs": [
        {
          "name": "stderr",
          "output_type": "stream",
          "text": [
            "100%|██████████| 5/5 [00:05<00:00,  1.12s/it]\n"
          ]
        },
        {
          "data": {
            "text/html": [
              "\n",
              "  <div id=\"df-4499092b-d2e2-4d64-b5c1-9d519e31e850\" class=\"colab-df-container\">\n",
              "    <div>\n",
              "<style scoped>\n",
              "    .dataframe tbody tr th:only-of-type {\n",
              "        vertical-align: middle;\n",
              "    }\n",
              "\n",
              "    .dataframe tbody tr th {\n",
              "        vertical-align: top;\n",
              "    }\n",
              "\n",
              "    .dataframe thead th {\n",
              "        text-align: right;\n",
              "    }\n",
              "</style>\n",
              "<table border=\"1\" class=\"dataframe\">\n",
              "  <thead>\n",
              "    <tr style=\"text-align: right;\">\n",
              "      <th></th>\n",
              "      <th>id</th>\n",
              "      <th>reviews</th>\n",
              "      <th>embedding</th>\n",
              "    </tr>\n",
              "  </thead>\n",
              "  <tbody>\n",
              "    <tr>\n",
              "      <th>0</th>\n",
              "      <td>1</td>\n",
              "      <td>The product is good</td>\n",
              "      <td>[-0.039588287472724915, 0.0002919341204687953,...</td>\n",
              "    </tr>\n",
              "    <tr>\n",
              "      <th>1</th>\n",
              "      <td>2</td>\n",
              "      <td>The product is bad</td>\n",
              "      <td>[-0.013406762853264809, 0.01671764813363552, 0...</td>\n",
              "    </tr>\n",
              "    <tr>\n",
              "      <th>2</th>\n",
              "      <td>3</td>\n",
              "      <td>Did not work</td>\n",
              "      <td>[-0.01432005874812603, 0.03364266827702522, -0...</td>\n",
              "    </tr>\n",
              "    <tr>\n",
              "      <th>3</th>\n",
              "      <td>4</td>\n",
              "      <td>Horrible product</td>\n",
              "      <td>[0.001533816335722804, 0.03917508199810982, 0....</td>\n",
              "    </tr>\n",
              "    <tr>\n",
              "      <th>4</th>\n",
              "      <td>5</td>\n",
              "      <td>Would never buy</td>\n",
              "      <td>[-0.009193393401801586, 0.0014845000114291906,...</td>\n",
              "    </tr>\n",
              "    <tr>\n",
              "      <th>5</th>\n",
              "      <td>6</td>\n",
              "      <td>Loved it!</td>\n",
              "      <td>[0.0064478409476578236, -0.021919049322605133,...</td>\n",
              "    </tr>\n",
              "    <tr>\n",
              "      <th>6</th>\n",
              "      <td>7</td>\n",
              "      <td>Please don't buy!</td>\n",
              "      <td>[-0.02352028526365757, -0.002306506270542741, ...</td>\n",
              "    </tr>\n",
              "    <tr>\n",
              "      <th>7</th>\n",
              "      <td>8</td>\n",
              "      <td>Loved it!</td>\n",
              "      <td>[0.0064478409476578236, -0.021919049322605133,...</td>\n",
              "    </tr>\n",
              "    <tr>\n",
              "      <th>8</th>\n",
              "      <td>9</td>\n",
              "      <td>Bad customer service</td>\n",
              "      <td>[0.010052811354398727, -0.013862664811313152, ...</td>\n",
              "    </tr>\n",
              "    <tr>\n",
              "      <th>9</th>\n",
              "      <td>10</td>\n",
              "      <td>Loved it!</td>\n",
              "      <td>[0.0064478409476578236, -0.021919049322605133,...</td>\n",
              "    </tr>\n",
              "  </tbody>\n",
              "</table>\n",
              "</div>\n",
              "    <div class=\"colab-df-buttons\">\n",
              "\n",
              "  <div class=\"colab-df-container\">\n",
              "    <button class=\"colab-df-convert\" onclick=\"convertToInteractive('df-4499092b-d2e2-4d64-b5c1-9d519e31e850')\"\n",
              "            title=\"Convert this dataframe to an interactive table.\"\n",
              "            style=\"display:none;\">\n",
              "\n",
              "  <svg xmlns=\"http://www.w3.org/2000/svg\" height=\"24px\" viewBox=\"0 -960 960 960\">\n",
              "    <path d=\"M120-120v-720h720v720H120Zm60-500h600v-160H180v160Zm220 220h160v-160H400v160Zm0 220h160v-160H400v160ZM180-400h160v-160H180v160Zm440 0h160v-160H620v160ZM180-180h160v-160H180v160Zm440 0h160v-160H620v160Z\"/>\n",
              "  </svg>\n",
              "    </button>\n",
              "\n",
              "  <style>\n",
              "    .colab-df-container {\n",
              "      display:flex;\n",
              "      gap: 12px;\n",
              "    }\n",
              "\n",
              "    .colab-df-convert {\n",
              "      background-color: #E8F0FE;\n",
              "      border: none;\n",
              "      border-radius: 50%;\n",
              "      cursor: pointer;\n",
              "      display: none;\n",
              "      fill: #1967D2;\n",
              "      height: 32px;\n",
              "      padding: 0 0 0 0;\n",
              "      width: 32px;\n",
              "    }\n",
              "\n",
              "    .colab-df-convert:hover {\n",
              "      background-color: #E2EBFA;\n",
              "      box-shadow: 0px 1px 2px rgba(60, 64, 67, 0.3), 0px 1px 3px 1px rgba(60, 64, 67, 0.15);\n",
              "      fill: #174EA6;\n",
              "    }\n",
              "\n",
              "    .colab-df-buttons div {\n",
              "      margin-bottom: 4px;\n",
              "    }\n",
              "\n",
              "    [theme=dark] .colab-df-convert {\n",
              "      background-color: #3B4455;\n",
              "      fill: #D2E3FC;\n",
              "    }\n",
              "\n",
              "    [theme=dark] .colab-df-convert:hover {\n",
              "      background-color: #434B5C;\n",
              "      box-shadow: 0px 1px 3px 1px rgba(0, 0, 0, 0.15);\n",
              "      filter: drop-shadow(0px 1px 2px rgba(0, 0, 0, 0.3));\n",
              "      fill: #FFFFFF;\n",
              "    }\n",
              "  </style>\n",
              "\n",
              "    <script>\n",
              "      const buttonEl =\n",
              "        document.querySelector('#df-4499092b-d2e2-4d64-b5c1-9d519e31e850 button.colab-df-convert');\n",
              "      buttonEl.style.display =\n",
              "        google.colab.kernel.accessAllowed ? 'block' : 'none';\n",
              "\n",
              "      async function convertToInteractive(key) {\n",
              "        const element = document.querySelector('#df-4499092b-d2e2-4d64-b5c1-9d519e31e850');\n",
              "        const dataTable =\n",
              "          await google.colab.kernel.invokeFunction('convertToInteractive',\n",
              "                                                    [key], {});\n",
              "        if (!dataTable) return;\n",
              "\n",
              "        const docLinkHtml = 'Like what you see? Visit the ' +\n",
              "          '<a target=\"_blank\" href=https://colab.research.google.com/notebooks/data_table.ipynb>data table notebook</a>'\n",
              "          + ' to learn more about interactive tables.';\n",
              "        element.innerHTML = '';\n",
              "        dataTable['output_type'] = 'display_data';\n",
              "        await google.colab.output.renderOutput(dataTable, element);\n",
              "        const docLink = document.createElement('div');\n",
              "        docLink.innerHTML = docLinkHtml;\n",
              "        element.appendChild(docLink);\n",
              "      }\n",
              "    </script>\n",
              "  </div>\n",
              "\n",
              "\n",
              "<div id=\"df-a3391555-11d8-41de-b67e-5718618224bd\">\n",
              "  <button class=\"colab-df-quickchart\" onclick=\"quickchart('df-a3391555-11d8-41de-b67e-5718618224bd')\"\n",
              "            title=\"Suggest charts\"\n",
              "            style=\"display:none;\">\n",
              "\n",
              "<svg xmlns=\"http://www.w3.org/2000/svg\" height=\"24px\"viewBox=\"0 0 24 24\"\n",
              "     width=\"24px\">\n",
              "    <g>\n",
              "        <path d=\"M19 3H5c-1.1 0-2 .9-2 2v14c0 1.1.9 2 2 2h14c1.1 0 2-.9 2-2V5c0-1.1-.9-2-2-2zM9 17H7v-7h2v7zm4 0h-2V7h2v10zm4 0h-2v-4h2v4z\"/>\n",
              "    </g>\n",
              "</svg>\n",
              "  </button>\n",
              "\n",
              "<style>\n",
              "  .colab-df-quickchart {\n",
              "      --bg-color: #E8F0FE;\n",
              "      --fill-color: #1967D2;\n",
              "      --hover-bg-color: #E2EBFA;\n",
              "      --hover-fill-color: #174EA6;\n",
              "      --disabled-fill-color: #AAA;\n",
              "      --disabled-bg-color: #DDD;\n",
              "  }\n",
              "\n",
              "  [theme=dark] .colab-df-quickchart {\n",
              "      --bg-color: #3B4455;\n",
              "      --fill-color: #D2E3FC;\n",
              "      --hover-bg-color: #434B5C;\n",
              "      --hover-fill-color: #FFFFFF;\n",
              "      --disabled-bg-color: #3B4455;\n",
              "      --disabled-fill-color: #666;\n",
              "  }\n",
              "\n",
              "  .colab-df-quickchart {\n",
              "    background-color: var(--bg-color);\n",
              "    border: none;\n",
              "    border-radius: 50%;\n",
              "    cursor: pointer;\n",
              "    display: none;\n",
              "    fill: var(--fill-color);\n",
              "    height: 32px;\n",
              "    padding: 0;\n",
              "    width: 32px;\n",
              "  }\n",
              "\n",
              "  .colab-df-quickchart:hover {\n",
              "    background-color: var(--hover-bg-color);\n",
              "    box-shadow: 0 1px 2px rgba(60, 64, 67, 0.3), 0 1px 3px 1px rgba(60, 64, 67, 0.15);\n",
              "    fill: var(--button-hover-fill-color);\n",
              "  }\n",
              "\n",
              "  .colab-df-quickchart-complete:disabled,\n",
              "  .colab-df-quickchart-complete:disabled:hover {\n",
              "    background-color: var(--disabled-bg-color);\n",
              "    fill: var(--disabled-fill-color);\n",
              "    box-shadow: none;\n",
              "  }\n",
              "\n",
              "  .colab-df-spinner {\n",
              "    border: 2px solid var(--fill-color);\n",
              "    border-color: transparent;\n",
              "    border-bottom-color: var(--fill-color);\n",
              "    animation:\n",
              "      spin 1s steps(1) infinite;\n",
              "  }\n",
              "\n",
              "  @keyframes spin {\n",
              "    0% {\n",
              "      border-color: transparent;\n",
              "      border-bottom-color: var(--fill-color);\n",
              "      border-left-color: var(--fill-color);\n",
              "    }\n",
              "    20% {\n",
              "      border-color: transparent;\n",
              "      border-left-color: var(--fill-color);\n",
              "      border-top-color: var(--fill-color);\n",
              "    }\n",
              "    30% {\n",
              "      border-color: transparent;\n",
              "      border-left-color: var(--fill-color);\n",
              "      border-top-color: var(--fill-color);\n",
              "      border-right-color: var(--fill-color);\n",
              "    }\n",
              "    40% {\n",
              "      border-color: transparent;\n",
              "      border-right-color: var(--fill-color);\n",
              "      border-top-color: var(--fill-color);\n",
              "    }\n",
              "    60% {\n",
              "      border-color: transparent;\n",
              "      border-right-color: var(--fill-color);\n",
              "    }\n",
              "    80% {\n",
              "      border-color: transparent;\n",
              "      border-right-color: var(--fill-color);\n",
              "      border-bottom-color: var(--fill-color);\n",
              "    }\n",
              "    90% {\n",
              "      border-color: transparent;\n",
              "      border-bottom-color: var(--fill-color);\n",
              "    }\n",
              "  }\n",
              "</style>\n",
              "\n",
              "  <script>\n",
              "    async function quickchart(key) {\n",
              "      const quickchartButtonEl =\n",
              "        document.querySelector('#' + key + ' button');\n",
              "      quickchartButtonEl.disabled = true;  // To prevent multiple clicks.\n",
              "      quickchartButtonEl.classList.add('colab-df-spinner');\n",
              "      try {\n",
              "        const charts = await google.colab.kernel.invokeFunction(\n",
              "            'suggestCharts', [key], {});\n",
              "      } catch (error) {\n",
              "        console.error('Error during call to suggestCharts:', error);\n",
              "      }\n",
              "      quickchartButtonEl.classList.remove('colab-df-spinner');\n",
              "      quickchartButtonEl.classList.add('colab-df-quickchart-complete');\n",
              "    }\n",
              "    (() => {\n",
              "      let quickchartButtonEl =\n",
              "        document.querySelector('#df-a3391555-11d8-41de-b67e-5718618224bd button');\n",
              "      quickchartButtonEl.style.display =\n",
              "        google.colab.kernel.accessAllowed ? 'block' : 'none';\n",
              "    })();\n",
              "  </script>\n",
              "</div>\n",
              "    </div>\n",
              "  </div>\n"
            ],
            "text/plain": [
              "   id               reviews                                          embedding\n",
              "0   1   The product is good  [-0.039588287472724915, 0.0002919341204687953,...\n",
              "1   2    The product is bad  [-0.013406762853264809, 0.01671764813363552, 0...\n",
              "2   3          Did not work  [-0.01432005874812603, 0.03364266827702522, -0...\n",
              "3   4      Horrible product  [0.001533816335722804, 0.03917508199810982, 0....\n",
              "4   5       Would never buy  [-0.009193393401801586, 0.0014845000114291906,...\n",
              "5   6             Loved it!  [0.0064478409476578236, -0.021919049322605133,...\n",
              "6   7     Please don't buy!  [-0.02352028526365757, -0.002306506270542741, ...\n",
              "7   8             Loved it!  [0.0064478409476578236, -0.021919049322605133,...\n",
              "8   9  Bad customer service  [0.010052811354398727, -0.013862664811313152, ...\n",
              "9  10             Loved it!  [0.0064478409476578236, -0.021919049322605133,..."
            ]
          },
          "execution_count": 20,
          "metadata": {},
          "output_type": "execute_result"
        }
      ],
      "source": [
        "# get embeddings for the question titles and add them as \"embedding\" column\n",
        "df = df.assign(embedding=get_embeddings_wrapper(list(df.reviews)))\n",
        "df.head(10)"
      ]
    },
    {
      "cell_type": "code",
      "execution_count": 21,
      "id": "w1XuIc3te_7v",
      "metadata": {
        "executionInfo": {
          "elapsed": 99,
          "status": "ok",
          "timestamp": 1713746425405,
          "user": {
            "displayName": "",
            "userId": ""
          },
          "user_tz": 300
        },
        "id": "w1XuIc3te_7v"
      },
      "outputs": [],
      "source": [
        "from datetime import datetime\n",
        "UID = datetime.now().strftime(\"%m%d%H%M\")"
      ]
    },
    {
      "cell_type": "code",
      "execution_count": 23,
      "id": "JVSuKa0DQoh3",
      "metadata": {
        "colab": {
          "base_uri": "https://localhost:8080/"
        },
        "executionInfo": {
          "elapsed": 283,
          "status": "ok",
          "timestamp": 1713746645768,
          "user": {
            "displayName": "",
            "userId": ""
          },
          "user_tz": 300
        },
        "id": "JVSuKa0DQoh3",
        "outputId": "44366d68-85c3-46ed-9c88-7c611e52cf34"
      },
      "outputs": [
        {
          "name": "stdout",
          "output_type": "stream",
          "text": [
            "{\"id\":1,\"reviews\":\"The product is good\",\"embedding\":[-0.0395882875,0.0002919341,0.0292619653,0.0336313993,0.0248739924,-0.0636084005,-0.0001883781,0.0139750233,-0.0286372378,-0.0322874188,-0.0195468962,0.0299632363,0.0475748442,0.0300907753,-0.0002630139,0.0292436108,-0.0310235657,-0.0518661775,0.0129030077,-0.0401229821,-0.0770297274,0.0196099132,-0.0148634184,-0.025521392,-0.0467524007,-0.0708683059,0.0142272133,0.0657908842,-0.0292616114,-0.0284229908,0.0375614725,0.0068553509,-0.0180993155,-0.0145092681,0.0245220177,0.008315674,-0.0198020432,-0.0129505601,0.0087253256,0.0214294232,0.0475759804,0.0040128017,0.0121406261,-0.0065930886,-0.0360479616,-0.0255533066,-0.0397421531,0.0488053598,0.045827534,-0.0263289716,0.015853662,-0.0284047499,0.0523712784,0.0168017838,-0.0088839587,0.0089062694,-0.0497039668,-0.0281880312,-0.0383746363,-0.032352075,0.007918979,0.0281815697,-0.018905418,-0.0603494644,-0.0085123703,0.0120513793,0.0114198523,-0.0082937917,-0.0044286679,-0.0205152482,0.0139292749,-0.0036218066,-0.006353152,0.0134460516,-0.0389008485,-0.0177392382,0.028202923,0.0103752185,0.0668691099,-0.0375632904,-0.045969028,-0.0562257133,-0.0559904762,-0.1119720638,-0.0085103586,0.033524856,0.0814339444,-0.0198440142,-0.046533417,0.0159945656,0.0108546363,0.0447003692,0.0192836635,0.0505835935,0.0058203675,0.0059199934,-0.0024572317,0.0098931435,-0.0129364245,0.0214362647,-0.0077115786,-0.0604674965,-0.0066046095,-0.0231401064,0.0050260117,-0.0564258359,0.02606011,0.0098553756,-0.0042341361,-0.1251168251,-0.0380483866,0.0106908251,-0.0184149873,0.0108772935,-0.0083465716,-0.0326543413,0.0257941522,0.0144831948,0.042607408,0.0219481457,0.0005357661,0.0074976296,0.0082146777,0.0043081823,-0.0000834511,0.0218594838,0.0228610709,0.0274434481,0.0218949523,0.0102921799,0.0179463197,0.000222725,0.0472487397,-0.0037587858,0.0134935426,0.0303349029,0.0300577246,0.0222352762,0.0127315018,0.0941310301,-0.0468588993,-0.0253312793,-0.0130874403,0.0015651743,-0.0120872054,-0.0232961792,0.0292147305,-0.029170895,-0.0569435433,0.0169160403,0.0347053148,-0.0581726469,-0.0089652827,0.0103306044,0.0860221833,0.0527538285,0.0592568442,0.0539585277,0.0009081376,-0.0854051411,0.0184658319,-0.0291404296,0.0137606161,-0.0067997058,0.0309963021,-0.0263501834,0.0034868259,-0.0289597809,0.0135565829,0.0379215702,0.0477671884,-0.1063275784,0.011271772,-0.0138545102,0.0408818536,-0.0085877152,0.0038645181,0.0020684015,0.0383277386,-0.0279539227,-0.0335599594,-0.0466451347,0.0485105552,-0.0379882194,-0.0561850071,-0.0290745776,0.0297229756,-0.0818952024,-0.0064086267,0.0169799458,0.0359897278,0.0313550681,0.0118692741,-0.1155686229,-0.0350546427,-0.0110090561,0.0817998126,-0.0945405886,0.0121580381,0.0488781966,-0.0346180163,0.0018636549,0.0037250922,-0.000492764,-0.016425753,-0.009623115,-0.0778783634,0.0080612088,0.0654559508,-0.0245009642,0.0039421655,0.017086355,0.0986323953,-0.0360542983,-0.0373218469,0.0722845048,0.0214493424,-0.0679770336,-0.1080158129,-0.08564879,-0.0000274316,0.0374623574,0.0175399892,0.0357472971,0.0390008613,0.0486581363,-0.0010523964,0.0251064636,0.0635727122,0.0145633444,-0.0331763662,-0.0144758169,-0.0114723947,0.0252437331,-0.0138389263,-0.0220841225,0.0063869543,-0.0250352155,-0.0546873324,0.0129376603,-0.0034597893,0.0731600374,0.0131502589,0.006520635,-0.0190539453,0.0243886393,0.0007075551,0.0690131932,0.0224429686,-0.0004912086,0.0031225297,-0.0802996457,0.0323388055,0.0265860967,-0.0113158794,-0.0019683402,-0.0536875576,0.059081614,0.007137164,0.0002254589,-0.0002288818,-0.0156700891,0.07056918,0.0772261694,-0.0157554206,-0.0331556238,-0.0413503461,-0.0145130213,0.0410766713,-0.0176225565,0.0163494647,-0.0236628763,0.0138389701,0.021824304,0.0007223625,0.0349900723,-0.005625126,0.0324636772,-0.0210939385,0.0372110493,-0.032694649,-0.0163107049,-0.0035212005,0.0063110041,-0.0037150076,-0.0038962804,-0.0026062052,-0.0183043256,-0.01156219,-0.0736296624,0.0336353146,0.0360118747,-0.0295426268,0.0105300145,-0.0073755323,-0.005222844,0.0063401023,-0.0126516372,0.0284615941,0.011304711,0.0065480834,-0.0277276002,-0.0130172791,-0.0348099731,-0.0130928038,-0.0063878847,0.0295416322,0.0457914583,0.038013909,-0.025972873,-0.0106159747,0.0172263533,-0.0121682258,0.0086841127,-0.0592135862,0.0504402593,-0.0193434563,-0.006845647,-0.0535741076,0.0843626335,-0.0270074233,0.0528867394,0.0764470994,0.0400518142,-0.0003970391,0.0095399059,-0.0345294662,0.0337162875,0.0241754483,-0.0538214967,-0.039936889,0.0201658756,-0.0426488034,0.016160816,-0.0153623121,0.0434831306,-0.0003144906,0.0269145891,-0.0272518694,-0.0488609262,-0.0043169516,-0.0006070761,-0.0233040843,-0.0270266552,-0.0055549848,0.0450722352,-0.0089420807,-0.0226974133,-0.0109136663,-0.0567187257,0.0515662283,0.0179634131,-0.0105040846,0.0107093416,0.0044763624,-0.0102525065,0.0156583488,0.0276267491,0.0382792726,0.0081257122,-0.0485438928,-0.0040205014,-0.0308826696,0.014976264,-0.0177035145,0.0197421927,-0.0237951931,-0.0032396638,0.0340108164,-0.0110062119,0.0149050504,-0.0203699861,-0.0147418743,-0.0612926446,-0.056948185,0.0469147526,-0.0030142511,0.0423257239,-0.011775556,0.0403475985,-0.0238349549,0.0399714522,0.0134650059,-0.0149389924,0.0247683488,0.0169728752,0.0357009508,-0.006999047,-0.0003918912,-0.047583919,0.0071270373,0.0656751767,0.0000167993,-0.0301932171,-0.0228563473,0.0372667536,-0.0380504392,0.0083025349,-0.0299282558,-0.0350226462,0.0063594026,-0.0276903603,-0.0530731976,-0.0423198529,0.0233258624,0.0170691591,-0.0019525028,0.0145931048,-0.0284653306,-0.0117497807,0.019012183,0.0118452292,0.0074493713,0.0108260084,0.0340427831,-0.0033977469,0.0113125946,-0.0832310617,0.0053459047,-0.0205613691,0.0267315526,0.0000202922,-0.0528272502,0.0557454377,0.0039336821,-0.0159476083,-0.0412567481,0.0035346462,0.0261936057,-0.0351847485,-0.0658411384,-0.0211616941,0.0343994908,-0.0344577841,-0.0677710548,-0.0568890907,0.1403713822,0.0623187609,0.0378644764,-0.0242383163,-0.0455389321,0.0093386881,-0.0574993975,0.0472222567,-0.0369256847,-0.0436537005,0.0453384258,-0.0369558334,-0.1061849073,-0.0694703758,-0.0463973172,0.0261002127,-0.0402369536,0.1034610718,0.074376218,0.0359545723,0.0270905551,0.0333239436,-0.0251196567,0.0159101672,-0.0433958359,-0.0305532515,-0.0219595898,0.0053240554,0.0062746378,0.0157887898,0.0173965301,0.0202430822,0.0007054171,-0.0065531423,-0.0061089718,0.0425092727,-0.0467162542,0.0498045161,0.0578359999,0.0202261563,0.0260323361,0.0837413818,-0.0041591381,-0.0212082695,-0.022512896,-0.0130061964,-0.0108739082,-0.039445743,0.0321776047,0.0083093317,0.0054178913,0.0107109407,0.0182337668,0.0346994102,0.0551450998,-0.0006697695,0.0119549995,-0.038459301,0.0138517786,0.008483612,0.0052155945,-0.0009649275,-0.0108273914,0.0307862982,0.0041926717,-0.0308711845,0.0144640729,-0.0313346013,0.003650564,-0.0093943616,-0.0056193196,-0.0271242447,-0.0577733368,0.0070257285,-0.0123263439,0.0228082668,-0.0295898467,-0.0533363707,-0.0441643335,-0.0324646495,-0.0113790482,0.0369915403,0.011209351,-0.0529641993,0.0002431704,-0.0091617173,-0.0332269482,-0.0098864837,0.0544109568,0.059115503,0.0555505082,0.0164380651,-0.0216722153,-0.0208206233,0.0154663464,0.0326114744,-0.0083239581,-0.0376270041,-0.0310286339,-0.0635426491,0.0743451118,-0.0337415896,0.032729283,0.0340280607,-0.0612872466,-0.0307103656,0.0461696871,0.0569810979,0.0336541235,0.0511199571,0.0276591927,0.0292767305,0.0471608676,0.0505813658,0.0199033227,-0.0285300221,-0.0372483246,0.0642248467,0.0442195199,-0.0105013493,0.0273148511,-0.043749433,-0.0145016592,-0.0042065624,0.0040810229,0.023563616,0.0019082751,-0.0165537708,0.030064512,-0.0200120844,0.0146610038,0.0419428833,-0.0175032653,0.0344381258,-0.0123821693,-0.0114780553,-0.0071577649,0.0257954914,0.0117275165,0.0185947958,-0.0293453801,0.0004255197,-0.0023381291,0.0776466057,0.008264197,0.0274995845,-0.0145901935,0.0163302105,-0.0320282131,-0.0474485047,-0.0176788215,-0.0024702449,0.0134860445,-0.0453180633,-0.0024041878,-0.0994179696,-0.0047799684,0.0067237234,-0.014420487,-0.0333786458,0.0013161423,-0.020024728,0.0137246661,0.0047162562,0.0518235825,0.0410669446,0.0458839796,-0.0007206333,0.0296597071,0.0249269214,0.0205527917,0.0199865904,0.0024316858,0.0293092262,0.0550611205,0.0558426529,0.0113949385,-0.0467731655,-0.0256104767,-0.0047586351,-0.0527771637,0.0113724088,0.0263619274,0.0282670446,-0.0279314574,0.0334615558,-0.0143417632,-0.0607291944,0.013412009,0.0595313162,0.0461367331,0.0294954143,-0.0111918282,-0.0201923866,-0.0100405738,-0.0493228957,-0.0603476539,-0.0930684954,-0.0002318045,-0.0450533889,0.0061732815,0.0130013451,0.0095972335,0.0223395582,0.0313234888,-0.0017429178,-0.0109277498,-0.001946484,-0.0314443149,-0.0297506377,0.0032222457,-0.0512292832,-0.0131909084,0.0115028294,-0.0049653668,-0.0135158701,-0.0458284579,-0.0446275324,-0.0569169819,-0.0391947329,-0.0165899973,0.0218090732,-0.0016155243,0.0288367625,-0.0059374319,0.017001247,0.0304321181,0.0549630262,-0.0610858463,0.0609027147,-0.0187181942,0.0721389577,0.0441753753,0.010417358,-0.0228301175,-0.0564514324,-0.0320637487,-0.0413604937,0.081142664,-0.0187911652,-0.0217082836,0.0150090735,0.0544575639,0.006107715,-0.0225422923,-0.0265652835,-0.0200223923,-0.0093847718,-0.0002195066,-0.0284954533,-0.016340144,-0.024446398,-0.0072223986,-0.010588835,0.0064511131,0.0208696797,-0.10668502,-0.0086940248,0.0060670241,-0.0403364338,0.0166001655,-0.0019898042,0.0159345195,0.0010972642,-0.0376418307,0.0624012053,0.0372803286,0.0420319401,0.0372961089,-0.0336688757,0.0318601951,0.0096164653,0.0132957948,-0.0306833889,0.0140272705,-0.0684409291,0.0042587998,0.015305764,-0.0258088205,0.0472649038,-0.081053704,0.0302593186,-0.0147676924,0.0242564753,0.0239966195,0.0017385995,0.0391388834,-0.059622664,-0.0383766256,-0.0013113938,-0.0287565067,-0.0466562286,-0.0202826336,0.0480068922,-0.0342778377,-0.0183464941,0.0365383439,0.0298278797,0.0115617458,0.0038745245,0.033274468,0.0075693601,0.079321675,-0.0396945551,0.0007911831,0.0296240132,0.0404432379,-0.0107216379,0.0272059087,0.0014175155,0.0108874552,-0.0281684697,-0.0265187509,-0.0620194301,-0.0482053384,-0.0271621626,0.0562649369,0.0499226376,-0.0316566415,0.0655784979,0.0056457939,0.0407542475,0.0101858601,0.0072151627,-0.0336743966,0.047290951,-0.0297492538,0.0352486148,0.0550125539,-0.0305023585,-0.0052147228,-0.0105589982]}\n",
            "{\"id\":2,\"reviews\":\"The product is bad\",\"embedding\":[-0.0134067629,0.0167176481,0.0300627798,0.0051013026,0.017287137,-0.0163495634,-0.0199286509,-0.0162633471,-0.0044825324,-0.0290955026,-0.0291828215,0.0345717855,0.0379017368,0.0237800479,-0.0176922418,0.0232383497,-0.024835363,-0.0514285564,0.0033362936,-0.0406826101,-0.0858655274,0.013631152,0.0183493979,0.0095848553,-0.0254605431,-0.0848574936,0.0052678599,0.0405796245,-0.0488869287,0.0005813421,0.0335009731,0.0119035048,-0.0181960724,-0.0284239724,0.0124798305,-0.0062682903,-0.0071577118,-0.0039104666,0.0099613247,0.0364853032,0.0421942621,-0.0028280569,0.0114395777,0.0011112189,-0.0549138077,0.019449912,-0.0373338163,0.0858928636,0.0495820604,-0.0226660445,0.004773003,-0.0405161828,0.0350116715,0.0389263071,-0.0105990656,0.0202222001,-0.0136233419,-0.0190299843,-0.0298083648,-0.0166749097,-0.0076221707,0.0620391667,0.0060713026,-0.0523879826,-0.0094682695,0.0388393663,-0.0273120124,-0.0461414084,0.0184255969,-0.0279604606,0.0163811836,0.0158542544,-0.0236336961,0.0146204708,0.0076439497,-0.0017034609,0.0121418731,0.0260446668,0.0926669165,-0.0476982519,-0.0227592196,-0.0467583872,-0.0716944933,-0.0654512346,-0.0006737834,0.0666586608,0.0567777604,-0.0041285735,-0.0393831097,0.0094083324,-0.0387722179,-0.0053059766,0.0240681041,0.0280093607,-0.0096667623,0.0239446778,-0.0158608612,0.0033358994,-0.0217675176,-0.0084252227,-0.001636239,-0.052000057,0.0450479053,-0.0526726432,0.021644976,-0.0404793844,-0.0155228451,0.0100988187,-0.0094660735,-0.1415032595,-0.0353555754,0.0114207342,-0.0103408406,0.0134650823,-0.0117071858,-0.0321912505,0.0411786772,-0.0154676819,0.0054193484,0.0231400505,0.0004567016,0.0255350936,0.0299853776,0.0224680975,0.015699055,0.0077632838,0.0364124179,-0.0219339263,-0.0011076763,0.0010826276,0.0474710576,0.0100963749,0.0327694342,-0.0243867841,0.0117802406,0.0438596644,0.006220628,0.0307587385,-0.0039408961,0.0880815014,-0.0211228821,-0.0119580608,-0.0012949384,0.0107365362,0.0218394399,-0.0268999934,0.0429366305,-0.0610575564,-0.0738448203,-0.0022546884,0.047387667,-0.0442102551,-0.0094546946,0.0017451384,0.0616782717,0.0598291419,0.0838662535,0.0605735965,-0.0110587068,-0.0747787207,0.0476321653,-0.0523523688,-0.0074970182,-0.0533888116,0.0159799326,-0.0232005101,-0.0231720768,-0.0039014709,-0.0373763554,0.0054106778,0.0664405525,-0.1099198908,0.0042442656,-0.0086629158,0.0691063479,-0.0087161036,0.0165555775,-0.0110450182,0.0097785965,-0.0352777429,-0.0266596768,-0.0553116687,0.0352419838,-0.0331296958,-0.0915278941,-0.0040426599,-0.0194984637,-0.0588238798,-0.0117236255,0.0203144196,0.0119750481,0.0310938619,0.0133307194,-0.1261719465,-0.0436136872,0.0111408262,0.0775614157,-0.0604045503,0.0166865364,0.0269635487,-0.0477813967,-0.0294664539,-0.0091770021,-0.0057300739,-0.0387875475,-0.0299181473,-0.065317601,-0.000434739,0.0524673164,-0.0116163502,0.0111907395,-0.007006668,0.0792521536,-0.0439975336,-0.0633246228,0.0436181501,-0.0076955287,-0.034892831,-0.0411385521,-0.0437095352,0.009257989,0.0262174774,-0.0018083756,0.063120231,0.0011605695,0.065916121,-0.0133516109,0.0174088404,0.0446389802,-0.0092428904,-0.0327720046,-0.0263438951,-0.0225957986,-0.0031848387,-0.0172424279,0.0541191511,0.0541475825,0.0014519888,-0.0491128936,0.0009734676,-0.0033890593,0.1051674485,-0.004795311,0.0304334536,-0.0197654199,0.0264046099,-0.0124174841,0.0881993622,0.0520315357,-0.025239218,-0.037006557,-0.0594577752,-0.0068591735,-0.0008893512,0.0200319085,-0.010244119,-0.0669213161,0.0591829903,-0.0015755814,0.0026297388,0.0089010512,-0.0396733433,0.0931182131,0.0907207206,0.0162924659,-0.0426882952,-0.0374738388,-0.0104683787,0.0383866839,-0.0186108332,0.0024674416,-0.0392257199,0.0194111951,0.0328561999,-0.0185740087,0.0090116197,-0.0299417041,0.013068703,0.0067977398,0.0406328887,-0.0060551972,-0.0221536718,0.0067223352,-0.0032745681,0.0267696902,-0.0052800621,-0.0247227587,-0.0100689633,-0.0555419996,-0.0843987465,0.024300199,-0.0308958087,-0.0233694762,0.0057911999,-0.0394848548,-0.0078487117,0.0328586102,0.0087590311,-0.0143726366,0.0443693325,-0.010633586,-0.000678326,0.0152824828,-0.0433302894,0.0111918095,0.0112904087,0.0036219538,0.0426129885,0.0418299772,-0.0453908034,0.028328998,0.0214893054,-0.0186135788,0.000391084,-0.0727783442,0.0540541448,0.0089822495,-0.0222819038,-0.0107833995,0.0694011822,0.018192241,0.0152786542,0.0574282706,0.0220085923,-0.0006723333,-0.028995201,-0.0392287076,0.0001878408,0.0643709078,-0.0549031496,-0.0599018373,0.0330721848,-0.042085126,0.0213958006,-0.0193387512,0.0229468942,0.0044976431,0.0022923017,-0.0287956651,-0.0223750696,-0.0022499121,0.013663034,-0.028685987,-0.0013804623,-0.0379998535,0.0438367426,-0.0089309048,-0.0641130432,-0.0242638886,-0.0548217781,0.0326380208,0.0225784909,-0.0230591781,-0.0022117354,0.0346749127,-0.0085369796,0.0256473515,0.0138940839,0.0425140113,-0.0204316005,-0.0452866629,-0.0364173874,-0.0240217503,-0.0071180472,-0.0069571049,-0.0072955759,0.0041429834,0.0031558597,0.0284458306,0.0127811609,0.0119812414,0.0213924497,-0.0231774878,-0.0288647115,-0.0395955034,0.0282456949,-0.0389767848,0.0503667071,-0.0198241808,0.0020822231,-0.0310893375,0.0471770577,0.0274919681,-0.0087486468,0.0058482043,0.0277402978,0.0064478838,0.0339628123,-0.0171720237,-0.0157580823,0.0018082937,0.0752246007,0.0036427821,-0.0398751125,0.0167894233,0.0422048345,-0.0385765918,-0.0233397372,-0.0293933917,-0.0395542346,0.0330310613,-0.0204749983,-0.0614494681,-0.0249083415,0.0297028925,0.0310398936,-0.0114502525,0.0084051527,-0.0261574555,-0.0311071277,0.0146525912,-0.0118093453,0.0273727849,0.0248457454,0.0631406382,-0.0247198977,0.0155335814,-0.0659304932,0.0262636691,-0.0017003785,-0.0029348496,-0.0347814523,-0.0375586711,0.0432281718,0.0210387763,-0.0102861729,-0.0860355347,0.0070697223,-0.021058321,0.0200907178,-0.0521434732,0.0038018455,0.0446890928,-0.0106087793,-0.049803108,-0.074804917,0.113060154,0.0482219234,0.0408678129,-0.0478073023,-0.0241333824,0.0134004289,-0.0689454973,0.0489261784,0.0155429887,-0.0438367948,-0.0062766364,-0.0178468768,-0.0882791206,-0.0732771754,-0.0349636301,0.0269985497,-0.0076069394,0.1064577028,0.0151288761,0.052169729,0.0102820722,0.0291923303,-0.006125188,0.0025935976,-0.0556238405,-0.0192304626,-0.0480994992,-0.0099262139,0.004267728,0.0227911659,0.0306577533,0.0209183637,-0.0049883118,0.0354557484,-0.0235630292,0.0275695175,-0.0046188687,0.057802517,0.0555507988,-0.0067845266,0.0509856939,0.0853196159,0.031758856,-0.0317627601,-0.0382492766,0.0277037453,-0.0209226869,-0.0156741217,0.016356105,0.0150282057,0.0050342069,-0.0264373645,0.0001169471,-0.0008517585,0.0450840667,-0.008896783,0.0158640333,-0.0654901192,0.0037531476,-0.0127862031,0.0292087831,0.0012913268,0.005235842,0.0182536319,0.0417126603,0.0086198831,0.0186245535,-0.0007044844,-0.0396530107,-0.0257508364,0.0018992483,-0.0244943611,-0.065210022,0.0197968762,0.0006024409,0.0167216472,-0.0332968533,-0.0275960434,-0.0550538339,-0.0413417146,-0.0316605866,0.0723425895,0.0170691703,-0.0384383425,0.0021575114,0.0117638707,-0.0179777741,0.0184651688,0.0452670008,0.0546079278,0.0444706641,-0.0088924933,-0.0604180209,0.0059728222,0.0203470774,0.0217969362,-0.0058554038,-0.0238159131,0.004344956,-0.0825988427,0.0608391389,-0.0320530161,0.0173903573,0.1023892239,-0.0459143594,0.0099265408,0.0583564527,0.0713643283,0.0130229583,0.0013249151,0.047970172,0.0055651315,-0.0136554623,0.0579666831,0.021578094,-0.0339934789,-0.0258523412,0.0274974424,0.0302683767,-0.0169369932,-0.0083089406,-0.0381975845,-0.0290091243,0.0020484168,0.0057750721,-0.0028992221,0.018046204,-0.0028329631,0.0228555724,-0.0086169578,0.0143688945,0.0197600406,-0.0022617821,0.0400232412,-0.0235686377,-0.0290222149,-0.0003627154,0.021744594,0.0376081131,0.0162875112,-0.0050984207,0.0060710912,0.0253084637,0.0567561015,-0.0166552048,0.0323086753,-0.0291974749,0.0177496076,0.0019048834,-0.0160154849,-0.0143557582,-0.040141806,0.0284710228,-0.0223787669,-0.0116799213,-0.0941024423,0.0070371446,-0.0128478901,-0.0405726507,-0.0020961396,-0.0315815434,0.0381593443,0.0222273804,0.0036694009,0.0126260417,0.033441782,0.0297186784,-0.005183015,0.0279472563,0.0232628807,0.0316264518,-0.0095368018,0.0240564272,0.0317434222,0.0438438505,0.0464154407,-0.000978653,-0.0583657026,-0.0124801779,-0.0076725241,-0.0230739284,-0.0002630337,0.0282689035,0.0186259933,-0.0093353195,0.0337101407,-0.0376544409,-0.0807396472,0.0118917776,0.0466756672,0.0324294642,0.0436669961,-0.0164027009,0.0026487103,-0.0031004706,-0.060550753,-0.0345387496,-0.0988696218,-0.036117889,-0.0172687713,0.0128096044,0.0374934562,0.0176216345,0.0242877491,0.0012082211,-0.0168695785,0.0092550861,-0.0201352686,-0.0251813028,-0.0303277541,-0.0300714206,-0.0564825945,0.0148356929,0.0054381127,0.020230053,0.0029952228,-0.024196174,-0.0466964245,-0.0368465632,-0.0167720318,-0.0097301584,0.014371179,-0.0045078322,0.039086774,-0.0032621205,0.0323965773,0.054874476,0.0573987402,-0.064859502,0.0590611398,-0.0219702516,0.0742584169,0.0064790994,-0.0224848427,-0.0383056849,-0.0340169966,-0.0018754544,-0.0353262275,0.0888406038,-0.0175335165,-0.0001774654,0.0182361305,0.0158548187,0.011668195,-0.0481739715,-0.0707755014,-0.0000497147,-0.0068849111,0.0182145201,-0.0113597084,0.0081725903,-0.0377724692,0.02786595,-0.0183767341,0.0021579298,0.0114285648,-0.0777356476,-0.0291682538,-0.0259885974,-0.0201399177,-0.0314984098,-0.0115825292,0.0100286473,0.0258301962,-0.0411528349,0.0377846435,0.0339905769,0.0344128348,0.0338748097,-0.0336034484,0.0081845764,-0.0010630384,-0.0210132375,-0.0486425832,0.0027208657,-0.0686464608,0.0016926858,0.0069414703,-0.0100417696,0.0467034169,-0.060128551,0.0282357391,-0.0375936739,0.0159425903,-0.0152406776,0.0366113894,0.0569070168,-0.042823039,-0.0290495176,-0.0305820797,0.0181097742,-0.0447166823,-0.0290886723,0.0523437262,0.0063913544,0.0043054488,0.0429260805,0.033915557,0.0161882769,-0.0004340857,0.0691926405,-0.0115928324,0.0683654919,-0.037481539,0.0227767415,0.0292233657,0.0170625057,-0.0029633467,0.0188469943,-0.0012972078,0.0183177143,-0.0170574524,-0.026645517,-0.0647496805,-0.0440980643,-0.0358916596,0.0303430986,0.043601077,-0.0184725896,0.0355047695,0.003088162,0.0853702277,-0.003724474,0.0093708597,-0.0529956482,0.0716963783,-0.027846761,0.0112562319,0.0450249501,-0.0438380204,-0.0347023904,-0.0135395192]}\n",
            "{\"id\":3,\"reviews\":\"Did not work\",\"embedding\":[-0.0143200587,0.0336426683,-0.000561877,0.0060116961,0.0348844193,0.0154163111,0.0255362727,-0.0004671218,-0.0229247529,-0.0059451163,0.0244307145,0.0293240827,0.0413558595,0.0108768493,-0.0251052566,0.004654781,-0.0896795914,-0.044207558,0.0056360499,-0.0040308987,-0.0725513846,0.0020763436,0.0048862584,0.0190544575,-0.0422839746,-0.0765875354,0.0154711725,0.0218505152,-0.0643928424,-0.0381679088,0.023860829,0.0439359024,0.0277686138,-0.02393171,0.0026742732,0.0077678789,-0.046566572,0.0153431501,0.0175198708,0.0467648283,0.0158803016,-0.0030038066,0.0029103428,-0.0152072841,-0.0521701612,0.0235977601,-0.0693556219,0.0193064995,0.0138151385,-0.0238437038,-0.0397466123,-0.0378938019,0.0222902205,-0.0011357593,0.0109479176,0.0019837983,-0.0108602019,-0.0271175299,-0.0452773236,-0.0323603339,0.0448943637,0.0230218209,0.0333059467,-0.0296150222,-0.0029198134,0.0812064484,0.0020210647,-0.0276974589,0.0258236025,-0.0370837077,0.0223926567,0.0118768439,-0.0299375281,0.020856455,0.0488435812,-0.0002370752,-0.0059710294,0.0398285016,0.068212457,-0.0685478449,-0.0387400538,-0.0596496537,-0.0328164808,-0.0463698134,-0.041038271,0.0269612055,0.0203071721,0.0360353217,-0.0501802303,0.0094397012,-0.0521500632,0.0128301205,0.0092512732,0.0142923715,0.0000946558,0.0066253347,-0.000705483,0.0137176001,-0.0004638816,-0.0243087839,-0.0081816269,-0.025132319,0.0569681041,-0.0277613141,0.0625712797,-0.0162620135,-0.012886323,0.0811370015,-0.0415318832,-0.1654708385,-0.0361238681,0.0383164138,-0.011349136,0.0448535867,0.0636911169,-0.0131591046,0.028372921,0.029331984,0.0608333312,0.0149786249,-0.0071211583,0.0341173299,-0.0128477821,0.0482965522,0.0086654788,0.0438337103,0.0560209192,-0.0012760833,0.028501736,0.0037578961,0.0460524671,0.0188024212,0.0204089582,-0.0337071456,-0.0001172554,0.0277895238,-0.0235632788,0.0384321436,-0.0058775102,0.0681730583,-0.0206272211,0.0110348631,-0.0042200764,-0.02027856,0.0333861597,-0.0447675437,0.0566894338,0.00584355,-0.0468979888,-0.0293063261,0.0206137635,-0.0256509129,-0.0221575536,0.0137079097,0.0329244994,0.0689759627,0.0461340137,0.0146198403,-0.0293999203,-0.0547635108,0.0397590697,-0.0524835996,-0.0109741483,-0.0227584839,0.0071136849,0.015566702,0.0137098338,0.0245410409,-0.0486313067,0.0506340675,0.0806686655,-0.0986530632,0.0084443707,-0.0542383902,0.0283801313,0.0141312098,-0.0033865205,-0.0206954163,-0.0105019463,-0.0015519919,-0.019439403,-0.1126590222,0.0007777509,-0.0711519867,-0.0308326948,0.0214084927,-0.0155423507,-0.0286881011,-0.0282826684,0.0459191315,-0.0602417886,0.0174963418,0.0003833728,-0.0573185571,-0.0645244196,-0.0005192006,0.0787538737,-0.1051379889,-0.0172259603,0.0207029823,-0.0398611948,-0.0690035298,-0.0430285446,0.0044859331,-0.036477413,-0.005520625,-0.0590390749,0.0029128876,0.0170978233,0.068883948,0.0594717562,-0.0085132569,0.0876555517,-0.0018167099,0.001245425,0.004378499,0.0145050129,-0.0354633927,-0.0589275658,-0.0151896961,-0.0024135071,0.0385175422,-0.02241835,0.00981222,0.0050522014,0.01708919,0.0233207792,0.0275564473,0.0007859885,0.0200619809,-0.0014403758,0.016020203,-0.0306518972,0.0142877894,-0.0055368156,0.0429184027,-0.0234412942,-0.0107480902,-0.0824538469,0.0250253212,-0.0312781967,0.0422692299,-0.0441014953,0.0455617383,-0.0261223838,0.0329508223,-0.0434040017,0.0409492776,0.0606317073,-0.0356887542,-0.0175150204,-0.0735318139,-0.0147143323,0.0235668551,0.0330877267,0.0152972899,-0.0459008664,0.0741900057,-0.0129451128,0.0222505499,0.0120248105,0.0069568744,0.0383497253,0.0903362855,-0.0208765529,-0.0733775795,-0.0329285786,-0.0072214291,0.058499001,-0.0255259257,0.0162799358,-0.0118302302,0.0521537364,0.0042155064,-0.0036740631,-0.0189537648,-0.0548887365,0.0471442863,0.0468652286,0.0723053217,0.0340293311,0.0192534663,0.0080210306,0.0833231658,0.0170330573,-0.0211865753,0.0038760386,0.0392068997,-0.0234251861,-0.0149909155,-0.0121549396,-0.0240719896,0.0054067546,0.0057316637,-0.0135166338,0.0212817825,0.052715376,-0.0376069397,-0.0399903581,0.0341355801,0.0177102629,-0.0250946246,-0.0098542674,-0.0294202883,0.0078126444,-0.0152559076,0.0099995313,0.0054719374,0.0036694489,0.0041304743,0.0157054979,0.0131245349,0.0038140318,-0.0037213902,-0.0228358731,0.0621461906,0.0086567132,-0.0166587215,0.0195493791,0.0439258814,-0.0339990705,0.0225307029,0.0681026876,0.0409365632,-0.0248971917,-0.0248381067,-0.0320167169,-0.0231616814,0.0206916686,-0.0072998786,-0.0367285572,0.0310373083,-0.026564857,0.0441670269,-0.0274429154,-0.0180815049,-0.0145658357,-0.0028785325,0.0485732444,-0.0220579822,0.0032169439,0.0084205149,0.0021354135,-0.0091173705,-0.0356419832,0.0594986267,-0.0249709841,-0.0309390426,-0.0409435071,-0.0644059628,0.0105782272,0.0369002931,-0.0313723013,-0.0085753091,0.0098284511,0.0134783676,-0.0003021878,-0.0120144058,0.0574732684,-0.0118094152,-0.0888545439,-0.0202806927,-0.0711239055,-0.0107519291,0.0073855575,-0.0085300831,-0.0093170954,-0.0230499562,0.0408576243,0.0007662959,0.0157445408,0.0410007834,0.0352424569,-0.0130376127,-0.0575416684,0.0372621678,-0.0276179202,0.0468512736,-0.0240808949,0.0293595586,-0.0257416833,0.0007257004,-0.0196011495,0.0224426109,0.0560785532,0.0303902272,0.0280076284,0.0135681648,-0.037277095,-0.016940644,-0.0004118302,0.0487640053,0.0147631355,-0.04462808,0.0087902863,0.0124398246,-0.0023436749,-0.0814291239,-0.025370704,-0.0047728946,0.0174211077,0.0101271318,-0.0411773585,-0.0378917716,0.0185830053,0.0507491678,-0.015150113,0.0308915433,0.0138330273,-0.0360143557,-0.0011859247,-0.0654137582,0.047757443,0.0024629871,0.0648556277,-0.0605826527,0.0215228572,-0.0272179395,0.006339516,0.0054210261,-0.0024582371,-0.0644464716,-0.0539144725,0.0255294312,0.0509668253,0.0348655283,-0.0794741958,-0.0120913349,-0.0194753855,0.035373278,-0.0355766788,0.0189285129,0.0072699045,-0.0657199249,-0.0333222188,-0.0632015318,0.0472505689,0.0407395959,-0.0034884249,-0.0279305726,-0.0509445742,0.0270536412,-0.0112681091,0.0455057286,-0.0138026169,-0.0395286568,-0.0683081299,-0.0058901878,-0.0491149761,-0.0358754359,-0.0352551304,-0.0007458141,0.0283401888,0.0812837556,-0.0573636629,0.0667521209,-0.0130896093,0.0249125436,0.0040387106,0.0099306079,-0.0651529804,0.0123291044,-0.0123226326,-0.0076816198,0.0057350271,-0.010625165,0.0058780964,0.0511880368,-0.0413702354,0.0326517671,-0.0336475968,0.0280567668,-0.0334035084,0.0324791223,-0.0136202807,0.0061800322,0.0580947399,0.021807611,0.015119886,-0.0461640731,-0.0094526988,-0.0150321731,-0.0154949687,-0.0430880748,0.016650904,0.0642506182,0.022189403,-0.0359036103,0.0070087006,0.0199667141,-0.0005334374,-0.0326678269,0.0196132045,-0.0200354271,-0.0315377414,-0.0014908471,0.0488185585,0.0078536784,-0.0074266056,0.028535692,0.0506094061,0.0368894115,0.0247169845,0.0087303668,-0.0000784821,-0.0053093312,0.0097434744,-0.0051268167,-0.0610427149,0.0202145819,-0.0011388336,0.0007634694,-0.0271019563,0.0023722057,-0.0605446249,-0.0471580736,-0.0322712287,0.0531391948,-0.0145033719,0.0094015347,-0.03043155,-0.031951692,0.0155533301,0.0225845538,0.0640941337,0.0598228797,0.0588905849,-0.0543124489,-0.0437183455,-0.0121466247,0.0184228905,0.0418674499,-0.000021994,-0.0289445389,0.0234219693,-0.0995799154,0.0156299509,-0.0267482661,-0.0085348468,0.1317835003,-0.0870405212,-0.0337466188,0.0652809516,0.0365402475,0.0147941047,0.0126856174,0.0431350693,-0.0319608375,0.0071447832,0.0514426902,0.0409361832,-0.0015290283,-0.0444570519,0.0068413778,0.0048487047,-0.021153301,-0.0069568646,-0.0126148732,-0.0156201161,-0.0196993668,0.0077469093,-0.0183458403,-0.0166343525,-0.0201710407,0.0416314974,-0.0112926988,-0.001386018,0.0411982089,0.0277193952,0.0328397043,-0.0062171258,-0.0396290421,-0.0282930937,-0.0050821411,0.0235347804,0.0360820629,-0.0175757725,0.0064248554,-0.0022892142,0.0633357167,-0.0397838093,0.0488365963,-0.0127505017,0.0464778841,0.013808297,-0.0298308507,-0.0311589539,-0.0410493389,0.0022652603,-0.0309250187,-0.0113147385,-0.0479350798,0.0242668297,-0.0190576799,-0.1003117263,-0.0114701511,-0.0229465049,-0.0435374454,0.0255938247,-0.0396973267,-0.0557806417,0.016115563,0.0338782854,-0.0283682793,0.0221306346,0.0466932468,0.0556011647,-0.0242594145,-0.0138030378,-0.0123670707,0.0466976166,0.0321308635,-0.0164650586,0.027518142,-0.0215448067,-0.0173227023,0.0044820025,0.0269552395,0.0580102988,0.051060725,-0.0024723671,0.0181364901,-0.0208423454,-0.0479609035,0.0223885551,-0.0286447033,0.0506317541,0.002243856,-0.0363800488,-0.0119016357,0.0210366473,-0.033770863,-0.0509320647,-0.0391760767,0.0122518679,-0.0466426946,0.0110795395,-0.0068737199,0.0004883551,-0.0257599633,-0.0004415109,0.0236368719,0.0360370465,0.0190378539,-0.0229161959,0.0028220487,-0.0385370441,-0.0676378161,0.0083118817,0.0090328958,-0.0595410354,-0.0464760847,-0.0723800287,-0.0648845509,-0.0494336225,0.0106651392,-0.0208344813,0.0169763602,-0.0201943088,0.0158534665,0.0239159707,0.0267491527,0.0362105891,0.0510159172,-0.0372473933,0.0330596752,-0.0526628979,0.0184075683,-0.0121651422,0.0049529062,-0.048071418,-0.0654600784,0.0510093682,-0.0461746417,0.0088572092,-0.0319009721,0.0362412892,0.0169726387,0.0827492401,0.0333624668,-0.0336621776,-0.0020029268,0.0220290981,-0.0234456826,0.0065966723,-0.0366326757,0.036156103,0.0046807551,-0.0258441493,-0.0476765446,0.0210005417,0.035049554,-0.0717773587,-0.0223747026,-0.0001080062,-0.0622722097,-0.0138061168,0.0121375127,0.0320758447,0.0307003837,-0.0212044138,0.0115360375,0.0354430005,0.0173115712,0.0519446321,-0.0160807408,-0.0704267249,-0.006985948,-0.0190832317,0.001525719,-0.0135674756,-0.0401047394,-0.000848854,0.0325426571,-0.0070349141,0.0231867507,-0.0811546296,0.0049875518,0.0049764817,-0.0090294378,0.0037901502,0.0353911854,0.0286824647,-0.0405795835,-0.0413126498,-0.0313638747,0.0030117845,-0.0691411421,-0.0328303277,-0.0088989623,0.0170590393,-0.0240696073,0.0239038672,0.0019135957,0.0084966086,-0.0153313149,0.0226450618,0.0012206025,0.0646708235,-0.0234494153,0.0164522547,0.0248553101,-0.0224783048,-0.0158770829,0.0311728884,0.0165858828,0.0215001889,-0.0349649116,-0.0130140949,-0.0437402651,-0.0222294312,0.0267219581,0.0494889989,0.0336267948,0.0074431286,0.0621604137,-0.0227851309,0.0518559702,-0.0075776409,0.0230717734,-0.01339461,0.0441775247,-0.0463846959,-0.0211248379,0.0251323301,-0.0414453298,-0.0259884968,-0.0306980461]}\n",
            "{\"id\":4,\"reviews\":\"Horrible product\",\"embedding\":[0.0015338163,0.039175082,0.0382061079,0.0106673529,0.0233218111,0.0038492992,0.0088405162,-0.0127219958,-0.0227119885,-0.0456212275,-0.0057549602,0.032411769,0.0388137661,0.0230477918,-0.000598649,0.0474067666,-0.0407501906,-0.0263192058,0.0317526348,-0.0096236756,-0.0887006521,0.0021299855,0.007957954,0.0105482852,-0.0675757229,-0.0842424333,0.0220131166,0.0070437365,-0.0415806212,-0.0218164064,0.0352470428,0.0161790922,-0.0286856312,-0.0130287185,0.0202037245,0.0211180616,-0.0125109637,-0.0255265925,0.0105481185,0.02460072,0.0343670212,-0.0355485417,0.0156697016,-0.0177543126,-0.056665726,0.028815046,-0.0479905196,0.0514559858,0.0391624086,-0.0160750486,-0.0078411289,-0.0410772003,0.0281662829,0.0335259289,-0.0123532349,0.0002602003,-0.0073755602,-0.0391406864,-0.0406152904,-0.0404820666,0.0251782294,0.0595468096,-0.004408,-0.0443004631,-0.0356729366,0.0325693861,-0.0053769345,-0.0361795053,-0.0058266982,-0.0215569027,0.0260856505,0.015106177,-0.0263167135,0.0082372371,-0.0164532457,-0.0063147768,-0.0000965423,0.0159069113,0.0425330736,-0.0580447465,-0.035006538,-0.0039515533,-0.0884230062,-0.0494865924,-0.0116276145,0.0422423333,0.0477668196,-0.0030109505,-0.0183559861,0.0302995332,-0.0227394924,0.0072213081,0.0195120685,0.0440375656,0.0085682683,0.0152686089,-0.001135222,-0.0172311515,-0.0257706549,0.0038966748,-0.0122236218,-0.0346098095,0.0423478112,-0.0381467082,0.0290808324,-0.0473244265,0.0059218053,0.0227065701,-0.0614900403,-0.1313224733,-0.071202524,0.0285146292,-0.0062508155,0.0020024355,0.0196768697,-0.0307503529,0.0370663777,-0.003659792,0.0304932352,0.0118731549,-0.0008957564,0.0142641412,0.0189078394,0.0004412147,0.0545656942,0.0268435813,0.0339247137,-0.0226475447,-0.0244674012,-0.0180644896,0.0404118821,0.005676921,0.0070092734,-0.0112407468,0.0032945171,0.0114120776,-0.0103472425,0.0354569964,-0.0035110477,0.0844789371,-0.0165278576,-0.018293377,0.0041830312,0.0333730169,0.0294290576,-0.0231659394,0.0271831341,-0.0277959146,-0.062997669,-0.0320726894,0.0642229095,-0.0285552312,-0.0199358035,0.027748296,0.0611522719,0.0716599524,0.0517825484,0.0256016608,0.004335043,-0.0560464114,0.0386922061,-0.0318768322,-0.0282931849,-0.0234322418,0.020288771,-0.0409142151,-0.0457623154,0.0072356807,-0.0270481184,0.0371490829,0.0842559263,-0.1149456128,-0.0030411368,-0.0135354605,0.0610837936,-0.0076181786,0.0351864509,-0.038473025,0.0315968841,-0.0325269923,-0.0649126172,-0.0772799477,0.0214580633,-0.0539098531,-0.086700201,0.0009901542,-0.0098359557,-0.0521782301,0.0000255826,0.0221699402,-0.0015637507,0.0289135706,0.0158055816,-0.1161438078,-0.0371557027,0.0188397802,0.0603423975,-0.0520807616,0.0111633819,0.0370931998,-0.050229162,-0.034069337,-0.007948448,-0.003597379,-0.0052794977,-0.0370638594,-0.0610592924,-0.0167886429,0.0293414705,-0.0114324428,0.022746915,-0.0262925532,0.0903509036,-0.0336775258,-0.0486092046,0.0237023477,0.0166705046,-0.0456402041,-0.0702592507,-0.041532442,0.0041039386,0.036400605,-0.0163305458,0.0535073429,0.0304994043,0.0551252514,-0.0026628759,0.0240041129,0.041786328,-0.01605119,-0.0335158631,-0.0331823155,-0.0015073896,-0.004094481,-0.0182621013,0.0409031026,0.0176840108,-0.0154920723,-0.0954833999,0.0023762037,0.0045622843,0.0923871845,-0.0073828241,0.0160085727,-0.0137680909,0.031276349,-0.0064423713,0.0717618465,0.0339303091,-0.0385753997,-0.030648388,-0.0800853595,0.0142640127,-0.0269313138,0.0078456011,-0.0168768056,-0.0469568297,0.053600803,0.0183616672,-0.010207722,0.0006646919,-0.0616750307,0.0551748388,0.0745009109,-0.0217996445,-0.0457608774,-0.0405718349,-0.0093191406,0.0348754451,-0.0180829614,0.0116280066,-0.0083819227,0.0196369141,0.044246085,-0.0101375226,0.0215355679,-0.0274735931,-0.00234904,-0.0052198502,0.0015231924,0.0014878707,0.0075807297,0.0216846038,0.0277995355,0.0418094061,-0.032838773,-0.025544405,0.0034936431,-0.0243524536,-0.0383477844,0.0083124787,-0.0097879078,-0.0611930452,0.0359248146,-0.0205567926,0.0024211437,0.0260336846,0.0047647292,-0.0222280454,0.0170930475,-0.008858528,-0.0269303601,-0.0068765325,-0.0358557403,0.0160990432,0.0037996022,0.0078906873,0.0184260141,0.0139145618,-0.0317325853,0.0185230467,0.0217034984,-0.0402581096,0.0116613712,-0.0697386265,0.0444097184,-0.0025497789,-0.0497408323,-0.0176046398,0.0664251149,-0.0081354463,0.0293055344,0.0503542647,-0.0071903644,-0.024477955,-0.0080066416,-0.0179056134,0.0005044424,0.0332053863,-0.055862613,-0.0416588522,0.0531413369,-0.0361996144,0.0116187399,-0.0209934339,0.0398197286,-0.0133144455,0.0114748655,-0.0288665108,-0.0342403278,0.0038712334,-0.0093212929,-0.0350981839,0.0200187042,-0.0302530564,0.0397623479,-0.0002807685,-0.0622073337,-0.0178182125,-0.0541062504,0.0176442359,0.034737628,-0.0443340428,-0.005008922,0.0206074547,-0.0111261047,0.0386718772,0.0432675108,0.0413376279,0.0014576811,-0.0463510789,-0.0190829728,-0.0193248969,-0.0431634262,0.0081326319,-0.0149287544,-0.0088012451,0.0339148231,0.0143207693,-0.015088914,0.0327305496,-0.0014910076,0.0127571309,-0.0538989976,-0.0379261561,0.0328846574,-0.037441358,0.054306224,-0.0241077002,0.0142995156,-0.0267346743,0.0390802063,0.0232847258,-0.0037716727,0.0174421333,0.0239362847,0.0208649933,0.0084426943,-0.0171591453,-0.0145059954,-0.0026674739,0.0466418639,0.0100769727,-0.0650392994,0.0177273266,0.0541401915,-0.0385090746,-0.0161221251,-0.0388155133,-0.0168189127,0.0417774729,-0.0302318465,-0.0525001138,-0.0377292372,0.0381910391,0.0293029454,0.0141381891,-0.0070456509,-0.0273378398,-0.030418437,0.0326644368,-0.0033108478,0.0288859177,0.0331418626,0.0543296337,-0.0014219827,0.0235734824,-0.052188959,0.0333722383,-0.0203455705,-0.0153271835,-0.0271094497,-0.0260862671,0.030513335,0.0354743972,-0.0068977443,-0.1059231013,-0.0017230931,-0.0280735195,-0.0028684903,-0.0367888585,-0.0165459681,0.0128786694,-0.0033912258,-0.0570984818,-0.0688489079,0.1130574197,0.0841463059,0.0295400545,-0.0209337212,-0.0291748587,-0.0012635888,-0.057692945,0.0390550792,0.0097107822,-0.0385365225,-0.0369250439,-0.0261450987,-0.1089301556,-0.0556671582,-0.0321242847,0.0175246168,0.00130504,0.0732925013,0.0340682305,0.0545819364,0.0337699577,0.0411261655,-0.0231191777,0.0005592676,-0.0469807796,-0.0224909,-0.0068223812,-0.0090104099,0.0090187341,0.016069632,0.0250364896,0.0073697558,-0.0150805321,0.0525456071,-0.0350570306,0.041387938,-0.0231392551,0.0644590706,0.0550401472,-0.007497313,0.0763961822,0.0849514976,0.0253182277,-0.0356983952,-0.062864013,0.0288124494,0.0189874489,-0.025278559,0.029102115,-0.0149462465,-0.0186170097,-0.0309429727,-0.0044809687,0.0028492566,0.0317501165,-0.0086074267,0.0187691897,-0.0392894,-0.0039609363,0.0113974325,0.0418652818,0.0209624059,0.0127540184,0.0298057254,0.03757447,-0.0189449769,0.0176406223,0.0146358907,-0.0366062559,-0.0002131111,-0.003147732,-0.0138492128,-0.063175261,0.0061265617,-0.0311717857,0.0258677509,0.0021312051,-0.0054333904,-0.0397902019,-0.0463871434,-0.0372921862,0.0731078386,-0.0008749507,-0.0334408507,-0.0123487683,0.0013590895,-0.0010219357,0.0246045813,0.0498596281,0.0291854665,0.0443003513,-0.0032917249,-0.0301888734,0.003702526,0.0135549288,0.0124785565,-0.002296648,-0.0076501537,0.0195283834,-0.1020131931,0.0478807911,-0.0395343006,0.0256100446,0.0827834234,-0.0678939968,0.00189679,0.072462298,0.0611806363,0.024147151,0.0323448442,0.0580869839,-0.0072818729,-0.0190524515,0.0440414958,0.0157834832,-0.0666121319,-0.0477386564,0.0181671511,0.0329334661,-0.0161422901,-0.0117077986,-0.0588302873,-0.0330368318,0.0020069559,-0.0143279107,-0.0271226466,0.0160181858,0.0097357668,0.0443851836,-0.0259641185,0.0048084445,0.0120536108,0.0144470455,0.0358165763,-0.0091635268,-0.0303201415,-0.043389149,0.0007379818,0.0503068082,0.0108307917,-0.0019063784,-0.0276345778,0.0340637825,0.0704180822,-0.0174340624,0.0396206416,-0.0194274783,0.0017745541,-0.0156602245,-0.0116133848,-0.0262549967,-0.0580857955,0.0182823315,-0.0328761712,-0.0235127117,-0.112138167,0.0114629958,-0.0176469758,-0.046562776,-0.0216969773,-0.0022560076,0.0279832706,0.0296574384,-0.0121349785,0.0336818434,0.0369236469,0.0343872495,-0.0132767186,0.021481296,0.0314041674,0.0353980474,-0.0124040749,0.0143001275,0.030875165,0.0196467899,0.0395378359,-0.0122425845,-0.0532389171,-0.0243618786,-0.0051058186,-0.0317359865,0.0123937642,0.0314036757,0.033588592,-0.027747957,0.0414019674,-0.0123532452,-0.070964776,0.0094532911,0.0374474078,0.0218427703,0.0332201384,-0.0061215074,-0.0028191516,-0.0020420549,-0.0431629382,-0.0242935847,-0.0767086819,-0.0139959548,-0.0145397345,0.0062338556,0.0196422301,0.020369703,0.0127174463,-0.0029949427,0.0060877372,-0.0102460831,0.0095704123,-0.0431176685,-0.0380692072,-0.022084821,-0.0754287094,-0.0074185636,0.0201061051,0.0025519617,-0.004188715,-0.030386107,-0.0524622574,-0.0489507243,-0.0081532234,-0.0036827982,0.0456089899,-0.0329249129,0.036122229,-0.009277937,-0.0069782422,0.0867292508,0.0458189435,-0.0655836985,0.0510114133,-0.0120238401,0.0714695081,0.0092725949,-0.025114242,-0.0294265281,-0.0223086271,0.0012166593,-0.0324783064,0.0799783319,-0.0418570116,-0.0064577968,0.004574602,0.0044112271,0.017446192,-0.03235415,-0.056157086,-0.0200471971,-0.011664045,0.0233684033,-0.0300379843,-0.0015440974,-0.0305530131,0.0378233977,-0.036724966,-0.0101999957,-0.0008014021,-0.0466502234,-0.0265070852,-0.0152846584,-0.0316478051,-0.0292224158,-0.0033256249,0.0301712919,0.0381678194,-0.0064456109,0.0323815309,-0.0038626948,0.030226849,0.036402598,-0.0120015787,-0.0135751581,-0.0433823802,-0.0231968891,-0.0378987901,0.0132474732,-0.0558109172,-0.0098998891,0.0131158149,-0.0125417579,0.0359308608,-0.0877111033,0.0508686081,-0.0482028536,0.029791344,0.0129377358,0.0268943384,0.0923507214,-0.0575110726,-0.0326749869,-0.0314327627,0.0053402819,-0.0491255336,-0.0167219434,0.0252831876,0.0015745958,-0.0004939669,0.0232865475,0.0304358322,-0.0083116256,-0.0173890293,0.0843158066,-0.005327431,0.0774445385,-0.0363148637,0.0012253791,0.0223592687,-0.0149157997,-0.0019217761,0.0383650698,-0.0028823188,0.0067057381,-0.0309107266,-0.0133502018,-0.0646471977,-0.0630319789,-0.0147675639,0.0767254233,0.0234639607,-0.0423025303,0.043585211,0.021889966,0.0432694405,0.0164069496,0.0004331317,-0.062080428,0.107371971,-0.0307340808,0.0112996409,0.0279821791,-0.0389411896,-0.0456109233,-0.0077353953]}\n",
            "{\"id\":5,\"reviews\":\"Would never buy\",\"embedding\":[-0.0091933934,0.0014845,0.0668093935,0.0411881395,-0.0079650795,-0.0336789042,-0.0003836026,0.0185337309,0.0164735783,-0.0481263213,0.0095149437,0.0095091742,0.0214639623,0.0450529642,0.0030341081,-0.0301944576,-0.0702089146,-0.0632695407,-0.0298731904,0.0013720267,-0.0618773364,0.0054487749,-0.0170160793,-0.0215855017,-0.0495409109,-0.0511742309,-0.0033684941,0.003934172,-0.02337474,-0.0247039143,0.01388619,0.0061832676,0.0044862353,-0.0041156597,0.027055813,0.0234583579,-0.0404448174,0.0157952067,0.0101528019,0.0554573499,-0.0013818115,0.0178713743,0.0397095047,-0.0148673868,-0.0415889174,0.0138109708,-0.0538097098,0.0077228351,-0.0060343049,-0.0092184618,-0.0353690758,-0.0387447551,0.0274173487,0.0014422279,0.0054313364,0.0136853205,0.0019032141,-0.0456768051,-0.0327218547,-0.0291957986,0.0326242037,0.0253765676,-0.0019339089,-0.0537210032,-0.0179487653,0.023642242,-0.0194676649,-0.0179847442,-0.0112679694,-0.0103725158,-0.0242892522,-0.0010182182,-0.0567375198,-0.0085820761,0.0167793259,-0.0164455324,0.005062866,0.0117150005,0.0454277396,-0.0330321677,-0.0254275259,0.0041613332,-0.0867621973,-0.0783291981,-0.0270138755,0.0348037407,0.0249310341,-0.0010820997,-0.0103320628,0.0177013502,-0.0156731717,0.0233617499,0.0176956039,0.0404465571,0.0069650561,0.0678014979,-0.0262989122,0.0091491537,0.0077891992,0.01424124,0.0052735498,-0.0304264221,0.0383871906,-0.0593298152,0.0476008914,-0.0348912552,-0.0177524369,0.0209744815,-0.0156664401,-0.0920537189,-0.0765488222,0.0441108048,-0.0384942591,0.0230287407,0.0340783149,-0.0147541258,0.0377061665,0.011275149,0.0199555457,-0.0280103832,-0.0774387494,0.0402963273,0.0153526952,0.0006766072,-0.0106435455,-0.0008511024,0.0296302568,-0.0089875907,-0.0239290763,-0.0221642554,0.080846332,-0.04744846,0.0020538769,-0.0517218076,-0.0011074366,0.0261302516,-0.0092029208,0.0192394201,0.0348168164,0.1034486145,-0.0630617738,0.0053421725,-0.0324248374,0.0104275336,0.0226199981,-0.0263460148,0.0320763253,-0.0108580487,-0.0504177622,0.0014231894,0.0268521123,-0.016877437,-0.038323544,0.0203262847,0.0257462896,0.0480433665,0.0709171966,0.0598048866,-0.0000704183,-0.0432123207,0.0299796257,0.0003203063,-0.0238058101,-0.0160799492,0.0348494165,-0.0090031046,-0.0382637158,0.0133471228,-0.0005107442,0.0543172881,0.0629190728,-0.0998413861,0.008817221,-0.0210167468,0.0793726966,-0.0361574776,0.0135023575,-0.005799558,-0.0065431464,-0.0132397758,-0.0491148084,-0.0831872001,-0.0135213817,-0.0942778215,-0.0658386871,0.0286569446,-0.0441059433,-0.031452097,-0.0182572063,0.0621025525,0.0112650851,0.0208372921,0.0173679776,-0.1243538633,-0.0447243825,-0.0305817947,0.0479337126,-0.0798222199,-0.0056382534,0.038544327,-0.0391320847,-0.0217075311,-0.0132751465,0.0126889087,-0.0309112146,0.0335901231,-0.0308696888,-0.0023560706,-0.0136885494,0.0169296935,0.0437394828,-0.024537947,0.0573693588,-0.0405090116,-0.0423738994,-0.0143209733,0.00178772,-0.0315325856,-0.0537247621,0.0011535039,-0.0208716523,-0.0050571156,-0.030092597,0.0643778592,0.0230590962,0.0434318781,0.034583848,0.0589821152,0.0100805201,-0.0086823646,-0.0245201401,-0.0264356025,-0.0288576391,-0.0169767737,-0.0188779645,0.0566432923,0.0189337395,0.0056914566,-0.0765196532,0.0151855666,-0.0037510758,0.0810643435,-0.0412472636,0.0437591076,-0.0254607517,0.0363295712,-0.0053799376,0.0310591199,0.0623775348,-0.0091709644,-0.0231372714,-0.0745352358,0.0058256639,-0.0497603975,0.0140491165,-0.0043823188,-0.043954283,0.0133619616,-0.0285822339,0.0349457338,-0.001652343,0.0092444634,0.019127531,0.0738282427,-0.009890249,-0.0683410615,-0.0280000158,0.0059845084,0.0283032041,-0.0409763642,-0.0198213551,-0.0484519377,0.0343802385,0.0748387873,0.0149627933,0.0010629542,-0.0526402034,0.0355491973,-0.0242671836,0.0237977896,0.0251806136,0.0142697021,0.0175060723,0.0535192676,0.0043177526,-0.0161570553,-0.0349542946,0.0427962095,-0.0110280821,-0.035352584,0.0313829035,-0.0057542911,-0.0180391185,0.0191699993,0.0165074579,-0.017539382,0.032326296,-0.0159928687,0.0052568461,0.0713646412,-0.0102530746,-0.0350708067,0.0305149127,-0.0137528274,-0.0277109966,0.0085831396,0.0366417766,0.0236411821,0.0286065452,0.0064003593,0.0316462852,0.0019320926,-0.0287322551,0.022709623,-0.0126229674,0.0279939584,-0.0049780416,-0.037230216,-0.0568261929,0.0475491621,-0.0459845625,0.0340404473,0.0179345105,0.031748794,-0.0233634971,0.0023825732,0.0071106171,-0.029109193,0.0371107161,-0.0099015441,-0.0565609969,0.0408290774,-0.0246810745,0.0551600903,-0.0188016724,0.0346198454,0.0053189723,-0.0116255218,-0.0042775571,-0.0778551325,-0.0056175441,-0.0058589559,0.003273187,0.0188793838,-0.0293124858,0.0421918146,-0.0365000032,-0.070040293,-0.0335118882,-0.0916247517,0.012006986,0.0349421762,-0.0215670187,0.0463409759,-0.0033638417,0.0064400146,-0.0082899919,0.0213066489,0.0444150269,-0.019455133,-0.0631175339,-0.0185394194,-0.0673493072,0.0233223364,0.0300960708,-0.0342710018,-0.0271777529,0.0417119898,-0.0086879926,-0.0142047424,0.0273243431,-0.0065877051,-0.0044560023,0.0038403522,-0.0056330129,0.0450180396,-0.0355404727,0.095533289,-0.0260754675,0.0300156642,-0.0085490691,0.0413564965,0.034171734,0.0047698766,0.0178458896,0.0397313833,0.0335759372,0.0442557335,-0.0073325508,-0.0091664521,0.0012827954,0.017635908,0.0021751157,-0.0359505676,0.0070808218,0.0508472584,0.0100866342,-0.0007879397,0.0101325056,-0.0548044369,0.0521102436,0.0044294358,-0.0329585969,-0.0503031462,-0.006246197,-0.000477505,-0.0159134548,-0.0113439541,0.034190625,0.0028409348,0.0594177283,-0.0236713551,0.0016437647,0.0287691485,0.0328364037,-0.031235572,0.0319057442,-0.0495827198,-0.0127124116,-0.0142744416,-0.0075839101,-0.0236394349,-0.0418999232,0.0626838952,0.024501482,0.0385534316,-0.1089290306,0.0030826393,-0.0337717794,-0.0471190475,-0.0428212211,-0.0158837531,0.0382510386,-0.0300019141,-0.0528741814,-0.0706771314,0.0668756589,0.0884211212,0.0348238572,-0.0224403627,-0.0257380232,0.0214426834,-0.0259790514,0.0205031913,0.0183184389,-0.0271199103,-0.0490887836,0.0219518598,-0.0616371371,-0.0258296896,-0.0763364211,0.0236409903,-0.0517580807,0.0653362349,0.0007482406,0.0316104256,0.0493112765,-0.0250398256,-0.0166667867,-0.0210670214,-0.0357428528,-0.0314643569,0.0251492262,0.0313939527,0.0313525051,-0.0258470606,-0.0076902309,0.0433291867,-0.0203542616,0.0019721908,-0.0107079502,0.0203930214,-0.048319865,-0.0078733694,0.047011327,0.0070139649,0.0504565798,0.0246826168,0.0048287855,-0.0259734187,-0.0430473723,0.0268283151,0.0015301133,-0.0826330855,0.01114613,0.025106255,0.006965939,-0.0853160992,-0.0109428354,0.0141172949,0.0344014168,-0.0003622886,-0.0126762297,-0.0290414877,0.0015291134,-0.0143863689,0.0853225663,0.008189573,-0.0175793283,0.0238812119,0.0490264669,0.0053560957,0.0040476052,-0.0174789652,-0.0174779817,0.0119106295,-0.0239055939,-0.0235353056,-0.0549316704,0.0156321395,0.003210549,0.0000775839,0.0193291996,-0.0419079326,-0.0529113188,-0.0884810016,0.0202460326,0.087454237,-0.0021530529,-0.0360119194,-0.0208008289,-0.0064987093,0.0204345994,-0.0136433421,0.0707730204,0.0684389398,0.0310552828,-0.013072595,-0.0117951529,-0.0427280627,-0.0141209466,0.0268644076,-0.021718597,-0.0340713002,0.0158185028,-0.052009441,-0.008643222,-0.0339832753,0.0716281161,0.0987603813,-0.0212234631,0.0119428514,0.0983489379,0.0187947117,0.0063571702,0.0419856384,0.0014435347,0.0469548218,0.0539500564,-0.0031537062,0.0301317014,-0.0238311701,-0.0622872822,0.0239831749,-0.0117238788,-0.019802466,-0.02084128,-0.0369653031,-0.0570158325,0.0474005379,0.0071771904,-0.0153170815,0.0189223681,-0.0255384054,0.0165988822,-0.0412484407,0.0104689328,-0.0006360671,-0.0070071495,0.054788053,0.0415924452,-0.0191581845,0.0051677544,-0.011481287,0.0049914387,0.005598797,-0.0105230678,0.0061961282,0.0351790339,0.0241167154,-0.0190188996,0.0378966592,-0.0197629295,0.0309886504,-0.0366166905,0.0271729305,-0.0105339251,-0.0681675076,-0.033782471,-0.0042069899,0.0258316174,-0.1039601937,0.0151622845,-0.0307406802,-0.1072957963,0.0024073184,-0.0108407121,-0.0018110276,0.0291654151,-0.0119126346,0.0212001074,0.0083507001,0.0361081064,-0.0054503162,-0.0021394042,0.0319317132,0.0425090529,0.0605372302,0.0717730373,0.0490671843,0.0454532839,0.0057378425,-0.0125185503,0.005217378,-0.021302823,0.0094767399,0.0294645187,0.0322149917,0.0366198123,0.0415578112,0.0114357499,0.0392661765,-0.0298205558,-0.0280192606,-0.0117306635,0.0163879208,0.0648441017,0.0472777002,0.0052533103,0.0101310881,0.0262150373,-0.0093878265,-0.0373393781,-0.035274066,-0.0155712403,-0.0219223946,0.0228050612,-0.0252628475,-0.002284267,0.0089295888,0.0319830552,-0.0078720534,0.013564962,0.007377069,-0.0121232346,-0.0528916568,-0.0124928243,-0.0383809172,-0.0407742932,0.0506860279,-0.0311685298,-0.0089972364,-0.0435167253,-0.0472704396,-0.0858459175,0.003278364,0.0018067861,0.02876308,-0.0577786155,0.0220022965,0.0126524065,-0.0336313397,0.0413706899,0.0366830491,-0.0315557867,0.0255696625,-0.0135312956,0.0697705299,-0.0280070845,-0.0276190061,-0.0341659114,-0.0344391279,0.0057573603,-0.0356440693,0.0308602974,-0.0148607977,0.0080883652,0.0320079103,0.0445837267,0.0465447344,-0.0091006272,0.0170999318,0.0080549642,-0.0201026462,0.0476521812,-0.033729177,-0.012596651,-0.05596596,0.0027468083,-0.0426101126,0.0012938242,-0.0155292731,-0.0428293757,0.0103887664,-0.0526015908,-0.0560981259,-0.0145132607,0.0053377924,0.0283341203,0.0670512319,0.0027755569,0.0334335677,0.0033525715,0.0044746487,0.0421742983,0.0037162867,-0.0021665674,-0.0153820785,-0.0211766139,-0.0436666645,0.0286086965,-0.0489904135,-0.0061362926,0.0023895842,-0.0600853749,0.034071777,-0.0867852941,0.0219675805,0.0095374677,0.0339398272,-0.0119082816,0.0549578667,0.0396703742,-0.0279583856,-0.0218272246,-0.0668680072,0.0170955397,0.0215968881,-0.0517128669,0.0183196031,0.0046395813,0.0433004461,0.0283387545,0.0099074952,0.0016271415,0.023774635,0.062785238,-0.0089341309,0.0852621421,-0.0320601277,-0.0039751343,-0.0102753108,-0.0081229946,-0.0036247282,0.0391019247,0.0065153479,0.0272730235,-0.0370927267,0.0280833282,-0.0354798511,-0.0478967391,0.0184348803,0.0622126535,0.0569257587,-0.0205945689,0.0658447742,0.0335713476,0.0799574032,0.0153386649,0.0249786805,0.0254122708,0.0335150249,0.0169963986,-0.0076280287,0.0511530563,-0.0327338167,0.0052205953,-0.0489314236]}\n",
            "{\"id\":6,\"reviews\":\"Loved it!\",\"embedding\":[0.0064478409,-0.0219190493,0.0004726262,-0.0123987272,0.0236608833,0.0305777956,-0.0178847145,-0.0063747359,0.011484311,-0.0290615559,0.0115208374,0.0059008771,0.0235328767,0.009596006,-0.006325522,-0.0002346289,-0.0628545582,0.0009296091,-0.004670192,0.0265644863,-0.0769436881,0.0240221992,-0.0344913788,0.0276515223,-0.0515751578,-0.1191716716,0.0034237641,-0.0368863046,-0.0331498832,-0.062747106,-0.0093130348,-0.0172883365,0.0075621051,-0.0623679347,0.0286001526,0.0460071601,0.028033264,-0.0179935787,0.0114342868,0.0382520184,0.0175531842,-0.0096838549,0.0386950523,-0.0243209098,-0.0200342312,0.0065199877,-0.0602137707,0.0086895423,-0.038925197,-0.0268942267,-0.0051825731,-0.0243735667,0.0424211472,0.0002834296,0.0078025502,-0.0495805591,-0.0352651551,-0.0549996272,-0.002121513,0.0100784721,0.0581487343,-0.0371798947,-0.0065953196,-0.1085523963,-0.0515435562,0.026804097,-0.0056506563,-0.0227388311,-0.0246371813,0.0056353593,0.0465220697,0.01512603,-0.0576887429,0.0438642725,-0.0224072374,-0.0161953121,0.0323290192,0.0188637674,0.0595004484,-0.0243172757,-0.0318311527,-0.0296656862,-0.0178305618,-0.0621300861,-0.0086855069,0.010827194,0.0300631393,-0.02186279,-0.0567742512,-0.0394597203,-0.0488849245,0.0584408082,0.0406038836,0.0114641683,0.021781303,-0.0007462956,0.0241911616,-0.0484165251,-0.0248827264,0.0262825731,0.0358227193,-0.0300888587,0.0264431927,0.0058593373,0.0437747054,-0.0309751034,-0.0031660406,0.0264963303,-0.0300243516,-0.095692724,-0.0387569331,0.0170699768,-0.0582641028,0.0139434794,0.0366107188,-0.0660923719,0.0034596871,0.0379240736,0.0543771833,-0.016607048,-0.0246834196,-0.0204764102,-0.0237141512,-0.0133231347,-0.0045485268,0.0096614966,0.0731633753,-0.0379813686,-0.0281575061,0.0071363165,0.0325648747,-0.0205887966,0.0469549708,-0.0294760969,0.0123542771,0.0340581946,-0.0050720614,-0.0199608058,0.0176624525,0.0759270936,-0.0724259913,-0.0196298007,0.0067770821,0.0105282944,-0.0086360723,-0.034081202,0.0519404113,-0.0085599255,-0.0556663312,-0.0371236205,-0.0018141655,-0.0795734227,-0.0399327762,0.0243468285,0.0525622256,0.079496637,0.0323372148,0.0832082778,0.0277684368,-0.0392500721,0.0551365055,-0.0088837715,-0.0420235507,-0.0120160989,0.0169775542,0.0199651569,0.0234769396,0.0014743927,0.0044654529,0.0387086645,0.0446742587,-0.0729242414,-0.0216062944,-0.0607991293,0.0728052929,0.0166521538,-0.0015881328,0.0089279395,-0.0506214872,0.0193832144,-0.0031241772,-0.0965941921,0.0378227867,-0.0627708808,0.0055928789,0.0615615062,-0.0408790968,-0.0174783207,-0.0280398205,0.0311622359,0.0111779347,0.0152611444,-0.0131080318,-0.0602070056,0.0300446451,-0.0356453508,0.0503216498,-0.111958541,-0.0120833889,0.0447525233,-0.0156149212,-0.0297986064,-0.03220734,-0.0090631666,-0.0047727786,0.0111135822,-0.0775391161,0.0165794119,-0.002624844,0.0377324373,0.0334758535,-0.032798484,0.0848304629,0.0052034385,-0.0435963534,-0.0323785469,0.0226936173,-0.0628409982,-0.0793481842,-0.0225608479,0.0312998816,0.0387367085,0.0012062547,-0.0026932787,0.0094597479,0.0042381897,0.0044054473,-0.0246991236,0.0167768244,0.006721966,-0.0192477349,-0.0057779518,0.0160712749,0.0057144719,-0.0041362671,-0.0077502797,-0.0242258739,-0.0092016757,-0.0961478874,0.0245841183,-0.012387584,0.0565178394,-0.0097966716,0.0537838191,0.0053961449,0.036741402,-0.0211551543,0.0021116775,0.0683720559,0.012356231,0.0151089877,-0.0925815254,-0.0184161272,-0.0061454489,0.0261926837,-0.0185127277,-0.0031939517,0.029650189,0.0226696841,0.0199389793,-0.0140564544,0.0426821858,0.0235441085,0.1096497029,-0.0685632154,-0.0328086205,0.0355690382,-0.0020849251,0.0323433951,0.0144834248,-0.0013769303,-0.0191709884,0.0686521381,0.0286783129,-0.0204210356,-0.0109522799,-0.0142418807,0.0027803811,-0.016770089,0.0253024288,0.04151107,-0.0205831751,0.0177599583,0.0679180846,0.0372096673,-0.0484744497,-0.021724686,0.0131098591,-0.0234848764,-0.0048945504,-0.0442298204,-0.014316313,-0.0161638707,0.0685941204,-0.01931086,0.0121098235,0.0471396521,0.0078410096,-0.0197922681,0.0536960922,0.0024561379,-0.059287753,-0.0342332572,-0.0245670117,-0.0268463269,-0.0384105593,0.0573406853,-0.0069770417,0.0327755176,0.0031252634,0.0477362946,-0.0128226057,0.0009664954,-0.0120698772,0.0179839656,0.0444315299,0.0208274238,-0.0401168242,-0.0777646601,0.0488784313,-0.0931247547,0.0104725594,0.0699008331,0.0314127542,-0.0032347415,-0.0174848624,-0.0201291405,0.0075462544,-0.0043977937,-0.0651196912,0.020436408,0.0300401244,-0.0552312508,0.0282888766,-0.002086868,0.023618998,0.0160503536,0.018961437,0.0327461846,-0.0902412981,0.0301008765,-0.0692921653,0.0204266049,-0.0321043618,-0.010802554,0.0171362683,-0.0379941724,-0.0068136146,-0.0835509375,-0.0303106308,0.0142522817,0.0458580554,0.0343026109,0.0490405634,-0.0019138709,0.0164506659,0.0287635978,0.0239836704,-0.0107460897,0.0000066652,0.0216695983,0.0217237081,-0.0379160494,0.01947123,0.0127997454,0.0143539039,-0.0778672546,0.0074100168,0.0122817066,0.0055874418,0.0235556718,-0.0124728605,-0.0077618337,0.0012783943,-0.0491896495,-0.0095502874,0.0354770124,0.0426354595,0.021428531,0.0339759551,-0.0072744526,0.0046761916,0.0290176887,-0.0399198085,0.0208382029,-0.009685264,0.0921385661,0.0055313688,-0.0048384606,-0.009286751,0.0085239559,-0.0010834774,-0.0320317149,-0.0385203399,-0.0146769108,0.046205841,0.0287089199,-0.0578213893,-0.0067927721,-0.0242242478,0.0118337423,-0.0072936942,-0.020937508,-0.0249003209,0.0106286649,0.0122470176,0.0173203144,-0.0304362886,0.0765200183,-0.0056637097,0.039662838,-0.0305106789,-0.0397916473,0.0305995308,0.0524595901,-0.0420918763,-0.0089258747,-0.0207903385,0.0335397534,-0.001095476,0.0127073647,-0.012204391,-0.0433537103,-0.0110423602,-0.0222623404,-0.0058258446,-0.0607711822,-0.0130616557,-0.0309121031,-0.0557399727,-0.050085187,-0.0348590612,-0.0041436059,-0.0138214063,-0.0440667905,0.0174289644,0.0549287088,0.0457827747,0.0288264304,-0.0010086574,-0.0183692537,-0.0009176729,0.0032276562,-0.0023833863,0.0040804129,-0.0291871,-0.0276669189,-0.0336281471,-0.0486210585,-0.0359905846,0.0099938903,0.0244003292,-0.0896541849,0.0415861234,0.061923191,0.0391623974,0.0052631302,0.024382323,0.000207141,-0.017782947,-0.0093134977,-0.0267012808,0.0257313605,0.0194098223,0.0159264375,0.0145109091,0.0318143703,0.0241903421,-0.0099391071,0.0543431379,-0.021247264,0.0620615296,-0.0126937898,0.035943225,0.0402965173,-0.0232156795,0.0444201976,0.0544425622,0.0096696587,-0.0386047848,-0.0513685346,-0.000083366,-0.0049421322,-0.0849134997,0.0544901192,0.0268548485,0.001412161,-0.0523876213,-0.0397818126,0.0325903296,0.0290170349,0.0297104307,-0.0343018435,-0.0064807455,0.0274327192,-0.0375242345,0.0152546959,0.0253781956,-0.0103166355,0.051919885,-0.0055869333,-0.0070454017,0.0119527383,-0.0502798855,0.0195047576,0.0479080789,-0.0061752265,-0.0275383182,-0.0578217171,0.0121851023,-0.0398561172,0.0299207699,-0.0199749079,0.0074154884,-0.0432728492,-0.0268898513,-0.0042792112,0.0280528497,-0.0051146462,-0.0202583671,0.0033722129,-0.0252333339,-0.0169086773,0.0223480724,0.0641402751,0.0190621857,0.0762270391,-0.0206138026,-0.0101231979,-0.0040492807,-0.0500230603,-0.0071317353,0.0047844057,0.0036087143,-0.0052462625,-0.0452916883,0.0167448036,0.0100567006,0.0270567928,0.0462253913,-0.0635179654,-0.013354796,0.0609078854,0.0068079662,0.0303983446,0.0552317351,0.0477271266,0.026127927,0.0263081957,0.0490877703,0.0320231132,-0.0357569344,-0.0446431562,0.0631631091,0.0382378846,-0.034304738,-0.0142769013,-0.039853733,-0.0054716701,-0.0246562846,-0.0016350406,-0.0313081965,-0.0286173858,0.0059078177,0.030663576,-0.0415470377,-0.0141127566,0.048549857,-0.0238743201,0.0162008666,0.0053355494,-0.0345275737,-0.0542002842,-0.0297225304,0.0216624476,0.0313119553,-0.0505036265,0.0240573417,-0.0606317893,0.054056935,0.0163107328,0.0416529849,-0.0199676156,0.0639150366,-0.0795403197,-0.0518897735,-0.0246514082,-0.0390069224,-0.0122596165,-0.0594212897,-0.0050073056,-0.0576788895,0.0303982738,-0.0220083836,-0.0538791567,0.0066730548,0.0256864242,0.021234164,0.0696137175,-0.0276415609,0.0263881907,0.0331039056,0.0659264773,-0.0325580537,0.0005835465,0.0186487082,0.0443311259,0.0046905205,0.0133185238,0.0160757247,0.0473214798,0.0043732398,-0.0026514607,0.0090098474,-0.034654174,0.003818034,-0.0201640539,0.021367386,0.0501545183,0.031058697,-0.0141475694,0.0092422487,-0.0582063794,-0.0193277095,-0.0473150797,-0.0201030727,0.0152299711,0.0541315041,0.0108278859,-0.0266191531,0.0595289543,-0.0064163553,-0.0450693294,-0.063999027,0.0476778895,-0.054437425,-0.0330315083,0.0494224653,0.0215400718,0.0442908481,0.0219919812,0.0553724915,-0.0426406115,0.038947016,-0.0000025979,0.0107245995,0.0040238495,-0.0488020964,0.0206668489,0.0193330515,-0.0336919129,-0.0481726043,-0.0515327677,-0.0672201961,0.020408636,0.0115799326,0.0028241544,0.0055300435,-0.003676912,0.0433953218,0.0289313849,-0.0628336668,0.0141714066,0.016946448,-0.0065229894,0.0104108779,-0.0056673065,0.0550786741,-0.0238713361,-0.006362108,-0.006599992,-0.0429644138,0.0480436645,-0.0696319193,0.0176770613,-0.0411524847,-0.020221699,-0.0196815971,0.0339367799,0.0164998621,0.0023445503,-0.0044217356,-0.0006768723,-0.0152889891,0.0123355342,-0.0141190672,-0.0285980012,-0.0156840496,-0.0081742508,-0.0179730169,0.0178530961,0.0215081815,-0.043911282,0.0117516005,-0.0074392231,-0.0591958873,-0.0066278349,0.0285273474,0.0100742029,-0.0210802201,-0.0018000969,0.0335945375,0.0315327793,0.0134667503,-0.011106669,0.0254439767,-0.030905338,-0.0207798369,-0.0080220439,0.0113721164,-0.0407031998,-0.0240817722,-0.0189980809,0.0046854513,-0.048509188,0.0246472154,-0.1369736791,0.0332970209,0.0301624369,-0.0149059808,0.0280188508,0.017917743,0.0374602675,-0.0348782465,-0.0447640046,-0.0035684169,0.0047813752,-0.0587699115,-0.0080637904,0.0081966072,-0.0371629894,-0.0215020664,-0.0049512885,0.0530402884,-0.0502689742,-0.0327360444,0.0009855259,-0.013652103,0.0899774283,-0.0122215683,-0.0223767068,0.0473813899,0.0313040726,-0.0454400256,-0.001418761,-0.0357860886,0.0114227869,-0.016124377,-0.0216226615,-0.0421998203,-0.0226981845,0.026515523,0.0394068062,0.0046839751,-0.0434747972,0.1159028485,0.033152245,0.0095216045,-0.0001713638,-0.0046781846,0.0070046228,0.0778412893,-0.0345144048,0.022434596,0.0404616706,-0.0380504541,-0.0156806149,-0.0114070419]}\n",
            "{\"id\":7,\"reviews\":\"Please don't buy!\",\"embedding\":[-0.0235202853,-0.0023065063,0.0456369556,0.0317374431,0.0615349449,-0.001474179,0.0077846074,-0.0018991119,-0.0156815294,-0.0040258286,0.0093459086,-0.0309601594,0.0167630929,0.010008893,-0.0027656935,0.000852089,-0.0298270155,-0.0518871993,0.0105876047,0.0097328909,-0.092618987,0.0189178716,0.0223070513,-0.0252518468,-0.0234922785,-0.058870703,0.0235996004,0.0022754786,-0.0351168104,-0.0167550333,0.0092081483,-0.0099924495,0.0047758599,-0.03298489,0.0138864424,0.017672196,-0.0242401566,0.0211295802,0.045736976,0.0575643517,0.0242434312,-0.0501128435,-0.0246725697,-0.0242228992,-0.0393957719,-0.0236342382,-0.0390152112,0.0386677869,-0.0285644438,-0.0227926448,-0.0269159712,-0.0226044971,0.0374867022,0.007524454,-0.0180072505,-0.0117498683,-0.0071439375,-0.0198698193,-0.0004532519,-0.0249439273,0.0284183901,0.0016791139,0.0243075471,-0.0741673633,-0.0009441752,-0.0113802273,-0.0252714362,-0.0345085002,0.0003183818,-0.0051857587,0.0291003007,0.0141036892,-0.048861213,0.0296742413,0.0276131816,-0.0224844404,0.0116425129,0.0066900924,0.0352644846,-0.045309592,-0.0012541263,-0.0053314264,-0.0817185789,-0.0896629915,-0.0043948265,0.0051268963,0.0326316841,0.0067592636,-0.0529710948,-0.0112184826,-0.0586140677,0.0393598005,0.0024879712,0.0428320915,-0.0166697334,0.0415209904,-0.0395253524,0.0028291389,-0.0209903214,0.0229800884,-0.0310091861,-0.0018246967,0.0200720914,-0.038422972,0.0084969113,0.0325751491,-0.0221371111,0.0189136043,-0.0580112711,-0.0962024778,-0.0850165263,0.0518218018,-0.0435355753,0.0146513144,0.019094212,-0.0503010191,0.0193836447,0.0238423105,0.0587836951,0.0129393777,-0.0755534843,0.0023660273,-0.0067382357,0.0373081192,0.011273318,0.0164173003,0.0152236568,-0.0286235772,-0.0160399396,0.0113585461,0.0684854239,0.0139558641,0.0381501019,-0.0726551041,0.0245674737,0.0517441109,-0.0049989233,0.0236224607,-0.0003555594,0.0667554587,-0.0711176768,0.0166183189,-0.0264746174,0.0142982779,0.0632389411,-0.0255177021,0.0509639271,-0.024457274,-0.0519048795,-0.0257077292,0.048166912,0.0038273835,-0.0676135942,0.0330093019,0.0317191407,0.0101275127,0.0339186452,0.0308364183,-0.0216716472,-0.0496413372,0.0339147337,-0.0402915701,-0.0272586923,-0.0197066646,-0.0022353632,-0.0100464076,-0.0487545617,-0.0247698929,0.0473897383,0.0505312979,0.04847987,-0.1498845071,0.0447597727,0.0000097946,0.0409947373,-0.0287428256,-0.0089324331,-0.0069801179,0.0111448457,0.0081302039,-0.0408534855,-0.0766912922,-0.0057113017,-0.0578548312,-0.0443935245,0.04254454,-0.0293280985,-0.0173849035,-0.0230259057,0.0504930094,-0.0199629758,0.0435006246,0.017271135,-0.0855933279,-0.0734098107,-0.0526103415,0.0607008561,-0.1131529212,-0.0104530677,0.016599115,-0.0517642722,-0.0252502952,-0.0151065579,-0.0353811011,-0.0551774763,-0.0187790859,-0.0308003053,0.0451792441,-0.0153298676,0.0021054163,0.0476549789,-0.0236459728,0.0597094633,-0.0308740269,-0.0425458811,0.0396815017,-0.0155080156,-0.0002039162,-0.0532733388,-0.0137177156,-0.059882924,0.0063285865,-0.020931026,0.0271258522,0.0306655988,0.0056549083,0.0240810625,0.0735732317,0.0428229198,0.0076528275,-0.0171273053,0.015966896,0.0029593417,-0.0270416681,-0.0082859304,0.0571609102,0.0304084867,0.0105480161,-0.0451850817,0.0027170014,-0.0207346547,0.1110709012,-0.0070465091,0.0749789104,-0.0156006515,0.0211895686,-0.0058786198,0.0540725812,0.0610643402,-0.0402258337,-0.0198976491,-0.0631577075,0.00356943,0.019786872,0.0030899555,-0.0118966838,-0.0338468328,0.0127184214,-0.0036985551,-0.0005310148,0.0235089455,0.010880908,0.0647981837,0.1132780686,-0.0379959866,-0.0456098355,-0.0710917339,0.0076287817,0.0258246474,0.0074307881,-0.027342787,-0.0153126325,0.0325544141,0.091575712,0.0171619188,0.0079572834,-0.0557394698,0.0474540293,0.0303574204,0.024718279,-0.0079148607,-0.0066030635,0.0022814467,0.0033831955,-0.0026454153,-0.0109821465,-0.0352875292,0.0438756905,-0.0307509676,-0.0070432038,0.0556761809,0.0050981417,-0.0374877937,0.0179027207,0.0041703647,0.0035417615,0.0786188096,-0.0042020828,-0.001742776,0.0588067733,-0.013115474,-0.0000267632,0.0173336659,-0.0316382647,0.0013833868,-0.018347742,-0.0085648531,0.0083868578,0.0133785978,-0.0261672176,0.0543385856,0.0187460724,0.0122410627,-0.0131462766,-0.0265593417,0.0442004018,0.0039224327,-0.0225855559,-0.0474734008,0.0946519971,-0.0438593253,0.002251907,0.0139877032,-0.0201838464,-0.0207030065,-0.0368115082,-0.0181267019,-0.0251109842,0.0450223014,-0.0656098276,-0.0440103933,0.0377348401,-0.0230481997,0.0350003205,-0.0019542254,0.0319054797,0.0001328082,-0.0189358816,-0.0159084331,-0.0601112172,-0.0064270217,-0.0264940653,-0.0050601289,-0.0247956235,-0.0589178242,0.0313037783,-0.0267153904,-0.0500549339,-0.0380361043,-0.0442802645,-0.0131676411,0.0307213273,-0.0266348161,0.0360401571,-0.0184699409,-0.019811742,-0.0198975876,0.0362527184,0.0397401899,-0.0012846066,-0.0628085881,-0.0318176299,-0.0308032874,0.0058411774,-0.032408502,-0.0089623118,-0.0152298016,0.021700738,0.0294568632,0.003482067,0.0344277956,0.0095907673,-0.0004781834,-0.0434285514,-0.0367471613,0.029914394,-0.0126853064,0.0558380224,-0.0309188012,0.0108925169,-0.0120376879,0.0461210869,0.0107198814,-0.0191727765,-0.0060622538,0.0262351837,0.0471411608,0.0250210147,-0.0463804677,-0.0027635312,0.0262689013,0.0297217611,0.0256173518,-0.0596335083,0.035208784,0.0512234904,0.0193862692,-0.0041022343,-0.03566036,-0.0693736821,0.0052715004,-0.0184876323,-0.0537473634,-0.0380378067,0.0207793787,0.0152908927,-0.0084638381,0.0254972316,-0.0071749566,-0.0206221808,0.0010771025,-0.042822957,0.0309303198,0.002354681,0.0224531442,-0.0359751731,-0.0699667409,-0.0495106801,0.0105480971,0.0020514277,-0.0092181237,-0.0257531311,-0.0604977235,-0.0216940548,0.0064434158,0.0132603263,-0.0891881064,0.0177283362,-0.0446312204,-0.0232828818,-0.0209150817,0.0080670035,0.0270287152,-0.0602087341,-0.065226756,-0.0565254949,0.0856915861,0.0626377463,0.0023671968,-0.0197960306,-0.0416583382,0.0092363609,-0.037906453,-0.0111174919,0.008670181,-0.0224817228,-0.0488204584,-0.0207495522,-0.0495323539,0.0041906685,-0.0677813068,0.0164192282,-0.0199103598,0.057595782,0.0459199809,0.0051826928,0.0182005074,-0.0477535203,-0.0296972226,-0.0156973246,-0.0783328116,0.0042212144,-0.0047024842,0.00884875,-0.0182684679,0.0147445351,-0.0423400253,0.004745245,-0.0065263319,0.0356732085,0.0321736634,0.0015793999,-0.0190098844,0.0030072886,0.0356326997,0.02974342,0.0641176179,0.0255382881,0.0402378812,-0.037333291,-0.0175151695,0.0317810588,0.0084538441,-0.0625332519,0.0023042951,-0.0037014231,0.0302303527,-0.0796785504,0.0327527821,0.0214622486,0.0470334589,0.0240193531,0.0051884428,-0.0379635431,0.0222836845,-0.0382746421,0.0591592342,-0.0160766989,-0.0110629369,0.0374761298,0.0399767943,-0.0078864507,0.0117897,0.0096171387,-0.0403321087,-0.0174972955,-0.0111210681,-0.0229143705,-0.0624416098,-0.0024166743,0.0016138068,0.00972581,-0.0135560306,-0.0232166387,-0.0224365722,-0.1023324206,0.0125893159,0.043539457,0.0043214113,-0.0020402395,-0.0324343108,-0.0251342878,0.0197520647,0.0113175083,0.0597878695,0.0731464848,0.0277176462,-0.0045814831,-0.0149225434,-0.0355768055,-0.038090419,0.0254614055,0.0178215448,-0.0415270291,0.0059310822,-0.0346638933,0.0343459025,-0.0024188668,0.0560853854,0.0759244114,-0.0265935473,0.0006389617,0.0653918162,-0.0069171353,-0.0059313402,0.0386070237,0.0308366399,0.0077766329,0.024938086,0.021677075,0.0428988189,-0.0587386414,-0.031210335,0.0692069009,-0.0203707721,0.0046361368,-0.0304041002,-0.0593214147,-0.0449574403,0.0047461102,-0.0144711137,0.0006901085,0.012164427,0.020616373,0.0243692528,-0.0698880926,-0.0029244877,0.0157345384,-0.0183365997,0.0653015003,-0.0100711109,-0.0199718215,-0.0193141997,-0.0153045226,0.0402530432,0.010855238,0.0200040136,0.0371073969,0.0242928248,0.029732028,-0.0150794657,0.0103828926,-0.0070091882,0.0112095224,-0.0446525142,0.0272256043,-0.0307550449,-0.0802583098,-0.0470593646,0.0120190885,0.032090459,-0.0627287626,0.0017048412,0.0228517056,-0.0939392596,0.0061112866,-0.054230202,0.0081892377,0.01478671,0.0018996119,0.0016413181,0.0140590481,0.0734577253,-0.0070637297,0.0066683558,0.0567216873,0.0337205864,0.0280000009,0.0357334353,0.0510454141,0.0565450788,0.0099147102,-0.0001690207,0.0183665249,-0.0138865449,-0.0264113098,0.0037276824,0.0446584336,0.0266685933,0.0441346727,0.0105409445,0.0117055606,-0.0408536792,-0.0808027908,0.0049120272,0.0347479545,0.0574670285,0.0410898924,0.0080122724,0.0237523168,0.0325571969,-0.0377371572,-0.0265158471,-0.044147063,0.0090509923,-0.038068708,0.0291819256,0.0098194713,0.0244217664,0.062410146,0.0430529043,0.0265162736,-0.0231671184,0.0064785904,0.0288769323,-0.0167449731,-0.0306849275,-0.0603849553,0.0022311935,0.0174806938,-0.0273388252,-0.006669431,-0.0598328598,-0.0675717145,-0.0507447869,-0.0284111127,0.0432233475,0.027384283,-0.0523223616,0.0241545606,0.0415421911,0.0333764255,0.0459836349,0.0448563509,-0.0588805303,0.0310102552,-0.0065507856,0.0290639512,-0.0293157399,0.0038586487,-0.0240725204,-0.0750140697,0.0225017034,-0.0106180301,0.0027535222,-0.0266900659,0.0149274962,-0.0039523412,0.0306689311,-0.013079389,-0.0228077509,-0.0234439019,-0.0039099264,-0.0201241132,0.0064154891,-0.0617880113,-0.0000505964,-0.0214322954,0.0085337758,-0.0273785312,0.0017896661,0.0238911603,0.0202874523,-0.0114846332,-0.0013792767,-0.0873462334,-0.0446930118,-0.0132989381,0.0012946337,0.0583826005,0.0052992748,0.0707037896,0.0251409095,0.0418035984,0.0209941361,-0.0237741135,-0.0104772458,-0.0277773961,-0.0224427469,-0.0126848882,0.0096267285,-0.0288199224,0.0152764795,0.0201040749,-0.0254660528,0.0379109792,-0.0806664899,0.034079086,0.0067181974,0.0321658067,0.0062016328,0.0598411262,0.0471950099,-0.0263035763,-0.025582388,-0.0311939288,-0.0026367463,-0.0118327653,-0.0197588727,0.0241456591,-0.0227044038,0.0147333806,0.0429583602,0.003573318,-0.0114811882,-0.0226195417,0.0246782806,0.011937459,0.0674331486,-0.0473015495,-0.0399481691,0.020940695,0.0056807166,-0.0059398212,0.0632432699,0.0131455259,0.0262472425,-0.0510484651,-0.0127203604,-0.0779287666,-0.0550294593,0.005188691,0.0608954318,-0.0136716049,-0.0104980664,0.0357555971,0.0258710049,0.0464185737,0.0157391746,0.0515601821,0.0023567989,0.0383931361,0.0090012383,0.0379550084,0.0362202562,0.0101360939,-0.0130709494,-0.0617292188]}\n",
            "{\"id\":8,\"reviews\":\"Loved it!\",\"embedding\":[0.0064478409,-0.0219190493,0.0004726262,-0.0123987272,0.0236608833,0.0305777956,-0.0178847145,-0.0063747359,0.011484311,-0.0290615559,0.0115208374,0.0059008771,0.0235328767,0.009596006,-0.006325522,-0.0002346289,-0.0628545582,0.0009296091,-0.004670192,0.0265644863,-0.0769436881,0.0240221992,-0.0344913788,0.0276515223,-0.0515751578,-0.1191716716,0.0034237641,-0.0368863046,-0.0331498832,-0.062747106,-0.0093130348,-0.0172883365,0.0075621051,-0.0623679347,0.0286001526,0.0460071601,0.028033264,-0.0179935787,0.0114342868,0.0382520184,0.0175531842,-0.0096838549,0.0386950523,-0.0243209098,-0.0200342312,0.0065199877,-0.0602137707,0.0086895423,-0.038925197,-0.0268942267,-0.0051825731,-0.0243735667,0.0424211472,0.0002834296,0.0078025502,-0.0495805591,-0.0352651551,-0.0549996272,-0.002121513,0.0100784721,0.0581487343,-0.0371798947,-0.0065953196,-0.1085523963,-0.0515435562,0.026804097,-0.0056506563,-0.0227388311,-0.0246371813,0.0056353593,0.0465220697,0.01512603,-0.0576887429,0.0438642725,-0.0224072374,-0.0161953121,0.0323290192,0.0188637674,0.0595004484,-0.0243172757,-0.0318311527,-0.0296656862,-0.0178305618,-0.0621300861,-0.0086855069,0.010827194,0.0300631393,-0.02186279,-0.0567742512,-0.0394597203,-0.0488849245,0.0584408082,0.0406038836,0.0114641683,0.021781303,-0.0007462956,0.0241911616,-0.0484165251,-0.0248827264,0.0262825731,0.0358227193,-0.0300888587,0.0264431927,0.0058593373,0.0437747054,-0.0309751034,-0.0031660406,0.0264963303,-0.0300243516,-0.095692724,-0.0387569331,0.0170699768,-0.0582641028,0.0139434794,0.0366107188,-0.0660923719,0.0034596871,0.0379240736,0.0543771833,-0.016607048,-0.0246834196,-0.0204764102,-0.0237141512,-0.0133231347,-0.0045485268,0.0096614966,0.0731633753,-0.0379813686,-0.0281575061,0.0071363165,0.0325648747,-0.0205887966,0.0469549708,-0.0294760969,0.0123542771,0.0340581946,-0.0050720614,-0.0199608058,0.0176624525,0.0759270936,-0.0724259913,-0.0196298007,0.0067770821,0.0105282944,-0.0086360723,-0.034081202,0.0519404113,-0.0085599255,-0.0556663312,-0.0371236205,-0.0018141655,-0.0795734227,-0.0399327762,0.0243468285,0.0525622256,0.079496637,0.0323372148,0.0832082778,0.0277684368,-0.0392500721,0.0551365055,-0.0088837715,-0.0420235507,-0.0120160989,0.0169775542,0.0199651569,0.0234769396,0.0014743927,0.0044654529,0.0387086645,0.0446742587,-0.0729242414,-0.0216062944,-0.0607991293,0.0728052929,0.0166521538,-0.0015881328,0.0089279395,-0.0506214872,0.0193832144,-0.0031241772,-0.0965941921,0.0378227867,-0.0627708808,0.0055928789,0.0615615062,-0.0408790968,-0.0174783207,-0.0280398205,0.0311622359,0.0111779347,0.0152611444,-0.0131080318,-0.0602070056,0.0300446451,-0.0356453508,0.0503216498,-0.111958541,-0.0120833889,0.0447525233,-0.0156149212,-0.0297986064,-0.03220734,-0.0090631666,-0.0047727786,0.0111135822,-0.0775391161,0.0165794119,-0.002624844,0.0377324373,0.0334758535,-0.032798484,0.0848304629,0.0052034385,-0.0435963534,-0.0323785469,0.0226936173,-0.0628409982,-0.0793481842,-0.0225608479,0.0312998816,0.0387367085,0.0012062547,-0.0026932787,0.0094597479,0.0042381897,0.0044054473,-0.0246991236,0.0167768244,0.006721966,-0.0192477349,-0.0057779518,0.0160712749,0.0057144719,-0.0041362671,-0.0077502797,-0.0242258739,-0.0092016757,-0.0961478874,0.0245841183,-0.012387584,0.0565178394,-0.0097966716,0.0537838191,0.0053961449,0.036741402,-0.0211551543,0.0021116775,0.0683720559,0.012356231,0.0151089877,-0.0925815254,-0.0184161272,-0.0061454489,0.0261926837,-0.0185127277,-0.0031939517,0.029650189,0.0226696841,0.0199389793,-0.0140564544,0.0426821858,0.0235441085,0.1096497029,-0.0685632154,-0.0328086205,0.0355690382,-0.0020849251,0.0323433951,0.0144834248,-0.0013769303,-0.0191709884,0.0686521381,0.0286783129,-0.0204210356,-0.0109522799,-0.0142418807,0.0027803811,-0.016770089,0.0253024288,0.04151107,-0.0205831751,0.0177599583,0.0679180846,0.0372096673,-0.0484744497,-0.021724686,0.0131098591,-0.0234848764,-0.0048945504,-0.0442298204,-0.014316313,-0.0161638707,0.0685941204,-0.01931086,0.0121098235,0.0471396521,0.0078410096,-0.0197922681,0.0536960922,0.0024561379,-0.059287753,-0.0342332572,-0.0245670117,-0.0268463269,-0.0384105593,0.0573406853,-0.0069770417,0.0327755176,0.0031252634,0.0477362946,-0.0128226057,0.0009664954,-0.0120698772,0.0179839656,0.0444315299,0.0208274238,-0.0401168242,-0.0777646601,0.0488784313,-0.0931247547,0.0104725594,0.0699008331,0.0314127542,-0.0032347415,-0.0174848624,-0.0201291405,0.0075462544,-0.0043977937,-0.0651196912,0.020436408,0.0300401244,-0.0552312508,0.0282888766,-0.002086868,0.023618998,0.0160503536,0.018961437,0.0327461846,-0.0902412981,0.0301008765,-0.0692921653,0.0204266049,-0.0321043618,-0.010802554,0.0171362683,-0.0379941724,-0.0068136146,-0.0835509375,-0.0303106308,0.0142522817,0.0458580554,0.0343026109,0.0490405634,-0.0019138709,0.0164506659,0.0287635978,0.0239836704,-0.0107460897,0.0000066652,0.0216695983,0.0217237081,-0.0379160494,0.01947123,0.0127997454,0.0143539039,-0.0778672546,0.0074100168,0.0122817066,0.0055874418,0.0235556718,-0.0124728605,-0.0077618337,0.0012783943,-0.0491896495,-0.0095502874,0.0354770124,0.0426354595,0.021428531,0.0339759551,-0.0072744526,0.0046761916,0.0290176887,-0.0399198085,0.0208382029,-0.009685264,0.0921385661,0.0055313688,-0.0048384606,-0.009286751,0.0085239559,-0.0010834774,-0.0320317149,-0.0385203399,-0.0146769108,0.046205841,0.0287089199,-0.0578213893,-0.0067927721,-0.0242242478,0.0118337423,-0.0072936942,-0.020937508,-0.0249003209,0.0106286649,0.0122470176,0.0173203144,-0.0304362886,0.0765200183,-0.0056637097,0.039662838,-0.0305106789,-0.0397916473,0.0305995308,0.0524595901,-0.0420918763,-0.0089258747,-0.0207903385,0.0335397534,-0.001095476,0.0127073647,-0.012204391,-0.0433537103,-0.0110423602,-0.0222623404,-0.0058258446,-0.0607711822,-0.0130616557,-0.0309121031,-0.0557399727,-0.050085187,-0.0348590612,-0.0041436059,-0.0138214063,-0.0440667905,0.0174289644,0.0549287088,0.0457827747,0.0288264304,-0.0010086574,-0.0183692537,-0.0009176729,0.0032276562,-0.0023833863,0.0040804129,-0.0291871,-0.0276669189,-0.0336281471,-0.0486210585,-0.0359905846,0.0099938903,0.0244003292,-0.0896541849,0.0415861234,0.061923191,0.0391623974,0.0052631302,0.024382323,0.000207141,-0.017782947,-0.0093134977,-0.0267012808,0.0257313605,0.0194098223,0.0159264375,0.0145109091,0.0318143703,0.0241903421,-0.0099391071,0.0543431379,-0.021247264,0.0620615296,-0.0126937898,0.035943225,0.0402965173,-0.0232156795,0.0444201976,0.0544425622,0.0096696587,-0.0386047848,-0.0513685346,-0.000083366,-0.0049421322,-0.0849134997,0.0544901192,0.0268548485,0.001412161,-0.0523876213,-0.0397818126,0.0325903296,0.0290170349,0.0297104307,-0.0343018435,-0.0064807455,0.0274327192,-0.0375242345,0.0152546959,0.0253781956,-0.0103166355,0.051919885,-0.0055869333,-0.0070454017,0.0119527383,-0.0502798855,0.0195047576,0.0479080789,-0.0061752265,-0.0275383182,-0.0578217171,0.0121851023,-0.0398561172,0.0299207699,-0.0199749079,0.0074154884,-0.0432728492,-0.0268898513,-0.0042792112,0.0280528497,-0.0051146462,-0.0202583671,0.0033722129,-0.0252333339,-0.0169086773,0.0223480724,0.0641402751,0.0190621857,0.0762270391,-0.0206138026,-0.0101231979,-0.0040492807,-0.0500230603,-0.0071317353,0.0047844057,0.0036087143,-0.0052462625,-0.0452916883,0.0167448036,0.0100567006,0.0270567928,0.0462253913,-0.0635179654,-0.013354796,0.0609078854,0.0068079662,0.0303983446,0.0552317351,0.0477271266,0.026127927,0.0263081957,0.0490877703,0.0320231132,-0.0357569344,-0.0446431562,0.0631631091,0.0382378846,-0.034304738,-0.0142769013,-0.039853733,-0.0054716701,-0.0246562846,-0.0016350406,-0.0313081965,-0.0286173858,0.0059078177,0.030663576,-0.0415470377,-0.0141127566,0.048549857,-0.0238743201,0.0162008666,0.0053355494,-0.0345275737,-0.0542002842,-0.0297225304,0.0216624476,0.0313119553,-0.0505036265,0.0240573417,-0.0606317893,0.054056935,0.0163107328,0.0416529849,-0.0199676156,0.0639150366,-0.0795403197,-0.0518897735,-0.0246514082,-0.0390069224,-0.0122596165,-0.0594212897,-0.0050073056,-0.0576788895,0.0303982738,-0.0220083836,-0.0538791567,0.0066730548,0.0256864242,0.021234164,0.0696137175,-0.0276415609,0.0263881907,0.0331039056,0.0659264773,-0.0325580537,0.0005835465,0.0186487082,0.0443311259,0.0046905205,0.0133185238,0.0160757247,0.0473214798,0.0043732398,-0.0026514607,0.0090098474,-0.034654174,0.003818034,-0.0201640539,0.021367386,0.0501545183,0.031058697,-0.0141475694,0.0092422487,-0.0582063794,-0.0193277095,-0.0473150797,-0.0201030727,0.0152299711,0.0541315041,0.0108278859,-0.0266191531,0.0595289543,-0.0064163553,-0.0450693294,-0.063999027,0.0476778895,-0.054437425,-0.0330315083,0.0494224653,0.0215400718,0.0442908481,0.0219919812,0.0553724915,-0.0426406115,0.038947016,-0.0000025979,0.0107245995,0.0040238495,-0.0488020964,0.0206668489,0.0193330515,-0.0336919129,-0.0481726043,-0.0515327677,-0.0672201961,0.020408636,0.0115799326,0.0028241544,0.0055300435,-0.003676912,0.0433953218,0.0289313849,-0.0628336668,0.0141714066,0.016946448,-0.0065229894,0.0104108779,-0.0056673065,0.0550786741,-0.0238713361,-0.006362108,-0.006599992,-0.0429644138,0.0480436645,-0.0696319193,0.0176770613,-0.0411524847,-0.020221699,-0.0196815971,0.0339367799,0.0164998621,0.0023445503,-0.0044217356,-0.0006768723,-0.0152889891,0.0123355342,-0.0141190672,-0.0285980012,-0.0156840496,-0.0081742508,-0.0179730169,0.0178530961,0.0215081815,-0.043911282,0.0117516005,-0.0074392231,-0.0591958873,-0.0066278349,0.0285273474,0.0100742029,-0.0210802201,-0.0018000969,0.0335945375,0.0315327793,0.0134667503,-0.011106669,0.0254439767,-0.030905338,-0.0207798369,-0.0080220439,0.0113721164,-0.0407031998,-0.0240817722,-0.0189980809,0.0046854513,-0.048509188,0.0246472154,-0.1369736791,0.0332970209,0.0301624369,-0.0149059808,0.0280188508,0.017917743,0.0374602675,-0.0348782465,-0.0447640046,-0.0035684169,0.0047813752,-0.0587699115,-0.0080637904,0.0081966072,-0.0371629894,-0.0215020664,-0.0049512885,0.0530402884,-0.0502689742,-0.0327360444,0.0009855259,-0.013652103,0.0899774283,-0.0122215683,-0.0223767068,0.0473813899,0.0313040726,-0.0454400256,-0.001418761,-0.0357860886,0.0114227869,-0.016124377,-0.0216226615,-0.0421998203,-0.0226981845,0.026515523,0.0394068062,0.0046839751,-0.0434747972,0.1159028485,0.033152245,0.0095216045,-0.0001713638,-0.0046781846,0.0070046228,0.0778412893,-0.0345144048,0.022434596,0.0404616706,-0.0380504541,-0.0156806149,-0.0114070419]}\n",
            "{\"id\":9,\"reviews\":\"Bad customer service\",\"embedding\":[0.0100528114,-0.0138626648,-0.0296652168,-0.0191843715,0.0111096296,-0.0001981616,-0.0082736518,-0.0108359512,-0.0589975901,-0.0061128489,0.0042238156,0.0217339024,0.0304045621,0.0254372228,-0.0357972533,-0.0063199024,-0.0549837314,-0.0051317564,0.0278623663,-0.0155716734,-0.0866574571,-0.0142267374,-0.0071959426,0.0158655755,-0.004226916,-0.0977906212,0.0681400821,0.025535753,-0.0180517174,0.0046316534,-0.007663413,-0.0077869878,-0.0273213349,-0.0610414185,0.0115456348,-0.0013094592,-0.0199121423,0.0090318769,0.032044962,0.0148535082,0.0217588935,-0.0269415975,0.0179848988,-0.0151350731,-0.0672759861,0.0569977686,-0.0116390297,0.0723266378,0.0068682153,-0.0396242738,0.0064393245,-0.0171566196,0.0214629341,0.0266439598,-0.0194970127,0.0174159985,-0.0128894467,-0.0250554308,-0.1065649092,-0.0042383997,-0.0186096188,0.0385942385,0.0128940782,-0.0719902217,-0.0119841648,0.0299064666,0.0243812744,0.0043496522,-0.0038855877,-0.069819428,0.0193438791,0.0149651906,-0.0522680767,0.0005889352,0.0270355623,0.0364760272,0.0389671624,0.0371249542,0.0563530661,-0.0483533666,0.010328046,-0.0625518337,-0.0451974906,-0.0569100864,-0.0208821837,0.0644823536,0.0582664199,0.0156834498,-0.0456955507,0.0448413268,-0.0224616602,0.0121423304,0.0106437346,0.0021132354,-0.0290182177,0.0306457914,-0.0324789435,0.0062824702,-0.0147481337,-0.0123810032,-0.0024659089,-0.0300112199,0.0224184431,-0.0127572529,-0.002746932,-0.0092790611,-0.0457023904,0.0091316067,-0.0112695778,-0.1102989465,-0.0444964245,0.0329995528,-0.0321081653,0.0299067572,-0.0449635014,-0.0145962397,0.0198117197,-0.011515175,0.0340699181,0.0048265555,-0.0133314142,0.0336667635,0.0291929208,0.0034212875,0.0204142723,0.0211961828,0.0281451624,-0.0203510206,-0.0425861552,-0.0536757149,-0.0012145984,0.0131717827,0.0070618037,-0.0829878077,-0.0067445524,0.0242010616,-0.0033329288,-0.0108284485,0.0327548981,0.0821582302,-0.0381228365,-0.0016636606,-0.0113671944,0.0335710719,0.0038135902,-0.0434742086,0.0220177639,-0.0653696507,-0.0645232275,-0.0005619399,0.0324475393,-0.0123159932,-0.0493287034,-0.0174290631,0.0540327616,0.0307373703,0.0614435486,0.0159393772,0.0198094826,-0.056251049,0.0521826074,-0.0520858951,-0.0091803921,-0.0244502369,-0.0002507073,-0.0036590465,-0.0161228664,0.0061318348,-0.0148268007,0.0267533232,0.0959661603,-0.0580342971,0.0071190572,-0.0371147282,0.0393295474,-0.0182576347,0.0443448238,0.0284837838,-0.0027551937,-0.043621894,-0.0405080095,-0.0522074029,0.0421103016,-0.0059978282,-0.0850895271,0.0288199279,-0.0376418568,-0.0090344232,-0.0262453929,0.0626742393,-0.010275892,0.0057652849,-0.0006622932,-0.0417341925,0.0006359279,-0.0100144539,0.1014871672,-0.020399062,0.0043564797,-0.0141522912,-0.0208563246,-0.0309031066,-0.0561972819,0.0157521572,-0.0328089744,-0.0242091902,-0.0430330895,-0.0012531467,0.0400696993,0.0129193654,0.0033478853,-0.0421797745,0.0524549633,-0.0168176237,-0.00207304,-0.0041306699,-0.0224149451,-0.0296076108,-0.0564217865,-0.0305089708,-0.0126961768,-0.0049132137,-0.0062667541,0.0358979814,0.0143893249,0.0455737188,0.0131649124,0.0390771888,0.0156481247,-0.0077851559,-0.0442217849,-0.0187216941,-0.0242668837,0.0108579909,-0.004308485,0.0529001728,0.0439615659,0.0272882488,-0.0488482751,0.0224581156,0.0411433727,0.0419782735,-0.0149454856,0.0475049019,0.0152991693,-0.0019170474,-0.0636516064,0.0427574255,0.0615698323,-0.0183288716,-0.0401624441,-0.0414459221,0.0075709717,-0.0109149776,0.0292645656,0.0179738868,-0.0237128008,0.0679178536,-0.0218638014,-0.0162627362,0.0308184624,-0.0103540421,0.0394503847,0.0818122253,0.0007196361,-0.0388887487,-0.0017519931,-0.0002402445,0.0228444021,-0.0190568473,-0.0449508168,-0.0537794754,0.0066816341,0.0451937132,0.005107665,0.0145244254,-0.0431025997,0.0003429367,0.0051529077,0.0334722511,0.0579882897,-0.0367674232,0.0266929679,-0.0106787449,0.0395118371,0.0470018871,-0.0448893458,-0.0125238532,-0.0621407628,-0.0244630817,0.0274438635,-0.0057745529,-0.0215156022,0.0536404401,-0.026419485,-0.018747801,0.0046511237,-0.0067305015,-0.0608615354,0.0957448632,-0.0062792185,-0.0138650462,0.0210222136,-0.0249338951,-0.0130798742,-0.0239459239,0.045151379,0.0406490378,-0.0008191874,0.0034171757,0.0334746167,0.0134283649,0.0377507545,0.0099394489,-0.0383979231,0.0488297455,0.0026710187,-0.0260158349,-0.0401302166,0.0547956713,-0.0194881223,0.0084091993,0.0882609114,-0.03773617,-0.0238438919,-0.0233869758,-0.0162089691,-0.0098138265,0.0684161037,-0.029938383,-0.0296025183,0.0408336334,0.0044713588,0.0284119211,0.0031068623,0.0187128074,0.0092788525,0.0138104698,0.0028209183,-0.0601394363,0.019160971,0.0327256396,-0.0436035208,0.0021440529,-0.0198676903,0.0700759217,-0.0272688009,-0.0028830809,-0.020795716,-0.0668345317,-0.0039109197,0.0176625401,0.014667985,0.0390631221,0.0437433161,0.017316604,-0.0075320257,0.0147001175,0.0577092953,-0.0106094917,-0.0388732851,-0.0308316946,-0.0233069826,-0.0034264089,0.0341828763,-0.0151278451,-0.0158089083,0.0238294322,0.0320479572,-0.019060703,0.0166956782,-0.0217616055,0.0029379444,-0.0025956535,-0.0455785133,0.0221867319,-0.0572866313,0.007846063,-0.0173485894,-0.0051210877,-0.0248674061,0.0646260977,0.015251576,0.0146677187,-0.0106150098,-0.0120595433,0.0129321273,0.0394021124,-0.0041506374,-0.0410820693,-0.0295097679,0.0465981551,0.0155074894,-0.0568222068,0.0017880582,0.0390223786,0.0057925088,-0.0398596525,-0.0249048397,-0.0156291667,0.0287403092,-0.015886195,-0.0492990017,-0.0447288677,0.0301976651,0.0207223222,-0.0209171344,0.0127311777,-0.0052227955,-0.0388268121,0.0132524716,-0.0385353379,0.0242367554,0.0120812245,0.0409878641,-0.0446938798,-0.0130441729,-0.0105130272,-0.0254706442,0.0130120553,0.0215338338,-0.030888591,-0.0389780737,0.0715240762,0.0416059867,0.0117033413,-0.0745243728,0.003485539,-0.0375955813,0.0239882134,0.0179581903,-0.0006842394,0.0419621058,-0.0102816951,-0.0375838466,-0.0361618362,0.0684308708,0.078406997,0.0103156567,-0.0313111581,0.0104065659,0.0206925552,-0.0296891741,0.0520994775,0.0475532413,-0.0257680342,-0.0722998604,-0.006647116,-0.0298624523,-0.091515258,-0.0117399571,0.0511427261,-0.0129734743,0.0969082862,-0.0567513071,0.0626178533,0.0486684144,-0.0180203542,-0.0384546071,-0.0269528106,-0.0035237127,-0.0674881265,0.0029138394,-0.0262040179,-0.0086140409,-0.012636032,0.0655970648,0.0303031262,-0.0035561349,0.0500669181,-0.0354647823,-0.0236297753,-0.0067643332,0.0315801688,0.0283937771,-0.0044951821,0.0772135034,0.0815280899,-0.0070691812,-0.013719813,-0.0218785293,-0.03282547,0.0062699793,-0.0446182229,0.046575468,0.0325332768,-0.0163898561,0.0009747669,-0.0338367596,0.0117306598,0.0311777294,-0.0071143876,0.0028900881,-0.0468444899,-0.0258730818,0.0001438879,0.039142698,0.0304428991,0.0039097108,0.0398764908,0.0470573977,-0.0070116208,0.0344553664,0.0301948749,-0.01996639,-0.0011686209,0.0047405362,-0.0249864794,0.0099531021,0.043288976,-0.0200475659,0.0048764632,-0.0026412366,-0.0412876569,-0.004739319,-0.0817216262,0.0060689631,0.0636806041,-0.01670257,-0.0158115234,-0.0127441194,0.021348035,0.0071677975,0.0113994889,0.0184000656,0.018325761,0.0647401661,-0.0515101254,-0.0785933807,0.0105142221,0.0470657162,-0.0118942568,-0.0221456718,0.0104856305,-0.0217779353,-0.078936182,0.0674913153,0.0027632965,0.0181586128,0.1089047641,-0.0384926759,0.0217660014,0.0663442239,0.0342794359,0.02827641,0.0402369052,0.0278605651,-0.028481679,0.0263701659,0.0288940761,-0.023121085,0.0266133472,-0.0191576183,0.0357685238,0.0163418669,-0.0593475886,0.0206134859,-0.026742572,-0.0704092905,0.0172754265,-0.0488823019,-0.0404061973,-0.0174764078,0.0193580966,0.0541321523,-0.0073393174,0.0203112755,0.0169305466,0.0162117742,0.0462042205,-0.0224573296,-0.0599264577,-0.0236534718,0.0012340342,0.0320976079,0.0551413596,-0.0060761655,0.0438054316,-0.0020689857,0.0092700515,-0.0256318748,-0.0016577058,0.0314457268,0.0408770256,-0.0118304212,0.0184241049,-0.071591109,-0.060075108,0.0247054305,0.0050612492,0.0092342393,-0.0951407328,-0.0243289471,0.030778544,-0.062716268,-0.0332998447,0.0047493041,0.0133600179,-0.0268974528,0.0140061313,0.0003138964,0.0251855198,0.0065840879,-0.0371061265,-0.0030015805,0.0021725802,0.0431199335,-0.0016407825,0.0652058646,-0.0225484837,0.0351003632,0.0165845063,0.0255384967,-0.0521496646,-0.0273752138,0.0277883429,-0.0033287953,0.0542590581,0.0381590575,0.002620063,0.0347222835,0.010454597,-0.0074707782,-0.060251046,-0.0364307687,-0.0212347303,0.0343421139,0.0812209621,-0.0568953939,-0.0084675616,0.0086838445,-0.0456090756,-0.0313292816,-0.071121335,-0.0405011699,-0.034623161,0.0245525446,0.0327869579,0.0432584211,0.0093066441,0.0400836542,0.0158114135,-0.0018689545,-0.0095229503,-0.0023147599,-0.0773363933,-0.0098249288,-0.0846899897,-0.0026923304,0.0245134216,0.037765976,-0.004410442,-0.0428583845,-0.0591827407,-0.0293296874,-0.0173592307,-0.0037678266,-0.001556899,-0.0387355909,0.0461625271,-0.030256981,0.0464875363,0.0616791025,0.0487629399,-0.0704443976,0.0406578854,-0.0265772007,0.078659147,-0.0068854406,-0.0142528368,-0.0551562831,-0.0531006604,-0.000120497,-0.0280380081,0.0629848689,-0.0027207846,0.0712648258,0.0539000034,0.0232799016,0.0458778404,-0.0379712209,-0.0403283425,0.0265053678,0.0065841014,0.0235132743,-0.045608189,-0.0302690323,-0.0255808104,0.0801040828,-0.061414104,0.0209502969,-0.0083565284,-0.0525245182,-0.0107431179,-0.0004658245,-0.0278976802,-0.0205778088,-0.0028010625,0.0279800892,0.0384723507,0.0088179372,0.0167327039,0.0041780644,0.0332047641,0.0113575095,-0.0452255458,-0.0240744911,-0.0204314757,-0.0324059911,-0.0655338764,0.0184600502,-0.0486068018,-0.0312503912,0.0284510683,-0.0318599157,0.0184826739,-0.0684109628,0.0227294657,-0.0284062512,0.0342786349,-0.0447298102,0.0271021333,0.0472347848,-0.0099624433,-0.0233620107,-0.0632301196,-0.0191856623,-0.0730731264,-0.0783881247,-0.007621021,0.0067038694,0.0094475634,0.02964494,0.0606557243,0.0119098229,-0.0210990645,0.0527228303,-0.0011807574,0.0557891205,-0.0209228732,-0.011209812,0.0182889346,0.0004977821,-0.0146930628,0.0328868106,-0.0070959404,0.0381636955,-0.0162245352,0.0086016702,-0.0651649088,-0.0271500479,0.0178016704,0.0459513478,0.0270561371,-0.0170015246,0.059094239,-0.0097777033,0.0556070358,-0.0172725189,0.031295754,-0.0426801182,0.0405068547,-0.0186994113,0.0075415857,0.0424673073,-0.0378466882,-0.0402132049,-0.0014070849]}\n",
            "{\"id\":10,\"reviews\":\"Loved it!\",\"embedding\":[0.0064478409,-0.0219190493,0.0004726262,-0.0123987272,0.0236608833,0.0305777956,-0.0178847145,-0.0063747359,0.011484311,-0.0290615559,0.0115208374,0.0059008771,0.0235328767,0.009596006,-0.006325522,-0.0002346289,-0.0628545582,0.0009296091,-0.004670192,0.0265644863,-0.0769436881,0.0240221992,-0.0344913788,0.0276515223,-0.0515751578,-0.1191716716,0.0034237641,-0.0368863046,-0.0331498832,-0.062747106,-0.0093130348,-0.0172883365,0.0075621051,-0.0623679347,0.0286001526,0.0460071601,0.028033264,-0.0179935787,0.0114342868,0.0382520184,0.0175531842,-0.0096838549,0.0386950523,-0.0243209098,-0.0200342312,0.0065199877,-0.0602137707,0.0086895423,-0.038925197,-0.0268942267,-0.0051825731,-0.0243735667,0.0424211472,0.0002834296,0.0078025502,-0.0495805591,-0.0352651551,-0.0549996272,-0.002121513,0.0100784721,0.0581487343,-0.0371798947,-0.0065953196,-0.1085523963,-0.0515435562,0.026804097,-0.0056506563,-0.0227388311,-0.0246371813,0.0056353593,0.0465220697,0.01512603,-0.0576887429,0.0438642725,-0.0224072374,-0.0161953121,0.0323290192,0.0188637674,0.0595004484,-0.0243172757,-0.0318311527,-0.0296656862,-0.0178305618,-0.0621300861,-0.0086855069,0.010827194,0.0300631393,-0.02186279,-0.0567742512,-0.0394597203,-0.0488849245,0.0584408082,0.0406038836,0.0114641683,0.021781303,-0.0007462956,0.0241911616,-0.0484165251,-0.0248827264,0.0262825731,0.0358227193,-0.0300888587,0.0264431927,0.0058593373,0.0437747054,-0.0309751034,-0.0031660406,0.0264963303,-0.0300243516,-0.095692724,-0.0387569331,0.0170699768,-0.0582641028,0.0139434794,0.0366107188,-0.0660923719,0.0034596871,0.0379240736,0.0543771833,-0.016607048,-0.0246834196,-0.0204764102,-0.0237141512,-0.0133231347,-0.0045485268,0.0096614966,0.0731633753,-0.0379813686,-0.0281575061,0.0071363165,0.0325648747,-0.0205887966,0.0469549708,-0.0294760969,0.0123542771,0.0340581946,-0.0050720614,-0.0199608058,0.0176624525,0.0759270936,-0.0724259913,-0.0196298007,0.0067770821,0.0105282944,-0.0086360723,-0.034081202,0.0519404113,-0.0085599255,-0.0556663312,-0.0371236205,-0.0018141655,-0.0795734227,-0.0399327762,0.0243468285,0.0525622256,0.079496637,0.0323372148,0.0832082778,0.0277684368,-0.0392500721,0.0551365055,-0.0088837715,-0.0420235507,-0.0120160989,0.0169775542,0.0199651569,0.0234769396,0.0014743927,0.0044654529,0.0387086645,0.0446742587,-0.0729242414,-0.0216062944,-0.0607991293,0.0728052929,0.0166521538,-0.0015881328,0.0089279395,-0.0506214872,0.0193832144,-0.0031241772,-0.0965941921,0.0378227867,-0.0627708808,0.0055928789,0.0615615062,-0.0408790968,-0.0174783207,-0.0280398205,0.0311622359,0.0111779347,0.0152611444,-0.0131080318,-0.0602070056,0.0300446451,-0.0356453508,0.0503216498,-0.111958541,-0.0120833889,0.0447525233,-0.0156149212,-0.0297986064,-0.03220734,-0.0090631666,-0.0047727786,0.0111135822,-0.0775391161,0.0165794119,-0.002624844,0.0377324373,0.0334758535,-0.032798484,0.0848304629,0.0052034385,-0.0435963534,-0.0323785469,0.0226936173,-0.0628409982,-0.0793481842,-0.0225608479,0.0312998816,0.0387367085,0.0012062547,-0.0026932787,0.0094597479,0.0042381897,0.0044054473,-0.0246991236,0.0167768244,0.006721966,-0.0192477349,-0.0057779518,0.0160712749,0.0057144719,-0.0041362671,-0.0077502797,-0.0242258739,-0.0092016757,-0.0961478874,0.0245841183,-0.012387584,0.0565178394,-0.0097966716,0.0537838191,0.0053961449,0.036741402,-0.0211551543,0.0021116775,0.0683720559,0.012356231,0.0151089877,-0.0925815254,-0.0184161272,-0.0061454489,0.0261926837,-0.0185127277,-0.0031939517,0.029650189,0.0226696841,0.0199389793,-0.0140564544,0.0426821858,0.0235441085,0.1096497029,-0.0685632154,-0.0328086205,0.0355690382,-0.0020849251,0.0323433951,0.0144834248,-0.0013769303,-0.0191709884,0.0686521381,0.0286783129,-0.0204210356,-0.0109522799,-0.0142418807,0.0027803811,-0.016770089,0.0253024288,0.04151107,-0.0205831751,0.0177599583,0.0679180846,0.0372096673,-0.0484744497,-0.021724686,0.0131098591,-0.0234848764,-0.0048945504,-0.0442298204,-0.014316313,-0.0161638707,0.0685941204,-0.01931086,0.0121098235,0.0471396521,0.0078410096,-0.0197922681,0.0536960922,0.0024561379,-0.059287753,-0.0342332572,-0.0245670117,-0.0268463269,-0.0384105593,0.0573406853,-0.0069770417,0.0327755176,0.0031252634,0.0477362946,-0.0128226057,0.0009664954,-0.0120698772,0.0179839656,0.0444315299,0.0208274238,-0.0401168242,-0.0777646601,0.0488784313,-0.0931247547,0.0104725594,0.0699008331,0.0314127542,-0.0032347415,-0.0174848624,-0.0201291405,0.0075462544,-0.0043977937,-0.0651196912,0.020436408,0.0300401244,-0.0552312508,0.0282888766,-0.002086868,0.023618998,0.0160503536,0.018961437,0.0327461846,-0.0902412981,0.0301008765,-0.0692921653,0.0204266049,-0.0321043618,-0.010802554,0.0171362683,-0.0379941724,-0.0068136146,-0.0835509375,-0.0303106308,0.0142522817,0.0458580554,0.0343026109,0.0490405634,-0.0019138709,0.0164506659,0.0287635978,0.0239836704,-0.0107460897,0.0000066652,0.0216695983,0.0217237081,-0.0379160494,0.01947123,0.0127997454,0.0143539039,-0.0778672546,0.0074100168,0.0122817066,0.0055874418,0.0235556718,-0.0124728605,-0.0077618337,0.0012783943,-0.0491896495,-0.0095502874,0.0354770124,0.0426354595,0.021428531,0.0339759551,-0.0072744526,0.0046761916,0.0290176887,-0.0399198085,0.0208382029,-0.009685264,0.0921385661,0.0055313688,-0.0048384606,-0.009286751,0.0085239559,-0.0010834774,-0.0320317149,-0.0385203399,-0.0146769108,0.046205841,0.0287089199,-0.0578213893,-0.0067927721,-0.0242242478,0.0118337423,-0.0072936942,-0.020937508,-0.0249003209,0.0106286649,0.0122470176,0.0173203144,-0.0304362886,0.0765200183,-0.0056637097,0.039662838,-0.0305106789,-0.0397916473,0.0305995308,0.0524595901,-0.0420918763,-0.0089258747,-0.0207903385,0.0335397534,-0.001095476,0.0127073647,-0.012204391,-0.0433537103,-0.0110423602,-0.0222623404,-0.0058258446,-0.0607711822,-0.0130616557,-0.0309121031,-0.0557399727,-0.050085187,-0.0348590612,-0.0041436059,-0.0138214063,-0.0440667905,0.0174289644,0.0549287088,0.0457827747,0.0288264304,-0.0010086574,-0.0183692537,-0.0009176729,0.0032276562,-0.0023833863,0.0040804129,-0.0291871,-0.0276669189,-0.0336281471,-0.0486210585,-0.0359905846,0.0099938903,0.0244003292,-0.0896541849,0.0415861234,0.061923191,0.0391623974,0.0052631302,0.024382323,0.000207141,-0.017782947,-0.0093134977,-0.0267012808,0.0257313605,0.0194098223,0.0159264375,0.0145109091,0.0318143703,0.0241903421,-0.0099391071,0.0543431379,-0.021247264,0.0620615296,-0.0126937898,0.035943225,0.0402965173,-0.0232156795,0.0444201976,0.0544425622,0.0096696587,-0.0386047848,-0.0513685346,-0.000083366,-0.0049421322,-0.0849134997,0.0544901192,0.0268548485,0.001412161,-0.0523876213,-0.0397818126,0.0325903296,0.0290170349,0.0297104307,-0.0343018435,-0.0064807455,0.0274327192,-0.0375242345,0.0152546959,0.0253781956,-0.0103166355,0.051919885,-0.0055869333,-0.0070454017,0.0119527383,-0.0502798855,0.0195047576,0.0479080789,-0.0061752265,-0.0275383182,-0.0578217171,0.0121851023,-0.0398561172,0.0299207699,-0.0199749079,0.0074154884,-0.0432728492,-0.0268898513,-0.0042792112,0.0280528497,-0.0051146462,-0.0202583671,0.0033722129,-0.0252333339,-0.0169086773,0.0223480724,0.0641402751,0.0190621857,0.0762270391,-0.0206138026,-0.0101231979,-0.0040492807,-0.0500230603,-0.0071317353,0.0047844057,0.0036087143,-0.0052462625,-0.0452916883,0.0167448036,0.0100567006,0.0270567928,0.0462253913,-0.0635179654,-0.013354796,0.0609078854,0.0068079662,0.0303983446,0.0552317351,0.0477271266,0.026127927,0.0263081957,0.0490877703,0.0320231132,-0.0357569344,-0.0446431562,0.0631631091,0.0382378846,-0.034304738,-0.0142769013,-0.039853733,-0.0054716701,-0.0246562846,-0.0016350406,-0.0313081965,-0.0286173858,0.0059078177,0.030663576,-0.0415470377,-0.0141127566,0.048549857,-0.0238743201,0.0162008666,0.0053355494,-0.0345275737,-0.0542002842,-0.0297225304,0.0216624476,0.0313119553,-0.0505036265,0.0240573417,-0.0606317893,0.054056935,0.0163107328,0.0416529849,-0.0199676156,0.0639150366,-0.0795403197,-0.0518897735,-0.0246514082,-0.0390069224,-0.0122596165,-0.0594212897,-0.0050073056,-0.0576788895,0.0303982738,-0.0220083836,-0.0538791567,0.0066730548,0.0256864242,0.021234164,0.0696137175,-0.0276415609,0.0263881907,0.0331039056,0.0659264773,-0.0325580537,0.0005835465,0.0186487082,0.0443311259,0.0046905205,0.0133185238,0.0160757247,0.0473214798,0.0043732398,-0.0026514607,0.0090098474,-0.034654174,0.003818034,-0.0201640539,0.021367386,0.0501545183,0.031058697,-0.0141475694,0.0092422487,-0.0582063794,-0.0193277095,-0.0473150797,-0.0201030727,0.0152299711,0.0541315041,0.0108278859,-0.0266191531,0.0595289543,-0.0064163553,-0.0450693294,-0.063999027,0.0476778895,-0.054437425,-0.0330315083,0.0494224653,0.0215400718,0.0442908481,0.0219919812,0.0553724915,-0.0426406115,0.038947016,-0.0000025979,0.0107245995,0.0040238495,-0.0488020964,0.0206668489,0.0193330515,-0.0336919129,-0.0481726043,-0.0515327677,-0.0672201961,0.020408636,0.0115799326,0.0028241544,0.0055300435,-0.003676912,0.0433953218,0.0289313849,-0.0628336668,0.0141714066,0.016946448,-0.0065229894,0.0104108779,-0.0056673065,0.0550786741,-0.0238713361,-0.006362108,-0.006599992,-0.0429644138,0.0480436645,-0.0696319193,0.0176770613,-0.0411524847,-0.020221699,-0.0196815971,0.0339367799,0.0164998621,0.0023445503,-0.0044217356,-0.0006768723,-0.0152889891,0.0123355342,-0.0141190672,-0.0285980012,-0.0156840496,-0.0081742508,-0.0179730169,0.0178530961,0.0215081815,-0.043911282,0.0117516005,-0.0074392231,-0.0591958873,-0.0066278349,0.0285273474,0.0100742029,-0.0210802201,-0.0018000969,0.0335945375,0.0315327793,0.0134667503,-0.011106669,0.0254439767,-0.030905338,-0.0207798369,-0.0080220439,0.0113721164,-0.0407031998,-0.0240817722,-0.0189980809,0.0046854513,-0.048509188,0.0246472154,-0.1369736791,0.0332970209,0.0301624369,-0.0149059808,0.0280188508,0.017917743,0.0374602675,-0.0348782465,-0.0447640046,-0.0035684169,0.0047813752,-0.0587699115,-0.0080637904,0.0081966072,-0.0371629894,-0.0215020664,-0.0049512885,0.0530402884,-0.0502689742,-0.0327360444,0.0009855259,-0.013652103,0.0899774283,-0.0122215683,-0.0223767068,0.0473813899,0.0313040726,-0.0454400256,-0.001418761,-0.0357860886,0.0114227869,-0.016124377,-0.0216226615,-0.0421998203,-0.0226981845,0.026515523,0.0394068062,0.0046839751,-0.0434747972,0.1159028485,0.033152245,0.0095216045,-0.0001713638,-0.0046781846,0.0070046228,0.0778412893,-0.0345144048,0.022434596,0.0404616706,-0.0380504541,-0.0156806149,-0.0114070419]}\n",
            "{\"id\":11,\"reviews\":\"Please don't buy!\",\"embedding\":[-0.0235202853,-0.0023065063,0.0456369556,0.0317374431,0.0615349449,-0.001474179,0.0077846074,-0.0018991119,-0.0156815294,-0.0040258286,0.0093459086,-0.0309601594,0.0167630929,0.010008893,-0.0027656935,0.000852089,-0.0298270155,-0.0518871993,0.0105876047,0.0097328909,-0.092618987,0.0189178716,0.0223070513,-0.0252518468,-0.0234922785,-0.058870703,0.0235996004,0.0022754786,-0.0351168104,-0.0167550333,0.0092081483,-0.0099924495,0.0047758599,-0.03298489,0.0138864424,0.017672196,-0.0242401566,0.0211295802,0.045736976,0.0575643517,0.0242434312,-0.0501128435,-0.0246725697,-0.0242228992,-0.0393957719,-0.0236342382,-0.0390152112,0.0386677869,-0.0285644438,-0.0227926448,-0.0269159712,-0.0226044971,0.0374867022,0.007524454,-0.0180072505,-0.0117498683,-0.0071439375,-0.0198698193,-0.0004532519,-0.0249439273,0.0284183901,0.0016791139,0.0243075471,-0.0741673633,-0.0009441752,-0.0113802273,-0.0252714362,-0.0345085002,0.0003183818,-0.0051857587,0.0291003007,0.0141036892,-0.048861213,0.0296742413,0.0276131816,-0.0224844404,0.0116425129,0.0066900924,0.0352644846,-0.045309592,-0.0012541263,-0.0053314264,-0.0817185789,-0.0896629915,-0.0043948265,0.0051268963,0.0326316841,0.0067592636,-0.0529710948,-0.0112184826,-0.0586140677,0.0393598005,0.0024879712,0.0428320915,-0.0166697334,0.0415209904,-0.0395253524,0.0028291389,-0.0209903214,0.0229800884,-0.0310091861,-0.0018246967,0.0200720914,-0.038422972,0.0084969113,0.0325751491,-0.0221371111,0.0189136043,-0.0580112711,-0.0962024778,-0.0850165263,0.0518218018,-0.0435355753,0.0146513144,0.019094212,-0.0503010191,0.0193836447,0.0238423105,0.0587836951,0.0129393777,-0.0755534843,0.0023660273,-0.0067382357,0.0373081192,0.011273318,0.0164173003,0.0152236568,-0.0286235772,-0.0160399396,0.0113585461,0.0684854239,0.0139558641,0.0381501019,-0.0726551041,0.0245674737,0.0517441109,-0.0049989233,0.0236224607,-0.0003555594,0.0667554587,-0.0711176768,0.0166183189,-0.0264746174,0.0142982779,0.0632389411,-0.0255177021,0.0509639271,-0.024457274,-0.0519048795,-0.0257077292,0.048166912,0.0038273835,-0.0676135942,0.0330093019,0.0317191407,0.0101275127,0.0339186452,0.0308364183,-0.0216716472,-0.0496413372,0.0339147337,-0.0402915701,-0.0272586923,-0.0197066646,-0.0022353632,-0.0100464076,-0.0487545617,-0.0247698929,0.0473897383,0.0505312979,0.04847987,-0.1498845071,0.0447597727,0.0000097946,0.0409947373,-0.0287428256,-0.0089324331,-0.0069801179,0.0111448457,0.0081302039,-0.0408534855,-0.0766912922,-0.0057113017,-0.0578548312,-0.0443935245,0.04254454,-0.0293280985,-0.0173849035,-0.0230259057,0.0504930094,-0.0199629758,0.0435006246,0.017271135,-0.0855933279,-0.0734098107,-0.0526103415,0.0607008561,-0.1131529212,-0.0104530677,0.016599115,-0.0517642722,-0.0252502952,-0.0151065579,-0.0353811011,-0.0551774763,-0.0187790859,-0.0308003053,0.0451792441,-0.0153298676,0.0021054163,0.0476549789,-0.0236459728,0.0597094633,-0.0308740269,-0.0425458811,0.0396815017,-0.0155080156,-0.0002039162,-0.0532733388,-0.0137177156,-0.059882924,0.0063285865,-0.020931026,0.0271258522,0.0306655988,0.0056549083,0.0240810625,0.0735732317,0.0428229198,0.0076528275,-0.0171273053,0.015966896,0.0029593417,-0.0270416681,-0.0082859304,0.0571609102,0.0304084867,0.0105480161,-0.0451850817,0.0027170014,-0.0207346547,0.1110709012,-0.0070465091,0.0749789104,-0.0156006515,0.0211895686,-0.0058786198,0.0540725812,0.0610643402,-0.0402258337,-0.0198976491,-0.0631577075,0.00356943,0.019786872,0.0030899555,-0.0118966838,-0.0338468328,0.0127184214,-0.0036985551,-0.0005310148,0.0235089455,0.010880908,0.0647981837,0.1132780686,-0.0379959866,-0.0456098355,-0.0710917339,0.0076287817,0.0258246474,0.0074307881,-0.027342787,-0.0153126325,0.0325544141,0.091575712,0.0171619188,0.0079572834,-0.0557394698,0.0474540293,0.0303574204,0.024718279,-0.0079148607,-0.0066030635,0.0022814467,0.0033831955,-0.0026454153,-0.0109821465,-0.0352875292,0.0438756905,-0.0307509676,-0.0070432038,0.0556761809,0.0050981417,-0.0374877937,0.0179027207,0.0041703647,0.0035417615,0.0786188096,-0.0042020828,-0.001742776,0.0588067733,-0.013115474,-0.0000267632,0.0173336659,-0.0316382647,0.0013833868,-0.018347742,-0.0085648531,0.0083868578,0.0133785978,-0.0261672176,0.0543385856,0.0187460724,0.0122410627,-0.0131462766,-0.0265593417,0.0442004018,0.0039224327,-0.0225855559,-0.0474734008,0.0946519971,-0.0438593253,0.002251907,0.0139877032,-0.0201838464,-0.0207030065,-0.0368115082,-0.0181267019,-0.0251109842,0.0450223014,-0.0656098276,-0.0440103933,0.0377348401,-0.0230481997,0.0350003205,-0.0019542254,0.0319054797,0.0001328082,-0.0189358816,-0.0159084331,-0.0601112172,-0.0064270217,-0.0264940653,-0.0050601289,-0.0247956235,-0.0589178242,0.0313037783,-0.0267153904,-0.0500549339,-0.0380361043,-0.0442802645,-0.0131676411,0.0307213273,-0.0266348161,0.0360401571,-0.0184699409,-0.019811742,-0.0198975876,0.0362527184,0.0397401899,-0.0012846066,-0.0628085881,-0.0318176299,-0.0308032874,0.0058411774,-0.032408502,-0.0089623118,-0.0152298016,0.021700738,0.0294568632,0.003482067,0.0344277956,0.0095907673,-0.0004781834,-0.0434285514,-0.0367471613,0.029914394,-0.0126853064,0.0558380224,-0.0309188012,0.0108925169,-0.0120376879,0.0461210869,0.0107198814,-0.0191727765,-0.0060622538,0.0262351837,0.0471411608,0.0250210147,-0.0463804677,-0.0027635312,0.0262689013,0.0297217611,0.0256173518,-0.0596335083,0.035208784,0.0512234904,0.0193862692,-0.0041022343,-0.03566036,-0.0693736821,0.0052715004,-0.0184876323,-0.0537473634,-0.0380378067,0.0207793787,0.0152908927,-0.0084638381,0.0254972316,-0.0071749566,-0.0206221808,0.0010771025,-0.042822957,0.0309303198,0.002354681,0.0224531442,-0.0359751731,-0.0699667409,-0.0495106801,0.0105480971,0.0020514277,-0.0092181237,-0.0257531311,-0.0604977235,-0.0216940548,0.0064434158,0.0132603263,-0.0891881064,0.0177283362,-0.0446312204,-0.0232828818,-0.0209150817,0.0080670035,0.0270287152,-0.0602087341,-0.065226756,-0.0565254949,0.0856915861,0.0626377463,0.0023671968,-0.0197960306,-0.0416583382,0.0092363609,-0.037906453,-0.0111174919,0.008670181,-0.0224817228,-0.0488204584,-0.0207495522,-0.0495323539,0.0041906685,-0.0677813068,0.0164192282,-0.0199103598,0.057595782,0.0459199809,0.0051826928,0.0182005074,-0.0477535203,-0.0296972226,-0.0156973246,-0.0783328116,0.0042212144,-0.0047024842,0.00884875,-0.0182684679,0.0147445351,-0.0423400253,0.004745245,-0.0065263319,0.0356732085,0.0321736634,0.0015793999,-0.0190098844,0.0030072886,0.0356326997,0.02974342,0.0641176179,0.0255382881,0.0402378812,-0.037333291,-0.0175151695,0.0317810588,0.0084538441,-0.0625332519,0.0023042951,-0.0037014231,0.0302303527,-0.0796785504,0.0327527821,0.0214622486,0.0470334589,0.0240193531,0.0051884428,-0.0379635431,0.0222836845,-0.0382746421,0.0591592342,-0.0160766989,-0.0110629369,0.0374761298,0.0399767943,-0.0078864507,0.0117897,0.0096171387,-0.0403321087,-0.0174972955,-0.0111210681,-0.0229143705,-0.0624416098,-0.0024166743,0.0016138068,0.00972581,-0.0135560306,-0.0232166387,-0.0224365722,-0.1023324206,0.0125893159,0.043539457,0.0043214113,-0.0020402395,-0.0324343108,-0.0251342878,0.0197520647,0.0113175083,0.0597878695,0.0731464848,0.0277176462,-0.0045814831,-0.0149225434,-0.0355768055,-0.038090419,0.0254614055,0.0178215448,-0.0415270291,0.0059310822,-0.0346638933,0.0343459025,-0.0024188668,0.0560853854,0.0759244114,-0.0265935473,0.0006389617,0.0653918162,-0.0069171353,-0.0059313402,0.0386070237,0.0308366399,0.0077766329,0.024938086,0.021677075,0.0428988189,-0.0587386414,-0.031210335,0.0692069009,-0.0203707721,0.0046361368,-0.0304041002,-0.0593214147,-0.0449574403,0.0047461102,-0.0144711137,0.0006901085,0.012164427,0.020616373,0.0243692528,-0.0698880926,-0.0029244877,0.0157345384,-0.0183365997,0.0653015003,-0.0100711109,-0.0199718215,-0.0193141997,-0.0153045226,0.0402530432,0.010855238,0.0200040136,0.0371073969,0.0242928248,0.029732028,-0.0150794657,0.0103828926,-0.0070091882,0.0112095224,-0.0446525142,0.0272256043,-0.0307550449,-0.0802583098,-0.0470593646,0.0120190885,0.032090459,-0.0627287626,0.0017048412,0.0228517056,-0.0939392596,0.0061112866,-0.054230202,0.0081892377,0.01478671,0.0018996119,0.0016413181,0.0140590481,0.0734577253,-0.0070637297,0.0066683558,0.0567216873,0.0337205864,0.0280000009,0.0357334353,0.0510454141,0.0565450788,0.0099147102,-0.0001690207,0.0183665249,-0.0138865449,-0.0264113098,0.0037276824,0.0446584336,0.0266685933,0.0441346727,0.0105409445,0.0117055606,-0.0408536792,-0.0808027908,0.0049120272,0.0347479545,0.0574670285,0.0410898924,0.0080122724,0.0237523168,0.0325571969,-0.0377371572,-0.0265158471,-0.044147063,0.0090509923,-0.038068708,0.0291819256,0.0098194713,0.0244217664,0.062410146,0.0430529043,0.0265162736,-0.0231671184,0.0064785904,0.0288769323,-0.0167449731,-0.0306849275,-0.0603849553,0.0022311935,0.0174806938,-0.0273388252,-0.006669431,-0.0598328598,-0.0675717145,-0.0507447869,-0.0284111127,0.0432233475,0.027384283,-0.0523223616,0.0241545606,0.0415421911,0.0333764255,0.0459836349,0.0448563509,-0.0588805303,0.0310102552,-0.0065507856,0.0290639512,-0.0293157399,0.0038586487,-0.0240725204,-0.0750140697,0.0225017034,-0.0106180301,0.0027535222,-0.0266900659,0.0149274962,-0.0039523412,0.0306689311,-0.013079389,-0.0228077509,-0.0234439019,-0.0039099264,-0.0201241132,0.0064154891,-0.0617880113,-0.0000505964,-0.0214322954,0.0085337758,-0.0273785312,0.0017896661,0.0238911603,0.0202874523,-0.0114846332,-0.0013792767,-0.0873462334,-0.0446930118,-0.0132989381,0.0012946337,0.0583826005,0.0052992748,0.0707037896,0.0251409095,0.0418035984,0.0209941361,-0.0237741135,-0.0104772458,-0.0277773961,-0.0224427469,-0.0126848882,0.0096267285,-0.0288199224,0.0152764795,0.0201040749,-0.0254660528,0.0379109792,-0.0806664899,0.034079086,0.0067181974,0.0321658067,0.0062016328,0.0598411262,0.0471950099,-0.0263035763,-0.025582388,-0.0311939288,-0.0026367463,-0.0118327653,-0.0197588727,0.0241456591,-0.0227044038,0.0147333806,0.0429583602,0.003573318,-0.0114811882,-0.0226195417,0.0246782806,0.011937459,0.0674331486,-0.0473015495,-0.0399481691,0.020940695,0.0056807166,-0.0059398212,0.0632432699,0.0131455259,0.0262472425,-0.0510484651,-0.0127203604,-0.0779287666,-0.0550294593,0.005188691,0.0608954318,-0.0136716049,-0.0104980664,0.0357555971,0.0258710049,0.0464185737,0.0157391746,0.0515601821,0.0023567989,0.0383931361,0.0090012383,0.0379550084,0.0362202562,0.0101360939,-0.0130709494,-0.0617292188]}\n",
            "{\"id\":12,\"reviews\":\"Please don't buy!\",\"embedding\":[-0.0235202853,-0.0023065063,0.0456369556,0.0317374431,0.0615349449,-0.001474179,0.0077846074,-0.0018991119,-0.0156815294,-0.0040258286,0.0093459086,-0.0309601594,0.0167630929,0.010008893,-0.0027656935,0.000852089,-0.0298270155,-0.0518871993,0.0105876047,0.0097328909,-0.092618987,0.0189178716,0.0223070513,-0.0252518468,-0.0234922785,-0.058870703,0.0235996004,0.0022754786,-0.0351168104,-0.0167550333,0.0092081483,-0.0099924495,0.0047758599,-0.03298489,0.0138864424,0.017672196,-0.0242401566,0.0211295802,0.045736976,0.0575643517,0.0242434312,-0.0501128435,-0.0246725697,-0.0242228992,-0.0393957719,-0.0236342382,-0.0390152112,0.0386677869,-0.0285644438,-0.0227926448,-0.0269159712,-0.0226044971,0.0374867022,0.007524454,-0.0180072505,-0.0117498683,-0.0071439375,-0.0198698193,-0.0004532519,-0.0249439273,0.0284183901,0.0016791139,0.0243075471,-0.0741673633,-0.0009441752,-0.0113802273,-0.0252714362,-0.0345085002,0.0003183818,-0.0051857587,0.0291003007,0.0141036892,-0.048861213,0.0296742413,0.0276131816,-0.0224844404,0.0116425129,0.0066900924,0.0352644846,-0.045309592,-0.0012541263,-0.0053314264,-0.0817185789,-0.0896629915,-0.0043948265,0.0051268963,0.0326316841,0.0067592636,-0.0529710948,-0.0112184826,-0.0586140677,0.0393598005,0.0024879712,0.0428320915,-0.0166697334,0.0415209904,-0.0395253524,0.0028291389,-0.0209903214,0.0229800884,-0.0310091861,-0.0018246967,0.0200720914,-0.038422972,0.0084969113,0.0325751491,-0.0221371111,0.0189136043,-0.0580112711,-0.0962024778,-0.0850165263,0.0518218018,-0.0435355753,0.0146513144,0.019094212,-0.0503010191,0.0193836447,0.0238423105,0.0587836951,0.0129393777,-0.0755534843,0.0023660273,-0.0067382357,0.0373081192,0.011273318,0.0164173003,0.0152236568,-0.0286235772,-0.0160399396,0.0113585461,0.0684854239,0.0139558641,0.0381501019,-0.0726551041,0.0245674737,0.0517441109,-0.0049989233,0.0236224607,-0.0003555594,0.0667554587,-0.0711176768,0.0166183189,-0.0264746174,0.0142982779,0.0632389411,-0.0255177021,0.0509639271,-0.024457274,-0.0519048795,-0.0257077292,0.048166912,0.0038273835,-0.0676135942,0.0330093019,0.0317191407,0.0101275127,0.0339186452,0.0308364183,-0.0216716472,-0.0496413372,0.0339147337,-0.0402915701,-0.0272586923,-0.0197066646,-0.0022353632,-0.0100464076,-0.0487545617,-0.0247698929,0.0473897383,0.0505312979,0.04847987,-0.1498845071,0.0447597727,0.0000097946,0.0409947373,-0.0287428256,-0.0089324331,-0.0069801179,0.0111448457,0.0081302039,-0.0408534855,-0.0766912922,-0.0057113017,-0.0578548312,-0.0443935245,0.04254454,-0.0293280985,-0.0173849035,-0.0230259057,0.0504930094,-0.0199629758,0.0435006246,0.017271135,-0.0855933279,-0.0734098107,-0.0526103415,0.0607008561,-0.1131529212,-0.0104530677,0.016599115,-0.0517642722,-0.0252502952,-0.0151065579,-0.0353811011,-0.0551774763,-0.0187790859,-0.0308003053,0.0451792441,-0.0153298676,0.0021054163,0.0476549789,-0.0236459728,0.0597094633,-0.0308740269,-0.0425458811,0.0396815017,-0.0155080156,-0.0002039162,-0.0532733388,-0.0137177156,-0.059882924,0.0063285865,-0.020931026,0.0271258522,0.0306655988,0.0056549083,0.0240810625,0.0735732317,0.0428229198,0.0076528275,-0.0171273053,0.015966896,0.0029593417,-0.0270416681,-0.0082859304,0.0571609102,0.0304084867,0.0105480161,-0.0451850817,0.0027170014,-0.0207346547,0.1110709012,-0.0070465091,0.0749789104,-0.0156006515,0.0211895686,-0.0058786198,0.0540725812,0.0610643402,-0.0402258337,-0.0198976491,-0.0631577075,0.00356943,0.019786872,0.0030899555,-0.0118966838,-0.0338468328,0.0127184214,-0.0036985551,-0.0005310148,0.0235089455,0.010880908,0.0647981837,0.1132780686,-0.0379959866,-0.0456098355,-0.0710917339,0.0076287817,0.0258246474,0.0074307881,-0.027342787,-0.0153126325,0.0325544141,0.091575712,0.0171619188,0.0079572834,-0.0557394698,0.0474540293,0.0303574204,0.024718279,-0.0079148607,-0.0066030635,0.0022814467,0.0033831955,-0.0026454153,-0.0109821465,-0.0352875292,0.0438756905,-0.0307509676,-0.0070432038,0.0556761809,0.0050981417,-0.0374877937,0.0179027207,0.0041703647,0.0035417615,0.0786188096,-0.0042020828,-0.001742776,0.0588067733,-0.013115474,-0.0000267632,0.0173336659,-0.0316382647,0.0013833868,-0.018347742,-0.0085648531,0.0083868578,0.0133785978,-0.0261672176,0.0543385856,0.0187460724,0.0122410627,-0.0131462766,-0.0265593417,0.0442004018,0.0039224327,-0.0225855559,-0.0474734008,0.0946519971,-0.0438593253,0.002251907,0.0139877032,-0.0201838464,-0.0207030065,-0.0368115082,-0.0181267019,-0.0251109842,0.0450223014,-0.0656098276,-0.0440103933,0.0377348401,-0.0230481997,0.0350003205,-0.0019542254,0.0319054797,0.0001328082,-0.0189358816,-0.0159084331,-0.0601112172,-0.0064270217,-0.0264940653,-0.0050601289,-0.0247956235,-0.0589178242,0.0313037783,-0.0267153904,-0.0500549339,-0.0380361043,-0.0442802645,-0.0131676411,0.0307213273,-0.0266348161,0.0360401571,-0.0184699409,-0.019811742,-0.0198975876,0.0362527184,0.0397401899,-0.0012846066,-0.0628085881,-0.0318176299,-0.0308032874,0.0058411774,-0.032408502,-0.0089623118,-0.0152298016,0.021700738,0.0294568632,0.003482067,0.0344277956,0.0095907673,-0.0004781834,-0.0434285514,-0.0367471613,0.029914394,-0.0126853064,0.0558380224,-0.0309188012,0.0108925169,-0.0120376879,0.0461210869,0.0107198814,-0.0191727765,-0.0060622538,0.0262351837,0.0471411608,0.0250210147,-0.0463804677,-0.0027635312,0.0262689013,0.0297217611,0.0256173518,-0.0596335083,0.035208784,0.0512234904,0.0193862692,-0.0041022343,-0.03566036,-0.0693736821,0.0052715004,-0.0184876323,-0.0537473634,-0.0380378067,0.0207793787,0.0152908927,-0.0084638381,0.0254972316,-0.0071749566,-0.0206221808,0.0010771025,-0.042822957,0.0309303198,0.002354681,0.0224531442,-0.0359751731,-0.0699667409,-0.0495106801,0.0105480971,0.0020514277,-0.0092181237,-0.0257531311,-0.0604977235,-0.0216940548,0.0064434158,0.0132603263,-0.0891881064,0.0177283362,-0.0446312204,-0.0232828818,-0.0209150817,0.0080670035,0.0270287152,-0.0602087341,-0.065226756,-0.0565254949,0.0856915861,0.0626377463,0.0023671968,-0.0197960306,-0.0416583382,0.0092363609,-0.037906453,-0.0111174919,0.008670181,-0.0224817228,-0.0488204584,-0.0207495522,-0.0495323539,0.0041906685,-0.0677813068,0.0164192282,-0.0199103598,0.057595782,0.0459199809,0.0051826928,0.0182005074,-0.0477535203,-0.0296972226,-0.0156973246,-0.0783328116,0.0042212144,-0.0047024842,0.00884875,-0.0182684679,0.0147445351,-0.0423400253,0.004745245,-0.0065263319,0.0356732085,0.0321736634,0.0015793999,-0.0190098844,0.0030072886,0.0356326997,0.02974342,0.0641176179,0.0255382881,0.0402378812,-0.037333291,-0.0175151695,0.0317810588,0.0084538441,-0.0625332519,0.0023042951,-0.0037014231,0.0302303527,-0.0796785504,0.0327527821,0.0214622486,0.0470334589,0.0240193531,0.0051884428,-0.0379635431,0.0222836845,-0.0382746421,0.0591592342,-0.0160766989,-0.0110629369,0.0374761298,0.0399767943,-0.0078864507,0.0117897,0.0096171387,-0.0403321087,-0.0174972955,-0.0111210681,-0.0229143705,-0.0624416098,-0.0024166743,0.0016138068,0.00972581,-0.0135560306,-0.0232166387,-0.0224365722,-0.1023324206,0.0125893159,0.043539457,0.0043214113,-0.0020402395,-0.0324343108,-0.0251342878,0.0197520647,0.0113175083,0.0597878695,0.0731464848,0.0277176462,-0.0045814831,-0.0149225434,-0.0355768055,-0.038090419,0.0254614055,0.0178215448,-0.0415270291,0.0059310822,-0.0346638933,0.0343459025,-0.0024188668,0.0560853854,0.0759244114,-0.0265935473,0.0006389617,0.0653918162,-0.0069171353,-0.0059313402,0.0386070237,0.0308366399,0.0077766329,0.024938086,0.021677075,0.0428988189,-0.0587386414,-0.031210335,0.0692069009,-0.0203707721,0.0046361368,-0.0304041002,-0.0593214147,-0.0449574403,0.0047461102,-0.0144711137,0.0006901085,0.012164427,0.020616373,0.0243692528,-0.0698880926,-0.0029244877,0.0157345384,-0.0183365997,0.0653015003,-0.0100711109,-0.0199718215,-0.0193141997,-0.0153045226,0.0402530432,0.010855238,0.0200040136,0.0371073969,0.0242928248,0.029732028,-0.0150794657,0.0103828926,-0.0070091882,0.0112095224,-0.0446525142,0.0272256043,-0.0307550449,-0.0802583098,-0.0470593646,0.0120190885,0.032090459,-0.0627287626,0.0017048412,0.0228517056,-0.0939392596,0.0061112866,-0.054230202,0.0081892377,0.01478671,0.0018996119,0.0016413181,0.0140590481,0.0734577253,-0.0070637297,0.0066683558,0.0567216873,0.0337205864,0.0280000009,0.0357334353,0.0510454141,0.0565450788,0.0099147102,-0.0001690207,0.0183665249,-0.0138865449,-0.0264113098,0.0037276824,0.0446584336,0.0266685933,0.0441346727,0.0105409445,0.0117055606,-0.0408536792,-0.0808027908,0.0049120272,0.0347479545,0.0574670285,0.0410898924,0.0080122724,0.0237523168,0.0325571969,-0.0377371572,-0.0265158471,-0.044147063,0.0090509923,-0.038068708,0.0291819256,0.0098194713,0.0244217664,0.062410146,0.0430529043,0.0265162736,-0.0231671184,0.0064785904,0.0288769323,-0.0167449731,-0.0306849275,-0.0603849553,0.0022311935,0.0174806938,-0.0273388252,-0.006669431,-0.0598328598,-0.0675717145,-0.0507447869,-0.0284111127,0.0432233475,0.027384283,-0.0523223616,0.0241545606,0.0415421911,0.0333764255,0.0459836349,0.0448563509,-0.0588805303,0.0310102552,-0.0065507856,0.0290639512,-0.0293157399,0.0038586487,-0.0240725204,-0.0750140697,0.0225017034,-0.0106180301,0.0027535222,-0.0266900659,0.0149274962,-0.0039523412,0.0306689311,-0.013079389,-0.0228077509,-0.0234439019,-0.0039099264,-0.0201241132,0.0064154891,-0.0617880113,-0.0000505964,-0.0214322954,0.0085337758,-0.0273785312,0.0017896661,0.0238911603,0.0202874523,-0.0114846332,-0.0013792767,-0.0873462334,-0.0446930118,-0.0132989381,0.0012946337,0.0583826005,0.0052992748,0.0707037896,0.0251409095,0.0418035984,0.0209941361,-0.0237741135,-0.0104772458,-0.0277773961,-0.0224427469,-0.0126848882,0.0096267285,-0.0288199224,0.0152764795,0.0201040749,-0.0254660528,0.0379109792,-0.0806664899,0.034079086,0.0067181974,0.0321658067,0.0062016328,0.0598411262,0.0471950099,-0.0263035763,-0.025582388,-0.0311939288,-0.0026367463,-0.0118327653,-0.0197588727,0.0241456591,-0.0227044038,0.0147333806,0.0429583602,0.003573318,-0.0114811882,-0.0226195417,0.0246782806,0.011937459,0.0674331486,-0.0473015495,-0.0399481691,0.020940695,0.0056807166,-0.0059398212,0.0632432699,0.0131455259,0.0262472425,-0.0510484651,-0.0127203604,-0.0779287666,-0.0550294593,0.005188691,0.0608954318,-0.0136716049,-0.0104980664,0.0357555971,0.0258710049,0.0464185737,0.0157391746,0.0515601821,0.0023567989,0.0383931361,0.0090012383,0.0379550084,0.0362202562,0.0101360939,-0.0130709494,-0.0617292188]}\n",
            "{\"id\":13,\"reviews\":\"Loved it!\",\"embedding\":[0.0064478409,-0.0219190493,0.0004726262,-0.0123987272,0.0236608833,0.0305777956,-0.0178847145,-0.0063747359,0.011484311,-0.0290615559,0.0115208374,0.0059008771,0.0235328767,0.009596006,-0.006325522,-0.0002346289,-0.0628545582,0.0009296091,-0.004670192,0.0265644863,-0.0769436881,0.0240221992,-0.0344913788,0.0276515223,-0.0515751578,-0.1191716716,0.0034237641,-0.0368863046,-0.0331498832,-0.062747106,-0.0093130348,-0.0172883365,0.0075621051,-0.0623679347,0.0286001526,0.0460071601,0.028033264,-0.0179935787,0.0114342868,0.0382520184,0.0175531842,-0.0096838549,0.0386950523,-0.0243209098,-0.0200342312,0.0065199877,-0.0602137707,0.0086895423,-0.038925197,-0.0268942267,-0.0051825731,-0.0243735667,0.0424211472,0.0002834296,0.0078025502,-0.0495805591,-0.0352651551,-0.0549996272,-0.002121513,0.0100784721,0.0581487343,-0.0371798947,-0.0065953196,-0.1085523963,-0.0515435562,0.026804097,-0.0056506563,-0.0227388311,-0.0246371813,0.0056353593,0.0465220697,0.01512603,-0.0576887429,0.0438642725,-0.0224072374,-0.0161953121,0.0323290192,0.0188637674,0.0595004484,-0.0243172757,-0.0318311527,-0.0296656862,-0.0178305618,-0.0621300861,-0.0086855069,0.010827194,0.0300631393,-0.02186279,-0.0567742512,-0.0394597203,-0.0488849245,0.0584408082,0.0406038836,0.0114641683,0.021781303,-0.0007462956,0.0241911616,-0.0484165251,-0.0248827264,0.0262825731,0.0358227193,-0.0300888587,0.0264431927,0.0058593373,0.0437747054,-0.0309751034,-0.0031660406,0.0264963303,-0.0300243516,-0.095692724,-0.0387569331,0.0170699768,-0.0582641028,0.0139434794,0.0366107188,-0.0660923719,0.0034596871,0.0379240736,0.0543771833,-0.016607048,-0.0246834196,-0.0204764102,-0.0237141512,-0.0133231347,-0.0045485268,0.0096614966,0.0731633753,-0.0379813686,-0.0281575061,0.0071363165,0.0325648747,-0.0205887966,0.0469549708,-0.0294760969,0.0123542771,0.0340581946,-0.0050720614,-0.0199608058,0.0176624525,0.0759270936,-0.0724259913,-0.0196298007,0.0067770821,0.0105282944,-0.0086360723,-0.034081202,0.0519404113,-0.0085599255,-0.0556663312,-0.0371236205,-0.0018141655,-0.0795734227,-0.0399327762,0.0243468285,0.0525622256,0.079496637,0.0323372148,0.0832082778,0.0277684368,-0.0392500721,0.0551365055,-0.0088837715,-0.0420235507,-0.0120160989,0.0169775542,0.0199651569,0.0234769396,0.0014743927,0.0044654529,0.0387086645,0.0446742587,-0.0729242414,-0.0216062944,-0.0607991293,0.0728052929,0.0166521538,-0.0015881328,0.0089279395,-0.0506214872,0.0193832144,-0.0031241772,-0.0965941921,0.0378227867,-0.0627708808,0.0055928789,0.0615615062,-0.0408790968,-0.0174783207,-0.0280398205,0.0311622359,0.0111779347,0.0152611444,-0.0131080318,-0.0602070056,0.0300446451,-0.0356453508,0.0503216498,-0.111958541,-0.0120833889,0.0447525233,-0.0156149212,-0.0297986064,-0.03220734,-0.0090631666,-0.0047727786,0.0111135822,-0.0775391161,0.0165794119,-0.002624844,0.0377324373,0.0334758535,-0.032798484,0.0848304629,0.0052034385,-0.0435963534,-0.0323785469,0.0226936173,-0.0628409982,-0.0793481842,-0.0225608479,0.0312998816,0.0387367085,0.0012062547,-0.0026932787,0.0094597479,0.0042381897,0.0044054473,-0.0246991236,0.0167768244,0.006721966,-0.0192477349,-0.0057779518,0.0160712749,0.0057144719,-0.0041362671,-0.0077502797,-0.0242258739,-0.0092016757,-0.0961478874,0.0245841183,-0.012387584,0.0565178394,-0.0097966716,0.0537838191,0.0053961449,0.036741402,-0.0211551543,0.0021116775,0.0683720559,0.012356231,0.0151089877,-0.0925815254,-0.0184161272,-0.0061454489,0.0261926837,-0.0185127277,-0.0031939517,0.029650189,0.0226696841,0.0199389793,-0.0140564544,0.0426821858,0.0235441085,0.1096497029,-0.0685632154,-0.0328086205,0.0355690382,-0.0020849251,0.0323433951,0.0144834248,-0.0013769303,-0.0191709884,0.0686521381,0.0286783129,-0.0204210356,-0.0109522799,-0.0142418807,0.0027803811,-0.016770089,0.0253024288,0.04151107,-0.0205831751,0.0177599583,0.0679180846,0.0372096673,-0.0484744497,-0.021724686,0.0131098591,-0.0234848764,-0.0048945504,-0.0442298204,-0.014316313,-0.0161638707,0.0685941204,-0.01931086,0.0121098235,0.0471396521,0.0078410096,-0.0197922681,0.0536960922,0.0024561379,-0.059287753,-0.0342332572,-0.0245670117,-0.0268463269,-0.0384105593,0.0573406853,-0.0069770417,0.0327755176,0.0031252634,0.0477362946,-0.0128226057,0.0009664954,-0.0120698772,0.0179839656,0.0444315299,0.0208274238,-0.0401168242,-0.0777646601,0.0488784313,-0.0931247547,0.0104725594,0.0699008331,0.0314127542,-0.0032347415,-0.0174848624,-0.0201291405,0.0075462544,-0.0043977937,-0.0651196912,0.020436408,0.0300401244,-0.0552312508,0.0282888766,-0.002086868,0.023618998,0.0160503536,0.018961437,0.0327461846,-0.0902412981,0.0301008765,-0.0692921653,0.0204266049,-0.0321043618,-0.010802554,0.0171362683,-0.0379941724,-0.0068136146,-0.0835509375,-0.0303106308,0.0142522817,0.0458580554,0.0343026109,0.0490405634,-0.0019138709,0.0164506659,0.0287635978,0.0239836704,-0.0107460897,0.0000066652,0.0216695983,0.0217237081,-0.0379160494,0.01947123,0.0127997454,0.0143539039,-0.0778672546,0.0074100168,0.0122817066,0.0055874418,0.0235556718,-0.0124728605,-0.0077618337,0.0012783943,-0.0491896495,-0.0095502874,0.0354770124,0.0426354595,0.021428531,0.0339759551,-0.0072744526,0.0046761916,0.0290176887,-0.0399198085,0.0208382029,-0.009685264,0.0921385661,0.0055313688,-0.0048384606,-0.009286751,0.0085239559,-0.0010834774,-0.0320317149,-0.0385203399,-0.0146769108,0.046205841,0.0287089199,-0.0578213893,-0.0067927721,-0.0242242478,0.0118337423,-0.0072936942,-0.020937508,-0.0249003209,0.0106286649,0.0122470176,0.0173203144,-0.0304362886,0.0765200183,-0.0056637097,0.039662838,-0.0305106789,-0.0397916473,0.0305995308,0.0524595901,-0.0420918763,-0.0089258747,-0.0207903385,0.0335397534,-0.001095476,0.0127073647,-0.012204391,-0.0433537103,-0.0110423602,-0.0222623404,-0.0058258446,-0.0607711822,-0.0130616557,-0.0309121031,-0.0557399727,-0.050085187,-0.0348590612,-0.0041436059,-0.0138214063,-0.0440667905,0.0174289644,0.0549287088,0.0457827747,0.0288264304,-0.0010086574,-0.0183692537,-0.0009176729,0.0032276562,-0.0023833863,0.0040804129,-0.0291871,-0.0276669189,-0.0336281471,-0.0486210585,-0.0359905846,0.0099938903,0.0244003292,-0.0896541849,0.0415861234,0.061923191,0.0391623974,0.0052631302,0.024382323,0.000207141,-0.017782947,-0.0093134977,-0.0267012808,0.0257313605,0.0194098223,0.0159264375,0.0145109091,0.0318143703,0.0241903421,-0.0099391071,0.0543431379,-0.021247264,0.0620615296,-0.0126937898,0.035943225,0.0402965173,-0.0232156795,0.0444201976,0.0544425622,0.0096696587,-0.0386047848,-0.0513685346,-0.000083366,-0.0049421322,-0.0849134997,0.0544901192,0.0268548485,0.001412161,-0.0523876213,-0.0397818126,0.0325903296,0.0290170349,0.0297104307,-0.0343018435,-0.0064807455,0.0274327192,-0.0375242345,0.0152546959,0.0253781956,-0.0103166355,0.051919885,-0.0055869333,-0.0070454017,0.0119527383,-0.0502798855,0.0195047576,0.0479080789,-0.0061752265,-0.0275383182,-0.0578217171,0.0121851023,-0.0398561172,0.0299207699,-0.0199749079,0.0074154884,-0.0432728492,-0.0268898513,-0.0042792112,0.0280528497,-0.0051146462,-0.0202583671,0.0033722129,-0.0252333339,-0.0169086773,0.0223480724,0.0641402751,0.0190621857,0.0762270391,-0.0206138026,-0.0101231979,-0.0040492807,-0.0500230603,-0.0071317353,0.0047844057,0.0036087143,-0.0052462625,-0.0452916883,0.0167448036,0.0100567006,0.0270567928,0.0462253913,-0.0635179654,-0.013354796,0.0609078854,0.0068079662,0.0303983446,0.0552317351,0.0477271266,0.026127927,0.0263081957,0.0490877703,0.0320231132,-0.0357569344,-0.0446431562,0.0631631091,0.0382378846,-0.034304738,-0.0142769013,-0.039853733,-0.0054716701,-0.0246562846,-0.0016350406,-0.0313081965,-0.0286173858,0.0059078177,0.030663576,-0.0415470377,-0.0141127566,0.048549857,-0.0238743201,0.0162008666,0.0053355494,-0.0345275737,-0.0542002842,-0.0297225304,0.0216624476,0.0313119553,-0.0505036265,0.0240573417,-0.0606317893,0.054056935,0.0163107328,0.0416529849,-0.0199676156,0.0639150366,-0.0795403197,-0.0518897735,-0.0246514082,-0.0390069224,-0.0122596165,-0.0594212897,-0.0050073056,-0.0576788895,0.0303982738,-0.0220083836,-0.0538791567,0.0066730548,0.0256864242,0.021234164,0.0696137175,-0.0276415609,0.0263881907,0.0331039056,0.0659264773,-0.0325580537,0.0005835465,0.0186487082,0.0443311259,0.0046905205,0.0133185238,0.0160757247,0.0473214798,0.0043732398,-0.0026514607,0.0090098474,-0.034654174,0.003818034,-0.0201640539,0.021367386,0.0501545183,0.031058697,-0.0141475694,0.0092422487,-0.0582063794,-0.0193277095,-0.0473150797,-0.0201030727,0.0152299711,0.0541315041,0.0108278859,-0.0266191531,0.0595289543,-0.0064163553,-0.0450693294,-0.063999027,0.0476778895,-0.054437425,-0.0330315083,0.0494224653,0.0215400718,0.0442908481,0.0219919812,0.0553724915,-0.0426406115,0.038947016,-0.0000025979,0.0107245995,0.0040238495,-0.0488020964,0.0206668489,0.0193330515,-0.0336919129,-0.0481726043,-0.0515327677,-0.0672201961,0.020408636,0.0115799326,0.0028241544,0.0055300435,-0.003676912,0.0433953218,0.0289313849,-0.0628336668,0.0141714066,0.016946448,-0.0065229894,0.0104108779,-0.0056673065,0.0550786741,-0.0238713361,-0.006362108,-0.006599992,-0.0429644138,0.0480436645,-0.0696319193,0.0176770613,-0.0411524847,-0.020221699,-0.0196815971,0.0339367799,0.0164998621,0.0023445503,-0.0044217356,-0.0006768723,-0.0152889891,0.0123355342,-0.0141190672,-0.0285980012,-0.0156840496,-0.0081742508,-0.0179730169,0.0178530961,0.0215081815,-0.043911282,0.0117516005,-0.0074392231,-0.0591958873,-0.0066278349,0.0285273474,0.0100742029,-0.0210802201,-0.0018000969,0.0335945375,0.0315327793,0.0134667503,-0.011106669,0.0254439767,-0.030905338,-0.0207798369,-0.0080220439,0.0113721164,-0.0407031998,-0.0240817722,-0.0189980809,0.0046854513,-0.048509188,0.0246472154,-0.1369736791,0.0332970209,0.0301624369,-0.0149059808,0.0280188508,0.017917743,0.0374602675,-0.0348782465,-0.0447640046,-0.0035684169,0.0047813752,-0.0587699115,-0.0080637904,0.0081966072,-0.0371629894,-0.0215020664,-0.0049512885,0.0530402884,-0.0502689742,-0.0327360444,0.0009855259,-0.013652103,0.0899774283,-0.0122215683,-0.0223767068,0.0473813899,0.0313040726,-0.0454400256,-0.001418761,-0.0357860886,0.0114227869,-0.016124377,-0.0216226615,-0.0421998203,-0.0226981845,0.026515523,0.0394068062,0.0046839751,-0.0434747972,0.1159028485,0.033152245,0.0095216045,-0.0001713638,-0.0046781846,0.0070046228,0.0778412893,-0.0345144048,0.022434596,0.0404616706,-0.0380504541,-0.0156806149,-0.0114070419]}\n"
          ]
        }
      ],
      "source": [
        "# save id and embedding as a json file\n",
        "jsonl_string = df[[\"id\", \"reviews\", \"embedding\"]].to_json(orient=\"records\", lines=True)\n",
        "with open(\"questions.json\", \"w\") as f:\n",
        "    f.write(jsonl_string)\n",
        "\n",
        "# show the first few lines of the json file\n",
        "! head -n 13 questions.json"
      ]
    },
    {
      "cell_type": "code",
      "execution_count": 24,
      "id": "IZD6ILl9LUB6",
      "metadata": {
        "colab": {
          "base_uri": "https://localhost:8080/"
        },
        "executionInfo": {
          "elapsed": 4781,
          "status": "ok",
          "timestamp": 1713746661314,
          "user": {
            "displayName": "",
            "userId": ""
          },
          "user_tz": 300
        },
        "id": "IZD6ILl9LUB6",
        "outputId": "9d08a774-cef1-44d0-cfb3-b827b5380e13"
      },
      "outputs": [
        {
          "name": "stdout",
          "output_type": "stream",
          "text": [
            "Creating gs://genai-387917-embvs-tutorial-04220040/...\n",
            "ServiceException: 409 A Cloud Storage bucket named 'genai-387917-embvs-tutorial-04220040' already exists. Try another name. Bucket names must be globally unique across all Google Cloud projects, including those outside of your organization.\n",
            "Copying file://questions.json [Content-Type=application/json]...\n",
            "/ [1 files][252.3 KiB/252.3 KiB]                                                \n",
            "Operation completed over 1 objects/252.3 KiB.                                    \n"
          ]
        }
      ],
      "source": [
        "BUCKET_URI = f\"gs://{PROJECT_ID}-embvs-tutorial-{UID}\"\n",
        "! gsutil mb -l $LOCATION -p {PROJECT_ID} {BUCKET_URI}\n",
        "! gsutil cp questions.json {BUCKET_URI}"
      ]
    },
    {
      "cell_type": "code",
      "execution_count": 25,
      "id": "JO8XazR80PTD",
      "metadata": {
        "executionInfo": {
          "elapsed": 142,
          "status": "ok",
          "timestamp": 1713746677469,
          "user": {
            "displayName": "",
            "userId": ""
          },
          "user_tz": 300
        },
        "id": "JO8XazR80PTD"
      },
      "outputs": [],
      "source": [
        "# init the aiplatform package\n",
        "from google.cloud import aiplatform\n",
        "\n",
        "aiplatform.init(project=PROJECT_ID, location=LOCATION)"
      ]
    },
    {
      "cell_type": "code",
      "execution_count": null,
      "id": "tsGSx2K10Uxw",
      "metadata": {
        "id": "tsGSx2K10Uxw"
      },
      "outputs": [],
      "source": [
        "# create Index\n",
        "my_index = aiplatform.MatchingEngineIndex.create_tree_ah_index(\n",
        "    display_name=f\"embvs-tutorial-index-{UID}\",\n",
        "    contents_delta_uri=BUCKET_URI,\n",
        "    dimensions=768,\n",
        "    approximate_neighbors_count=10,\n",
        "     distance_measure_type=\"DOT_PRODUCT_DISTANCE\",\n",
        ")"
      ]
    },
    {
      "cell_type": "code",
      "execution_count": null,
      "id": "K-cMPsnc0dmo",
      "metadata": {
        "id": "K-cMPsnc0dmo"
      },
      "outputs": [],
      "source": [
        "# create IndexEndpoint\n",
        "my_index_endpoint = aiplatform.MatchingEngineIndexEndpoint.create(\n",
        "    display_name=f\"embvs-tutorial-index-{UID}\", public_endpoint_enabled=True\n",
        ")"
      ]
    },
    {
      "cell_type": "code",
      "execution_count": null,
      "id": "uZ-REN8PPzI1",
      "metadata": {
        "id": "uZ-REN8PPzI1"
      },
      "outputs": [],
      "source": [
        "#my_index_id = \"5836898213537251328\"\n",
        "#my_index = aiplatform.MatchingEngineIndex(my_index_id)"
      ]
    },
    {
      "cell_type": "code",
      "execution_count": null,
      "id": "uxC7Y2BrRbme",
      "metadata": {
        "id": "uxC7Y2BrRbme"
      },
      "outputs": [],
      "source": [
        "#my_index_endpoint_id = \"4019273551428190208\"\n",
        "#my_index_endpoint = aiplatform.MatchingEngineIndexEndpoint(my_index_endpoint_id)"
      ]
    },
    {
      "cell_type": "code",
      "execution_count": 28,
      "id": "n2hBkJdl2hf2",
      "metadata": {
        "executionInfo": {
          "elapsed": 126,
          "status": "ok",
          "timestamp": 1713746727168,
          "user": {
            "displayName": "",
            "userId": ""
          },
          "user_tz": 300
        },
        "id": "n2hBkJdl2hf2"
      },
      "outputs": [],
      "source": [
        "DEPLOYED_INDEX_ID = f\"embvs_tutorial_deployed_{UID}\""
      ]
    },
    {
      "cell_type": "code",
      "execution_count": 29,
      "id": "01WYZsSs2ifi",
      "metadata": {
        "colab": {
          "base_uri": "https://localhost:8080/"
        },
        "executionInfo": {
          "elapsed": 2,
          "status": "ok",
          "timestamp": 1713748700008,
          "user": {
            "displayName": "",
            "userId": ""
          },
          "user_tz": 300
        },
        "id": "01WYZsSs2ifi",
        "outputId": "e8661e45-9fcf-4fe8-cfb7-1400e96d0c35"
      },
      "outputs": [
        {
          "name": "stderr",
          "output_type": "stream",
          "text": [
            "INFO:google.cloud.aiplatform.matching_engine.matching_engine_index_endpoint:Deploying index MatchingEngineIndexEndpoint index_endpoint: projects/95065625117/locations/us-central1/indexEndpoints/1490924573124722688\n",
            "INFO:google.cloud.aiplatform.matching_engine.matching_engine_index_endpoint:Deploy index MatchingEngineIndexEndpoint index_endpoint backing LRO: projects/95065625117/locations/us-central1/indexEndpoints/1490924573124722688/operations/7109115114850091008\n",
            "INFO:google.cloud.aiplatform.matching_engine.matching_engine_index_endpoint:MatchingEngineIndexEndpoint index_endpoint Deployed index. Resource name: projects/95065625117/locations/us-central1/indexEndpoints/1490924573124722688\n"
          ]
        },
        {
          "data": {
            "text/plain": [
              "<google.cloud.aiplatform.matching_engine.matching_engine_index_endpoint.MatchingEngineIndexEndpoint object at 0x7ce1ce0f3e20> \n",
              "resource name: projects/95065625117/locations/us-central1/indexEndpoints/1490924573124722688"
            ]
          },
          "execution_count": 29,
          "metadata": {},
          "output_type": "execute_result"
        }
      ],
      "source": [
        "my_index_endpoint.deploy_index(index=my_index, deployed_index_id=DEPLOYED_INDEX_ID)"
      ]
    },
    {
      "cell_type": "code",
      "execution_count": 33,
      "id": "yy5GeNED-0jN",
      "metadata": {
        "colab": {
          "base_uri": "https://localhost:8080/"
        },
        "executionInfo": {
          "elapsed": 1289,
          "status": "ok",
          "timestamp": 1713748757139,
          "user": {
            "displayName": "",
            "userId": ""
          },
          "user_tz": 300
        },
        "id": "yy5GeNED-0jN",
        "outputId": "f1743656-a76f-442f-cb1b-e1a1c77ce8cd"
      },
      "outputs": [
        {
          "name": "stderr",
          "output_type": "stream",
          "text": [
            "100%|██████████| 1/1 [00:01<00:00,  1.11s/it]\n"
          ]
        }
      ],
      "source": [
        "#Embedded the search text\n",
        "test_embeddings = get_embeddings_wrapper([\"Great products\"])"
      ]
    },
    {
      "cell_type": "code",
      "execution_count": 34,
      "id": "8uelCtId_IbC",
      "metadata": {
        "colab": {
          "base_uri": "https://localhost:8080/"
        },
        "executionInfo": {
          "elapsed": 229,
          "status": "ok",
          "timestamp": 1713748758256,
          "user": {
            "displayName": "",
            "userId": ""
          },
          "user_tz": 300
        },
        "id": "8uelCtId_IbC",
        "outputId": "bbe63cb3-932e-4c05-b556-96d0d5a51cb6"
      },
      "outputs": [
        {
          "name": "stdout",
          "output_type": "stream",
          "text": [
            "0.9129 great product\n",
            "0.8988 fantastic product\n",
            "0.8468 The product is good\n",
            "0.7857 Better products are available\n",
            "0.7734 Horrible product\n",
            "0.7294 The product is bad\n",
            "0.6542 service was super\n",
            "0.6516 Please don't buy!\n",
            "0.6516 Please don't buy!\n",
            "0.6516 Please don't buy!\n",
            "0.6516 Please don't buy!\n",
            "0.6516 Please don't buy!\n",
            "0.6516 Please don't buy!\n",
            "0.6241 service was superlative\n",
            "0.6151 Would never buy\n"
          ]
        }
      ],
      "source": [
        "# Test query\n",
        "response = my_index_endpoint.find_neighbors(\n",
        "    deployed_index_id=DEPLOYED_INDEX_ID,\n",
        "    queries=test_embeddings,\n",
        "    num_neighbors=15,\n",
        ")\n",
        "# show the result\n",
        "import numpy as np\n",
        "\n",
        "for idx, neighbor in enumerate(response[0]):\n",
        "    id = np.int64(neighbor.id)\n",
        "    similar = df.query(\"id == @id\", engine=\"python\")\n",
        "    print(f\"{neighbor.distance:.4f} {similar.reviews.values[0]}\")"
      ]
    }
  ],
  "metadata": {
    "colab": {
      "name": "scratchpadRAG-Latest.ipynb",
      "provenance": []
    },
    "kernelspec": {
      "display_name": "Python 3",
      "language": "python",
      "name": "python3"
    },
    "language_info": {
      "codemirror_mode": {
        "name": "ipython",
        "version": 3
      },
      "file_extension": ".py",
      "mimetype": "text/x-python",
      "name": "python",
      "nbconvert_exporter": "python",
      "pygments_lexer": "ipython3",
      "version": "3.10.10"
    }
  },
  "nbformat": 4,
  "nbformat_minor": 5
}
